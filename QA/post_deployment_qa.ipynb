{
 "cells": [
  {
   "cell_type": "markdown",
   "metadata": {},
   "source": [
    "# Post Deployment Language Switching QA"
   ]
  },
  {
   "cell_type": "markdown",
   "metadata": {},
   "source": [
    "[Task](https://phabricator.wikimedia.org/T275762)\n",
    "|\n",
    "[Schema](https://gerrit.wikimedia.org/r/plugins/gitiles/schemas/event/secondary/+/refs/heads/master/jsonschema/analytics/legacy/universallanguageselector/current.yaml)"
   ]
  },
  {
   "cell_type": "markdown",
   "metadata": {},
   "source": [
    "# Contents\n",
    "1. [Language Links in the Sidebar](#Language-Links-in-the-Sidebar)\n",
    "2. [Language Switcher Button](#Language-Switcher-Button)\n",
    "3. [Language Button Context Events](#Language-Button-Context-Events)"
   ]
  },
  {
   "cell_type": "code",
   "execution_count": 6,
   "metadata": {},
   "outputs": [],
   "source": [
    "shhh <- function(expr) suppressPackageStartupMessages(suppressWarnings(suppressMessages(expr)))\n",
    "shhh({\n",
    "    library(tidyverse); \n",
    "    library(lubridate); \n",
    "    library(scales);\n",
    "    library(magrittr); \n",
    "    library(dplyr)\n",
    "})\n"
   ]
  },
  {
   "cell_type": "markdown",
   "metadata": {},
   "source": [
    "## Language Links in the Siderbar\n",
    "\n",
    "[Instrumentation Task](https://phabricator.wikimedia.org/T275762)\n",
    "\n",
    "Instrumentation Notes:\n",
    "- Instrumentation limited to legacy sidebar in modern Vector.\n",
    "- Logged as `event.context = 'languages-list'`"
   ]
  },
  {
   "cell_type": "code",
   "execution_count": 2,
   "metadata": {},
   "outputs": [],
   "source": [
    "query <- \n",
    "\"\n",
    "SELECT\n",
    "    TO_DATE(dt) AS `date`,\n",
    "    wiki,\n",
    "    event.web_session_id,\n",
    "    event.usereditbucket,\n",
    "    event.timetochangelanguage,\n",
    "    event.isanon,\n",
    "    event.interfacelanguage,\n",
    "    event.contentlanguage,\n",
    "    event.selectedinterfacelanguage,\n",
    "    Count(*) AS n_events\n",
    "FROM event.universallanguageselector\n",
    "WHERE\n",
    "    year = 2021\n",
    "    AND ((Month = 04 AND DAY > 26) OR (MONTH = 05))\n",
    "    AND event.context = 'languages-list'\n",
    "GROUP BY\n",
    "    TO_DATE(dt),\n",
    "    wiki,\n",
    "    event.web_session_id,\n",
    "    event.usereditbucket,\n",
    "    event.timetochangelanguage,\n",
    "    event.isanon,\n",
    "    event.interfacelanguage,\n",
    "    event.contentlanguage,\n",
    "    event.selectedinterfacelanguage\n",
    "\""
   ]
  },
  {
   "cell_type": "code",
   "execution_count": 3,
   "metadata": {},
   "outputs": [
    {
     "name": "stderr",
     "output_type": "stream",
     "text": [
      "Don't forget to authenticate with Kerberos using kinit\n",
      "\n"
     ]
    }
   ],
   "source": [
    "lang_link_events <-  wmfdata::query_hive(query)"
   ]
  },
  {
   "cell_type": "code",
   "execution_count": 4,
   "metadata": {},
   "outputs": [],
   "source": [
    "lang_link_events$date <- as.Date(lang_link_events$date)"
   ]
  },
  {
   "cell_type": "markdown",
   "metadata": {},
   "source": [
    "## Daily Langauge Link Events"
   ]
  },
  {
   "cell_type": "code",
   "execution_count": 5,
   "metadata": {},
   "outputs": [
    {
     "name": "stderr",
     "output_type": "stream",
     "text": [
      "`summarise()` ungrouping output (override with `.groups` argument)\n",
      "\n"
     ]
    },
    {
     "data": {
      "text/html": [
       "<table>\n",
       "<caption>A tibble: 16 × 3</caption>\n",
       "<thead>\n",
       "\t<tr><th scope=col>date</th><th scope=col>n_events</th><th scope=col>n_sessions</th></tr>\n",
       "\t<tr><th scope=col>&lt;date&gt;</th><th scope=col>&lt;int&gt;</th><th scope=col>&lt;int&gt;</th></tr>\n",
       "</thead>\n",
       "<tbody>\n",
       "\t<tr><td>2021-04-28</td><td>   791</td><td>   636</td></tr>\n",
       "\t<tr><td>2021-04-29</td><td> 46934</td><td> 33173</td></tr>\n",
       "\t<tr><td>2021-04-30</td><td>274519</td><td>177001</td></tr>\n",
       "\t<tr><td>2021-05-01</td><td>243709</td><td>151370</td></tr>\n",
       "\t<tr><td>2021-05-02</td><td>258630</td><td>161650</td></tr>\n",
       "\t<tr><td>2021-05-03</td><td>303583</td><td>195465</td></tr>\n",
       "\t<tr><td>2021-05-04</td><td>300642</td><td>194931</td></tr>\n",
       "\t<tr><td>2021-05-05</td><td>295520</td><td>191876</td></tr>\n",
       "\t<tr><td>2021-05-06</td><td>291788</td><td>190268</td></tr>\n",
       "\t<tr><td>2021-05-07</td><td>265159</td><td>171239</td></tr>\n",
       "\t<tr><td>2021-05-08</td><td>225456</td><td>141143</td></tr>\n",
       "\t<tr><td>2021-05-09</td><td>244182</td><td>152870</td></tr>\n",
       "\t<tr><td>2021-05-10</td><td>301699</td><td>196353</td></tr>\n",
       "\t<tr><td>2021-05-11</td><td>296753</td><td>193206</td></tr>\n",
       "\t<tr><td>2021-05-12</td><td>278392</td><td>181382</td></tr>\n",
       "\t<tr><td>2021-05-13</td><td> 54123</td><td> 37258</td></tr>\n",
       "</tbody>\n",
       "</table>\n"
      ],
      "text/latex": [
       "A tibble: 16 × 3\n",
       "\\begin{tabular}{lll}\n",
       " date & n\\_events & n\\_sessions\\\\\n",
       " <date> & <int> & <int>\\\\\n",
       "\\hline\n",
       "\t 2021-04-28 &    791 &    636\\\\\n",
       "\t 2021-04-29 &  46934 &  33173\\\\\n",
       "\t 2021-04-30 & 274519 & 177001\\\\\n",
       "\t 2021-05-01 & 243709 & 151370\\\\\n",
       "\t 2021-05-02 & 258630 & 161650\\\\\n",
       "\t 2021-05-03 & 303583 & 195465\\\\\n",
       "\t 2021-05-04 & 300642 & 194931\\\\\n",
       "\t 2021-05-05 & 295520 & 191876\\\\\n",
       "\t 2021-05-06 & 291788 & 190268\\\\\n",
       "\t 2021-05-07 & 265159 & 171239\\\\\n",
       "\t 2021-05-08 & 225456 & 141143\\\\\n",
       "\t 2021-05-09 & 244182 & 152870\\\\\n",
       "\t 2021-05-10 & 301699 & 196353\\\\\n",
       "\t 2021-05-11 & 296753 & 193206\\\\\n",
       "\t 2021-05-12 & 278392 & 181382\\\\\n",
       "\t 2021-05-13 &  54123 &  37258\\\\\n",
       "\\end{tabular}\n"
      ],
      "text/markdown": [
       "\n",
       "A tibble: 16 × 3\n",
       "\n",
       "| date &lt;date&gt; | n_events &lt;int&gt; | n_sessions &lt;int&gt; |\n",
       "|---|---|---|\n",
       "| 2021-04-28 |    791 |    636 |\n",
       "| 2021-04-29 |  46934 |  33173 |\n",
       "| 2021-04-30 | 274519 | 177001 |\n",
       "| 2021-05-01 | 243709 | 151370 |\n",
       "| 2021-05-02 | 258630 | 161650 |\n",
       "| 2021-05-03 | 303583 | 195465 |\n",
       "| 2021-05-04 | 300642 | 194931 |\n",
       "| 2021-05-05 | 295520 | 191876 |\n",
       "| 2021-05-06 | 291788 | 190268 |\n",
       "| 2021-05-07 | 265159 | 171239 |\n",
       "| 2021-05-08 | 225456 | 141143 |\n",
       "| 2021-05-09 | 244182 | 152870 |\n",
       "| 2021-05-10 | 301699 | 196353 |\n",
       "| 2021-05-11 | 296753 | 193206 |\n",
       "| 2021-05-12 | 278392 | 181382 |\n",
       "| 2021-05-13 |  54123 |  37258 |\n",
       "\n"
      ],
      "text/plain": [
       "   date       n_events n_sessions\n",
       "1  2021-04-28    791      636    \n",
       "2  2021-04-29  46934    33173    \n",
       "3  2021-04-30 274519   177001    \n",
       "4  2021-05-01 243709   151370    \n",
       "5  2021-05-02 258630   161650    \n",
       "6  2021-05-03 303583   195465    \n",
       "7  2021-05-04 300642   194931    \n",
       "8  2021-05-05 295520   191876    \n",
       "9  2021-05-06 291788   190268    \n",
       "10 2021-05-07 265159   171239    \n",
       "11 2021-05-08 225456   141143    \n",
       "12 2021-05-09 244182   152870    \n",
       "13 2021-05-10 301699   196353    \n",
       "14 2021-05-11 296753   193206    \n",
       "15 2021-05-12 278392   181382    \n",
       "16 2021-05-13  54123    37258    "
      ]
     },
     "metadata": {},
     "output_type": "display_data"
    }
   ],
   "source": [
    "lang_link_events_daily <- lang_link_events %>%\n",
    "    group_by(date) %>%\n",
    "    summarize(n_events = sum(n_events),\n",
    "             n_sessions = n_distinct(web_session_id))\n",
    "\n",
    "lang_link_events_daily"
   ]
  },
  {
   "cell_type": "markdown",
   "metadata": {},
   "source": [
    "We start recording events on 28 April 2021. There are an average 176,827 sessions per day including sessions by both logged in and logged out users. No unexpected spikes or drops so far."
   ]
  },
  {
   "cell_type": "markdown",
   "metadata": {},
   "source": [
    "## Clicks per session"
   ]
  },
  {
   "cell_type": "code",
   "execution_count": null,
   "metadata": {},
   "outputs": [],
   "source": [
    "Check to make sure there are duplicate session id. Some sessions should have more than one click event."
   ]
  },
  {
   "cell_type": "code",
   "execution_count": 9,
   "metadata": {},
   "outputs": [
    {
     "data": {
      "text/html": [
       "FALSE"
      ],
      "text/latex": [
       "FALSE"
      ],
      "text/markdown": [
       "FALSE"
      ],
      "text/plain": [
       "[1] FALSE"
      ]
     },
     "metadata": {},
     "output_type": "display_data"
    }
   ],
   "source": [
    "length(unique(lang_link_events$web_session_id)) == nrow(lang_link_events)"
   ]
  },
  {
   "cell_type": "code",
   "execution_count": 12,
   "metadata": {},
   "outputs": [
    {
     "name": "stderr",
     "output_type": "stream",
     "text": [
      "`summarise()` ungrouping output (override with `.groups` argument)\n",
      "\n"
     ]
    },
    {
     "data": {
      "text/html": [
       "<table>\n",
       "<caption>A tibble: 2 × 4</caption>\n",
       "<thead>\n",
       "\t<tr><th scope=col>isanon</th><th scope=col>avg_clicks</th><th scope=col>max_clicks</th><th scope=col>min_clciks</th></tr>\n",
       "\t<tr><th scope=col>&lt;chr&gt;</th><th scope=col>&lt;dbl&gt;</th><th scope=col>&lt;int&gt;</th><th scope=col>&lt;int&gt;</th></tr>\n",
       "</thead>\n",
       "<tbody>\n",
       "\t<tr><td>false</td><td>1.000327</td><td>2</td><td>1</td></tr>\n",
       "\t<tr><td>true </td><td>1.000169</td><td>4</td><td>1</td></tr>\n",
       "</tbody>\n",
       "</table>\n"
      ],
      "text/latex": [
       "A tibble: 2 × 4\n",
       "\\begin{tabular}{llll}\n",
       " isanon & avg\\_clicks & max\\_clicks & min\\_clciks\\\\\n",
       " <chr> & <dbl> & <int> & <int>\\\\\n",
       "\\hline\n",
       "\t false & 1.000327 & 2 & 1\\\\\n",
       "\t true  & 1.000169 & 4 & 1\\\\\n",
       "\\end{tabular}\n"
      ],
      "text/markdown": [
       "\n",
       "A tibble: 2 × 4\n",
       "\n",
       "| isanon &lt;chr&gt; | avg_clicks &lt;dbl&gt; | max_clicks &lt;int&gt; | min_clciks &lt;int&gt; |\n",
       "|---|---|---|---|\n",
       "| false | 1.000327 | 2 | 1 |\n",
       "| true  | 1.000169 | 4 | 1 |\n",
       "\n"
      ],
      "text/plain": [
       "  isanon avg_clicks max_clicks min_clciks\n",
       "1 false  1.000327   2          1         \n",
       "2 true   1.000169   4          1         "
      ]
     },
     "metadata": {},
     "output_type": "display_data"
    }
   ],
   "source": [
    "lang_link_events_persession <- lang_link_events %>%\n",
    "    group_by(isanon) %>%\n",
    "    summarize(avg_clicks = mean(n_events),\n",
    "              max_clicks = max(n_events),\n",
    "              min_clciks = min(n_events))\n",
    "\n",
    "lang_link_events_persession"
   ]
  },
  {
   "cell_type": "markdown",
   "metadata": {},
   "source": [
    "## By Logged In Status"
   ]
  },
  {
   "cell_type": "code",
   "execution_count": 13,
   "metadata": {},
   "outputs": [
    {
     "name": "stderr",
     "output_type": "stream",
     "text": [
      "`summarise()` ungrouping output (override with `.groups` argument)\n",
      "\n"
     ]
    },
    {
     "data": {
      "text/html": [
       "<table>\n",
       "<caption>A tibble: 2 × 3</caption>\n",
       "<thead>\n",
       "\t<tr><th scope=col>isanon</th><th scope=col>n_events</th><th scope=col>n_sessions</th></tr>\n",
       "\t<tr><th scope=col>&lt;chr&gt;</th><th scope=col>&lt;int&gt;</th><th scope=col>&lt;int&gt;</th></tr>\n",
       "</thead>\n",
       "<tbody>\n",
       "\t<tr><td>false</td><td> 113161</td><td>  46278</td></tr>\n",
       "\t<tr><td>true </td><td>3568719</td><td>2058676</td></tr>\n",
       "</tbody>\n",
       "</table>\n"
      ],
      "text/latex": [
       "A tibble: 2 × 3\n",
       "\\begin{tabular}{lll}\n",
       " isanon & n\\_events & n\\_sessions\\\\\n",
       " <chr> & <int> & <int>\\\\\n",
       "\\hline\n",
       "\t false &  113161 &   46278\\\\\n",
       "\t true  & 3568719 & 2058676\\\\\n",
       "\\end{tabular}\n"
      ],
      "text/markdown": [
       "\n",
       "A tibble: 2 × 3\n",
       "\n",
       "| isanon &lt;chr&gt; | n_events &lt;int&gt; | n_sessions &lt;int&gt; |\n",
       "|---|---|---|\n",
       "| false |  113161 |   46278 |\n",
       "| true  | 3568719 | 2058676 |\n",
       "\n"
      ],
      "text/plain": [
       "  isanon n_events n_sessions\n",
       "1 false   113161    46278   \n",
       "2 true   3568719  2058676   "
      ]
     },
     "metadata": {},
     "output_type": "display_data"
    }
   ],
   "source": [
    "lang_link_events_isanon <- lang_link_events %>%\n",
    "    group_by(isanon) %>%\n",
    "    summarize(n_events = sum(n_events),\n",
    "             n_sessions = n_distinct(web_session_id))\n",
    "\n",
    "lang_link_events_isanon "
   ]
  },
  {
   "cell_type": "markdown",
   "metadata": {},
   "source": [
    "97.8% of all sessions with clicks to the language links are by logged out users. That's high but expected because instrumentation was limited to legacy sidebar in modern Vector (not from legacy or other skins such as timeless). The new language switching functionality was made available to all logged-in users opted into the latest version of the Vector skin.\n",
    "\n",
    "Legacy sidebar in modern Vector would mostly appear to logged-out users on test wikis where Vector is deployed as default.\n"
   ]
  },
  {
   "cell_type": "markdown",
   "metadata": {},
   "source": [
    "## By Test Wiki"
   ]
  },
  {
   "cell_type": "code",
   "execution_count": 36,
   "metadata": {},
   "outputs": [
    {
     "name": "stderr",
     "output_type": "stream",
     "text": [
      "`summarise()` ungrouping output (override with `.groups` argument)\n",
      "\n"
     ]
    },
    {
     "data": {
      "text/html": [
       "<table>\n",
       "<caption>A tibble: 13 × 3</caption>\n",
       "<thead>\n",
       "\t<tr><th scope=col>wiki</th><th scope=col>n_events</th><th scope=col>n_sessions</th></tr>\n",
       "\t<tr><th scope=col>&lt;chr&gt;</th><th scope=col>&lt;int&gt;</th><th scope=col>&lt;int&gt;</th></tr>\n",
       "</thead>\n",
       "<tbody>\n",
       "\t<tr><td>bnwiki       </td><td>   8451</td><td>   5726</td></tr>\n",
       "\t<tr><td>dewikivoyage </td><td>    755</td><td>    604</td></tr>\n",
       "\t<tr><td>euwiki       </td><td>  31609</td><td>  22351</td></tr>\n",
       "\t<tr><td>fawiki       </td><td> 200781</td><td> 110092</td></tr>\n",
       "\t<tr><td>frwiki       </td><td>1933743</td><td>1091442</td></tr>\n",
       "\t<tr><td>frwiktionary </td><td>  21307</td><td>  13350</td></tr>\n",
       "\t<tr><td>hewiki       </td><td> 173526</td><td> 100165</td></tr>\n",
       "\t<tr><td>kowiki       </td><td> 146461</td><td>  81522</td></tr>\n",
       "\t<tr><td>ptwiki       </td><td> 555228</td><td> 328675</td></tr>\n",
       "\t<tr><td>ptwikiversity</td><td>     15</td><td>     13</td></tr>\n",
       "\t<tr><td>srwiki       </td><td>  98359</td><td>  56521</td></tr>\n",
       "\t<tr><td>trwiki       </td><td> 256347</td><td> 151107</td></tr>\n",
       "\t<tr><td>vecwiki      </td><td>   1348</td><td>   1133</td></tr>\n",
       "</tbody>\n",
       "</table>\n"
      ],
      "text/latex": [
       "A tibble: 13 × 3\n",
       "\\begin{tabular}{lll}\n",
       " wiki & n\\_events & n\\_sessions\\\\\n",
       " <chr> & <int> & <int>\\\\\n",
       "\\hline\n",
       "\t bnwiki        &    8451 &    5726\\\\\n",
       "\t dewikivoyage  &     755 &     604\\\\\n",
       "\t euwiki        &   31609 &   22351\\\\\n",
       "\t fawiki        &  200781 &  110092\\\\\n",
       "\t frwiki        & 1933743 & 1091442\\\\\n",
       "\t frwiktionary  &   21307 &   13350\\\\\n",
       "\t hewiki        &  173526 &  100165\\\\\n",
       "\t kowiki        &  146461 &   81522\\\\\n",
       "\t ptwiki        &  555228 &  328675\\\\\n",
       "\t ptwikiversity &      15 &      13\\\\\n",
       "\t srwiki        &   98359 &   56521\\\\\n",
       "\t trwiki        &  256347 &  151107\\\\\n",
       "\t vecwiki       &    1348 &    1133\\\\\n",
       "\\end{tabular}\n"
      ],
      "text/markdown": [
       "\n",
       "A tibble: 13 × 3\n",
       "\n",
       "| wiki &lt;chr&gt; | n_events &lt;int&gt; | n_sessions &lt;int&gt; |\n",
       "|---|---|---|\n",
       "| bnwiki        |    8451 |    5726 |\n",
       "| dewikivoyage  |     755 |     604 |\n",
       "| euwiki        |   31609 |   22351 |\n",
       "| fawiki        |  200781 |  110092 |\n",
       "| frwiki        | 1933743 | 1091442 |\n",
       "| frwiktionary  |   21307 |   13350 |\n",
       "| hewiki        |  173526 |  100165 |\n",
       "| kowiki        |  146461 |   81522 |\n",
       "| ptwiki        |  555228 |  328675 |\n",
       "| ptwikiversity |      15 |      13 |\n",
       "| srwiki        |   98359 |   56521 |\n",
       "| trwiki        |  256347 |  151107 |\n",
       "| vecwiki       |    1348 |    1133 |\n",
       "\n"
      ],
      "text/plain": [
       "   wiki          n_events n_sessions\n",
       "1  bnwiki           8451     5726   \n",
       "2  dewikivoyage      755      604   \n",
       "3  euwiki          31609    22351   \n",
       "4  fawiki         200781   110092   \n",
       "5  frwiki        1933743  1091442   \n",
       "6  frwiktionary    21307    13350   \n",
       "7  hewiki         173526   100165   \n",
       "8  kowiki         146461    81522   \n",
       "9  ptwiki         555228   328675   \n",
       "10 ptwikiversity      15       13   \n",
       "11 srwiki          98359    56521   \n",
       "12 trwiki         256347   151107   \n",
       "13 vecwiki          1348     1133   "
      ]
     },
     "metadata": {},
     "output_type": "display_data"
    }
   ],
   "source": [
    "# events and sessions that include link to language link by test wiki\n",
    "lang_link_events_testwiki <- lang_link_events %>%\n",
    "    filter(wiki %in% c('frwiktionary', 'hewiki', 'ptwikiversity', 'frwiki', \n",
    "    'euwiki', 'fawiki', 'ptwiki', 'kowiki', 'trwiki', 'srwiki', 'bnwiki', 'dewikivoyage', 'vecwiki' )) %>%\n",
    "    group_by(wiki) %>%\n",
    "    summarize(n_events = sum(n_events),\n",
    "             n_sessions = n_distinct(web_session_id))\n",
    "\n",
    "lang_link_events_testwiki\n"
   ]
  },
  {
   "cell_type": "code",
   "execution_count": 39,
   "metadata": {},
   "outputs": [
    {
     "name": "stderr",
     "output_type": "stream",
     "text": [
      "`summarise()` regrouping output by 'istestwiki' (override with `.groups` argument)\n",
      "\n"
     ]
    },
    {
     "data": {
      "text/html": [
       "<table>\n",
       "<caption>A grouped_df: 4 × 4</caption>\n",
       "<thead>\n",
       "\t<tr><th scope=col>istestwiki</th><th scope=col>isanon</th><th scope=col>n_events</th><th scope=col>n_sessions</th></tr>\n",
       "\t<tr><th scope=col>&lt;chr&gt;</th><th scope=col>&lt;chr&gt;</th><th scope=col>&lt;int&gt;</th><th scope=col>&lt;int&gt;</th></tr>\n",
       "</thead>\n",
       "<tbody>\n",
       "\t<tr><td>non_test_wiki</td><td>false</td><td>   3540</td><td>   1422</td></tr>\n",
       "\t<tr><td>non_test_wiki</td><td>true </td><td>    147</td><td>     80</td></tr>\n",
       "\t<tr><td>test_wiki    </td><td>false</td><td> 102371</td><td>  41836</td></tr>\n",
       "\t<tr><td>test_wiki    </td><td>true </td><td>3325559</td><td>1922334</td></tr>\n",
       "</tbody>\n",
       "</table>\n"
      ],
      "text/latex": [
       "A grouped\\_df: 4 × 4\n",
       "\\begin{tabular}{llll}\n",
       " istestwiki & isanon & n\\_events & n\\_sessions\\\\\n",
       " <chr> & <chr> & <int> & <int>\\\\\n",
       "\\hline\n",
       "\t non\\_test\\_wiki & false &    3540 &    1422\\\\\n",
       "\t non\\_test\\_wiki & true  &     147 &      80\\\\\n",
       "\t test\\_wiki     & false &  102371 &   41836\\\\\n",
       "\t test\\_wiki     & true  & 3325559 & 1922334\\\\\n",
       "\\end{tabular}\n"
      ],
      "text/markdown": [
       "\n",
       "A grouped_df: 4 × 4\n",
       "\n",
       "| istestwiki &lt;chr&gt; | isanon &lt;chr&gt; | n_events &lt;int&gt; | n_sessions &lt;int&gt; |\n",
       "|---|---|---|---|\n",
       "| non_test_wiki | false |    3540 |    1422 |\n",
       "| non_test_wiki | true  |     147 |      80 |\n",
       "| test_wiki     | false |  102371 |   41836 |\n",
       "| test_wiki     | true  | 3325559 | 1922334 |\n",
       "\n"
      ],
      "text/plain": [
       "  istestwiki    isanon n_events n_sessions\n",
       "1 non_test_wiki false     3540     1422   \n",
       "2 non_test_wiki true       147       80   \n",
       "3 test_wiki     false   102371    41836   \n",
       "4 test_wiki     true   3325559  1922334   "
      ]
     },
     "metadata": {},
     "output_type": "display_data"
    }
   ],
   "source": [
    "# events and sessions that include link to language link by test wiki category and logged-in status\n",
    "lang_link_events_testwiki_isanon <- lang_link_events %>%\n",
    "    mutate(istestwiki = ifelse(wiki %in% c('frwiktionary', 'hewiki', 'ptwikiversity', 'frwiki', \n",
    "    'euwiki', 'fawiki', 'ptwiki', 'kowiki', 'trwiki', 'srwiki', 'bnwiki', 'dewikivoyage', 'vecwiki' ), 'test_wiki', 'non_test_wiki')) %>%\n",
    "    group_by(istestwiki, isanon) %>%\n",
    "    summarize(n_events = sum(n_events),\n",
    "             n_sessions = n_distinct(web_session_id))\n",
    "\n",
    "lang_link_events_testwiki_isanon"
   ]
  },
  {
   "cell_type": "markdown",
   "metadata": {},
   "source": [
    "Almost all of the events recorded to date (99%) have been on test wikis. This is expected as the new language switcher button was deployed to all users opt'd in to the modern vector on all non test wikis. Users with modern vector on the test wikis have not been shown the new language switcher and still shown the language links in the sidebar.\n",
    "\n",
    "On non test wikis, the majority (94.67%) of sessions with clicks to the language list on modern vector come from logged-in users. Need to confirm if it's possible to have language link in sidebar if you are logged-in, on modern vector and on a non test wiki. \n"
   ]
  },
  {
   "cell_type": "markdown",
   "metadata": {},
   "source": [
    "## By User Edit Bucket"
   ]
  },
  {
   "cell_type": "code",
   "execution_count": 30,
   "metadata": {},
   "outputs": [
    {
     "name": "stderr",
     "output_type": "stream",
     "text": [
      "`summarise()` ungrouping output (override with `.groups` argument)\n",
      "\n"
     ]
    },
    {
     "data": {
      "text/html": [
       "<table>\n",
       "<caption>A tibble: 6 × 3</caption>\n",
       "<thead>\n",
       "\t<tr><th scope=col>usereditbucket</th><th scope=col>n_events</th><th scope=col>n_sessions</th></tr>\n",
       "\t<tr><th scope=col>&lt;chr&gt;</th><th scope=col>&lt;int&gt;</th><th scope=col>&lt;int&gt;</th></tr>\n",
       "</thead>\n",
       "<tbody>\n",
       "\t<tr><td>0 edits      </td><td>20092</td><td>10961</td></tr>\n",
       "\t<tr><td>1-4 edits    </td><td>11510</td><td> 5643</td></tr>\n",
       "\t<tr><td>100-999 edits</td><td>17264</td><td> 6533</td></tr>\n",
       "\t<tr><td>1000+ edits  </td><td>31482</td><td> 8932</td></tr>\n",
       "\t<tr><td>5-99 edits   </td><td>25556</td><td>11332</td></tr>\n",
       "\t<tr><td>NULL         </td><td>    7</td><td>    5</td></tr>\n",
       "</tbody>\n",
       "</table>\n"
      ],
      "text/latex": [
       "A tibble: 6 × 3\n",
       "\\begin{tabular}{lll}\n",
       " usereditbucket & n\\_events & n\\_sessions\\\\\n",
       " <chr> & <int> & <int>\\\\\n",
       "\\hline\n",
       "\t 0 edits       & 20092 & 10961\\\\\n",
       "\t 1-4 edits     & 11510 &  5643\\\\\n",
       "\t 100-999 edits & 17264 &  6533\\\\\n",
       "\t 1000+ edits   & 31482 &  8932\\\\\n",
       "\t 5-99 edits    & 25556 & 11332\\\\\n",
       "\t NULL          &     7 &     5\\\\\n",
       "\\end{tabular}\n"
      ],
      "text/markdown": [
       "\n",
       "A tibble: 6 × 3\n",
       "\n",
       "| usereditbucket &lt;chr&gt; | n_events &lt;int&gt; | n_sessions &lt;int&gt; |\n",
       "|---|---|---|\n",
       "| 0 edits       | 20092 | 10961 |\n",
       "| 1-4 edits     | 11510 |  5643 |\n",
       "| 100-999 edits | 17264 |  6533 |\n",
       "| 1000+ edits   | 31482 |  8932 |\n",
       "| 5-99 edits    | 25556 | 11332 |\n",
       "| NULL          |     7 |     5 |\n",
       "\n"
      ],
      "text/plain": [
       "  usereditbucket n_events n_sessions\n",
       "1 0 edits        20092    10961     \n",
       "2 1-4 edits      11510     5643     \n",
       "3 100-999 edits  17264     6533     \n",
       "4 1000+ edits    31482     8932     \n",
       "5 5-99 edits     25556    11332     \n",
       "6 NULL               7        5     "
      ]
     },
     "metadata": {},
     "output_type": "display_data"
    }
   ],
   "source": [
    "logged_in_editcount <- lang_link_events %>%\n",
    "    filter(isanon == 'false') %>%\n",
    "    group_by(usereditbucket) %>%\n",
    "    summarize(n_events = sum(n_events),\n",
    "             n_sessions = n_distinct(web_session_id))\n",
    "\n",
    "logged_in_editcount"
   ]
  },
  {
   "cell_type": "code",
   "execution_count": 31,
   "metadata": {},
   "outputs": [
    {
     "name": "stderr",
     "output_type": "stream",
     "text": [
      "`summarise()` ungrouping output (override with `.groups` argument)\n",
      "\n"
     ]
    },
    {
     "data": {
      "text/html": [
       "<table>\n",
       "<caption>A tibble: 2 × 3</caption>\n",
       "<thead>\n",
       "\t<tr><th scope=col>usereditbucket</th><th scope=col>n_events</th><th scope=col>n_sessions</th></tr>\n",
       "\t<tr><th scope=col>&lt;chr&gt;</th><th scope=col>&lt;int&gt;</th><th scope=col>&lt;int&gt;</th></tr>\n",
       "</thead>\n",
       "<tbody>\n",
       "\t<tr><td>5-99 edits</td><td>      1</td><td>      1</td></tr>\n",
       "\t<tr><td>NULL      </td><td>3325705</td><td>1922412</td></tr>\n",
       "</tbody>\n",
       "</table>\n"
      ],
      "text/latex": [
       "A tibble: 2 × 3\n",
       "\\begin{tabular}{lll}\n",
       " usereditbucket & n\\_events & n\\_sessions\\\\\n",
       " <chr> & <int> & <int>\\\\\n",
       "\\hline\n",
       "\t 5-99 edits &       1 &       1\\\\\n",
       "\t NULL       & 3325705 & 1922412\\\\\n",
       "\\end{tabular}\n"
      ],
      "text/markdown": [
       "\n",
       "A tibble: 2 × 3\n",
       "\n",
       "| usereditbucket &lt;chr&gt; | n_events &lt;int&gt; | n_sessions &lt;int&gt; |\n",
       "|---|---|---|\n",
       "| 5-99 edits |       1 |       1 |\n",
       "| NULL       | 3325705 | 1922412 |\n",
       "\n"
      ],
      "text/plain": [
       "  usereditbucket n_events n_sessions\n",
       "1 5-99 edits           1        1   \n",
       "2 NULL           3325705  1922412   "
      ]
     },
     "metadata": {},
     "output_type": "display_data"
    }
   ],
   "source": [
    "logged_out_editcount <- lang_link_events %>%\n",
    "    filter(isanon == 'true') %>%\n",
    "    group_by(usereditbucket) %>%\n",
    "    summarize(n_events = sum(n_events),\n",
    "             n_sessions = n_distinct(web_session_id))\n",
    "\n",
    "logged_out_editcount"
   ]
  },
  {
   "cell_type": "markdown",
   "metadata": {},
   "source": [
    "There are just a few instances (under 0.01%) of the event.usereditbucket field being populated for logged out users and recorded as NULL for logged-in users. Further investigation might be needed; however, the numbers of these events is not high enough to skew the data."
   ]
  },
  {
   "cell_type": "markdown",
   "metadata": {},
   "source": [
    "## By Final Language"
   ]
  },
  {
   "cell_type": "code",
   "execution_count": 43,
   "metadata": {},
   "outputs": [
    {
     "name": "stderr",
     "output_type": "stream",
     "text": [
      "`summarise()` regrouping output by 'selectedinterfacelanguage' (override with `.groups` argument)\n",
      "\n"
     ]
    },
    {
     "data": {
      "text/html": [
       "<table>\n",
       "<caption>A grouped_df: 6 × 3</caption>\n",
       "<thead>\n",
       "\t<tr><th scope=col>selectedinterfacelanguage</th><th scope=col>n_sessions</th><th scope=col>pct_sessions</th></tr>\n",
       "\t<tr><th scope=col>&lt;chr&gt;</th><th scope=col>&lt;int&gt;</th><th scope=col>&lt;dbl&gt;</th></tr>\n",
       "</thead>\n",
       "<tbody>\n",
       "\t<tr><td>en</td><td>1443105</td><td>0.73470332</td></tr>\n",
       "\t<tr><td>es</td><td> 128358</td><td>0.06534871</td></tr>\n",
       "\t<tr><td>de</td><td> 125061</td><td>0.06367016</td></tr>\n",
       "\t<tr><td>it</td><td>  65010</td><td>0.03309743</td></tr>\n",
       "\t<tr><td>ar</td><td>  64408</td><td>0.03279094</td></tr>\n",
       "\t<tr><td>ru</td><td>  52428</td><td>0.02669177</td></tr>\n",
       "</tbody>\n",
       "</table>\n"
      ],
      "text/latex": [
       "A grouped\\_df: 6 × 3\n",
       "\\begin{tabular}{lll}\n",
       " selectedinterfacelanguage & n\\_sessions & pct\\_sessions\\\\\n",
       " <chr> & <int> & <dbl>\\\\\n",
       "\\hline\n",
       "\t en & 1443105 & 0.73470332\\\\\n",
       "\t es &  128358 & 0.06534871\\\\\n",
       "\t de &  125061 & 0.06367016\\\\\n",
       "\t it &   65010 & 0.03309743\\\\\n",
       "\t ar &   64408 & 0.03279094\\\\\n",
       "\t ru &   52428 & 0.02669177\\\\\n",
       "\\end{tabular}\n"
      ],
      "text/markdown": [
       "\n",
       "A grouped_df: 6 × 3\n",
       "\n",
       "| selectedinterfacelanguage &lt;chr&gt; | n_sessions &lt;int&gt; | pct_sessions &lt;dbl&gt; |\n",
       "|---|---|---|\n",
       "| en | 1443105 | 0.73470332 |\n",
       "| es |  128358 | 0.06534871 |\n",
       "| de |  125061 | 0.06367016 |\n",
       "| it |   65010 | 0.03309743 |\n",
       "| ar |   64408 | 0.03279094 |\n",
       "| ru |   52428 | 0.02669177 |\n",
       "\n"
      ],
      "text/plain": [
       "  selectedinterfacelanguage n_sessions pct_sessions\n",
       "1 en                        1443105    0.73470332  \n",
       "2 es                         128358    0.06534871  \n",
       "3 de                         125061    0.06367016  \n",
       "4 it                          65010    0.03309743  \n",
       "5 ar                          64408    0.03279094  \n",
       "6 ru                          52428    0.02669177  "
      ]
     },
     "metadata": {},
     "output_type": "display_data"
    }
   ],
   "source": [
    "# test that you can switch from one language to the next.\n",
    "top_final_languages <- lang_link_events %>%\n",
    "    mutate(all_sessions = n_distinct(web_session_id)) %>%\n",
    "    group_by(selectedinterfacelanguage) %>%\n",
    "    summarize(n_sessions = n_distinct(web_session_id),\n",
    "             pct_sessions = n_sessions/all_sessions) %>%\n",
    "    distinct() %>%\n",
    "    arrange(desc(n_sessions))\n",
    "\n",
    "head(top_final_languages )"
   ]
  },
  {
   "cell_type": "markdown",
   "metadata": {},
   "source": [
    "The most frequent language switches are to english (73% of sessions) followed by spanish (6.5%), and german (6.3%)."
   ]
  },
  {
   "cell_type": "markdown",
   "metadata": {},
   "source": [
    "## By Initial Language "
   ]
  },
  {
   "cell_type": "code",
   "execution_count": 48,
   "metadata": {},
   "outputs": [
    {
     "name": "stderr",
     "output_type": "stream",
     "text": [
      "`summarise()` regrouping output by 'interfacelanguage', 'contentlanguage' (override with `.groups` argument)\n",
      "\n"
     ]
    },
    {
     "data": {
      "text/html": [
       "<table>\n",
       "<caption>A grouped_df: 6 × 4</caption>\n",
       "<thead>\n",
       "\t<tr><th scope=col>interfacelanguage</th><th scope=col>contentlanguage</th><th scope=col>n_sessions</th><th scope=col>pct_sessions</th></tr>\n",
       "\t<tr><th scope=col>&lt;chr&gt;</th><th scope=col>&lt;chr&gt;</th><th scope=col>&lt;int&gt;</th><th scope=col>&lt;dbl&gt;</th></tr>\n",
       "</thead>\n",
       "<tbody>\n",
       "\t<tr><td>fr</td><td>fr</td><td>1103742</td><td>0.56192925</td></tr>\n",
       "\t<tr><td>pt</td><td>pt</td><td> 328012</td><td>0.16699513</td></tr>\n",
       "\t<tr><td>tr</td><td>tr</td><td> 150977</td><td>0.07686433</td></tr>\n",
       "\t<tr><td>fa</td><td>fa</td><td> 109989</td><td>0.05599681</td></tr>\n",
       "\t<tr><td>he</td><td>he</td><td> 100125</td><td>0.05097493</td></tr>\n",
       "\t<tr><td>ko</td><td>ko</td><td>  81429</td><td>0.04145655</td></tr>\n",
       "</tbody>\n",
       "</table>\n"
      ],
      "text/latex": [
       "A grouped\\_df: 6 × 4\n",
       "\\begin{tabular}{llll}\n",
       " interfacelanguage & contentlanguage & n\\_sessions & pct\\_sessions\\\\\n",
       " <chr> & <chr> & <int> & <dbl>\\\\\n",
       "\\hline\n",
       "\t fr & fr & 1103742 & 0.56192925\\\\\n",
       "\t pt & pt &  328012 & 0.16699513\\\\\n",
       "\t tr & tr &  150977 & 0.07686433\\\\\n",
       "\t fa & fa &  109989 & 0.05599681\\\\\n",
       "\t he & he &  100125 & 0.05097493\\\\\n",
       "\t ko & ko &   81429 & 0.04145655\\\\\n",
       "\\end{tabular}\n"
      ],
      "text/markdown": [
       "\n",
       "A grouped_df: 6 × 4\n",
       "\n",
       "| interfacelanguage &lt;chr&gt; | contentlanguage &lt;chr&gt; | n_sessions &lt;int&gt; | pct_sessions &lt;dbl&gt; |\n",
       "|---|---|---|---|\n",
       "| fr | fr | 1103742 | 0.56192925 |\n",
       "| pt | pt |  328012 | 0.16699513 |\n",
       "| tr | tr |  150977 | 0.07686433 |\n",
       "| fa | fa |  109989 | 0.05599681 |\n",
       "| he | he |  100125 | 0.05097493 |\n",
       "| ko | ko |   81429 | 0.04145655 |\n",
       "\n"
      ],
      "text/plain": [
       "  interfacelanguage contentlanguage n_sessions pct_sessions\n",
       "1 fr                fr              1103742    0.56192925  \n",
       "2 pt                pt               328012    0.16699513  \n",
       "3 tr                tr               150977    0.07686433  \n",
       "4 fa                fa               109989    0.05599681  \n",
       "5 he                he               100125    0.05097493  \n",
       "6 ko                ko                81429    0.04145655  "
      ]
     },
     "metadata": {},
     "output_type": "display_data"
    }
   ],
   "source": [
    "\n",
    "top_initial_languages <- lang_link_events %>%\n",
    "    mutate(all_sessions = n_distinct(web_session_id)) %>%\n",
    "    group_by(interfacelanguage, contentlanguage) %>%\n",
    "    summarize(n_sessions = n_distinct(web_session_id),\n",
    "             pct_sessions = n_sessions/all_sessions) %>%\n",
    "    distinct() %>%\n",
    "    arrange(desc(n_sessions))\n",
    "\n",
    "head(top_initial_languages )"
   ]
  },
  {
   "cell_type": "markdown",
   "metadata": {},
   "source": [
    "The interfacelanguage and contentlanguage will usually be the same and should match for most instances, which is confirmed here.\n",
    "\n",
    "The top initial languages all from test wikis, which is expected since the language links are still shown to all logged-in and logged-out users on modern vector. The new language switcher, which replaces the lang links with a button, are show to all logged-in users opt'd into modern vector on non-test wikis. "
   ]
  },
  {
   "cell_type": "code",
   "execution_count": null,
   "metadata": {},
   "outputs": [],
   "source": [
    "## Most Frequent Switch Types\n"
   ]
  },
  {
   "cell_type": "code",
   "execution_count": 49,
   "metadata": {},
   "outputs": [
    {
     "name": "stderr",
     "output_type": "stream",
     "text": [
      "`summarise()` regrouping output by 'interfacelanguage', 'selectedinterfacelanguage' (override with `.groups` argument)\n",
      "\n"
     ]
    },
    {
     "data": {
      "text/html": [
       "<table>\n",
       "<caption>A grouped_df: 6 × 4</caption>\n",
       "<thead>\n",
       "\t<tr><th scope=col>interfacelanguage</th><th scope=col>selectedinterfacelanguage</th><th scope=col>n_sessions</th><th scope=col>pct_sessions</th></tr>\n",
       "\t<tr><th scope=col>&lt;chr&gt;</th><th scope=col>&lt;chr&gt;</th><th scope=col>&lt;int&gt;</th><th scope=col>&lt;dbl&gt;</th></tr>\n",
       "</thead>\n",
       "<tbody>\n",
       "\t<tr><td>fr</td><td>en</td><td>775769</td><td>0.39495398</td></tr>\n",
       "\t<tr><td>pt</td><td>en</td><td>264373</td><td>0.13459570</td></tr>\n",
       "\t<tr><td>tr</td><td>en</td><td>118824</td><td>0.06049483</td></tr>\n",
       "\t<tr><td>fa</td><td>en</td><td> 95622</td><td>0.04868239</td></tr>\n",
       "\t<tr><td>fr</td><td>de</td><td> 94915</td><td>0.04832245</td></tr>\n",
       "\t<tr><td>he</td><td>en</td><td> 84668</td><td>0.04310557</td></tr>\n",
       "</tbody>\n",
       "</table>\n"
      ],
      "text/latex": [
       "A grouped\\_df: 6 × 4\n",
       "\\begin{tabular}{llll}\n",
       " interfacelanguage & selectedinterfacelanguage & n\\_sessions & pct\\_sessions\\\\\n",
       " <chr> & <chr> & <int> & <dbl>\\\\\n",
       "\\hline\n",
       "\t fr & en & 775769 & 0.39495398\\\\\n",
       "\t pt & en & 264373 & 0.13459570\\\\\n",
       "\t tr & en & 118824 & 0.06049483\\\\\n",
       "\t fa & en &  95622 & 0.04868239\\\\\n",
       "\t fr & de &  94915 & 0.04832245\\\\\n",
       "\t he & en &  84668 & 0.04310557\\\\\n",
       "\\end{tabular}\n"
      ],
      "text/markdown": [
       "\n",
       "A grouped_df: 6 × 4\n",
       "\n",
       "| interfacelanguage &lt;chr&gt; | selectedinterfacelanguage &lt;chr&gt; | n_sessions &lt;int&gt; | pct_sessions &lt;dbl&gt; |\n",
       "|---|---|---|---|\n",
       "| fr | en | 775769 | 0.39495398 |\n",
       "| pt | en | 264373 | 0.13459570 |\n",
       "| tr | en | 118824 | 0.06049483 |\n",
       "| fa | en |  95622 | 0.04868239 |\n",
       "| fr | de |  94915 | 0.04832245 |\n",
       "| he | en |  84668 | 0.04310557 |\n",
       "\n"
      ],
      "text/plain": [
       "  interfacelanguage selectedinterfacelanguage n_sessions pct_sessions\n",
       "1 fr                en                        775769     0.39495398  \n",
       "2 pt                en                        264373     0.13459570  \n",
       "3 tr                en                        118824     0.06049483  \n",
       "4 fa                en                         95622     0.04868239  \n",
       "5 fr                de                         94915     0.04832245  \n",
       "6 he                en                         84668     0.04310557  "
      ]
     },
     "metadata": {},
     "output_type": "display_data"
    }
   ],
   "source": [
    "top_final_languages <- lang_link_events %>%\n",
    "    mutate(all_sessions = n_distinct(web_session_id)) %>%\n",
    "    group_by(interfacelanguage, selectedinterfacelanguage) %>%\n",
    "    summarize(n_sessions = n_distinct(web_session_id),\n",
    "             pct_sessions = n_sessions/all_sessions) %>%\n",
    "    distinct() %>%\n",
    "    arrange(desc(n_sessions))\n",
    "\n",
    "head(top_final_languages )"
   ]
  },
  {
   "cell_type": "markdown",
   "metadata": {},
   "source": [
    "39% of all sessions are switches are from French to English. "
   ]
  },
  {
   "cell_type": "markdown",
   "metadata": {},
   "source": [
    "# Language Switcher Button"
   ]
  },
  {
   "cell_type": "markdown",
   "metadata": {},
   "source": [
    "[Instrumentation Task](https://phabricator.wikimedia.org/T281928)\n",
    "\n",
    "- Instrumented as `event.action=\"compact-language-links-open\"`\n",
    "- Logged when a user open the new language switcher button. \n",
    "- The first click and subsequent clicks should be recorded per https://gerrit.wikimedia.org/r/c/mediawiki/extensions/UniversalLanguageSelector/+/688994/\n",
    "- Change merged on May 11th and backported/deployed on May 12th.\n",
    "- There should not be any clicks to the Language Switcher button by logged-in users on test wikis or logged-out users, as the new lanuage button has not been deployed to these wikis or these users.\n",
    "- Only deployed as logged-in users on the latest vector on a non test wiki"
   ]
  },
  {
   "cell_type": "code",
   "execution_count": 12,
   "metadata": {},
   "outputs": [],
   "source": [
    "query <- \n",
    "\"\n",
    "SELECT\n",
    "    TO_DATE(dt) AS `date`,\n",
    "    wiki,\n",
    "    event.web_session_id,\n",
    "    event.usereditbucket,\n",
    "    event.skin,\n",
    "    event.skinVersion,\n",
    "    event.timetochangelanguage,\n",
    "    event.isanon,\n",
    "    event.context,\n",
    "    event.interfacelanguage,\n",
    "    event.contentlanguage,\n",
    "    event.selectedinterfacelanguage,\n",
    "    Count(*) AS n_events\n",
    "FROM event.universallanguageselector\n",
    "WHERE\n",
    "    year = 2021\n",
    "    AND month >= 05\n",
    "    AND event.action = 'compact-language-links-open'\n",
    "    AND useragent.is_bot = false\n",
    "GROUP BY\n",
    "    TO_DATE(dt),\n",
    "    wiki,\n",
    "    event.web_session_id,\n",
    "    event.usereditbucket,\n",
    "    event.skin,\n",
    "    event.skinVersion,\n",
    "    event.timetochangelanguage,\n",
    "    event.isanon,\n",
    "    event.context,\n",
    "    event.interfacelanguage,\n",
    "    event.contentlanguage,\n",
    "    event.selectedinterfacelanguage\n",
    "\""
   ]
  },
  {
   "cell_type": "code",
   "execution_count": 13,
   "metadata": {},
   "outputs": [
    {
     "name": "stderr",
     "output_type": "stream",
     "text": [
      "Don't forget to authenticate with Kerberos using kinit\n",
      "\n"
     ]
    }
   ],
   "source": [
    "lang_button_events <-  wmfdata::query_hive(query)"
   ]
  },
  {
   "cell_type": "markdown",
   "metadata": {},
   "source": [
    "## Daily Lang Button Click Events"
   ]
  },
  {
   "cell_type": "code",
   "execution_count": 14,
   "metadata": {},
   "outputs": [
    {
     "name": "stderr",
     "output_type": "stream",
     "text": [
      "`summarise()` ungrouping output (override with `.groups` argument)\n",
      "\n"
     ]
    },
    {
     "data": {
      "text/html": [
       "<table>\n",
       "<caption>A tibble: 28 × 3</caption>\n",
       "<thead>\n",
       "\t<tr><th scope=col>date</th><th scope=col>n_events</th><th scope=col>n_sessions</th></tr>\n",
       "\t<tr><th scope=col>&lt;chr&gt;</th><th scope=col>&lt;int&gt;</th><th scope=col>&lt;int&gt;</th></tr>\n",
       "</thead>\n",
       "<tbody>\n",
       "\t<tr><td>2021-05-12</td><td>   12</td><td>   10</td></tr>\n",
       "\t<tr><td>2021-05-13</td><td>  194</td><td>  159</td></tr>\n",
       "\t<tr><td>2021-05-14</td><td> 1317</td><td> 1147</td></tr>\n",
       "\t<tr><td>2021-05-15</td><td> 1159</td><td>  928</td></tr>\n",
       "\t<tr><td>2021-05-16</td><td> 1358</td><td> 1042</td></tr>\n",
       "\t<tr><td>2021-05-17</td><td>32668</td><td>28541</td></tr>\n",
       "\t<tr><td>2021-05-18</td><td>90811</td><td>78945</td></tr>\n",
       "\t<tr><td>2021-05-19</td><td>89299</td><td>77108</td></tr>\n",
       "\t<tr><td>2021-05-20</td><td>87644</td><td>75820</td></tr>\n",
       "\t<tr><td>2021-05-21</td><td>81498</td><td>67973</td></tr>\n",
       "\t<tr><td>2021-05-22</td><td>67460</td><td>55270</td></tr>\n",
       "\t<tr><td>2021-05-23</td><td>76222</td><td>62416</td></tr>\n",
       "\t<tr><td>2021-05-24</td><td>92724</td><td>76384</td></tr>\n",
       "\t<tr><td>2021-05-25</td><td>92351</td><td>77546</td></tr>\n",
       "\t<tr><td>2021-05-26</td><td>89947</td><td>75196</td></tr>\n",
       "\t<tr><td>2021-05-27</td><td>87440</td><td>73193</td></tr>\n",
       "\t<tr><td>2021-05-28</td><td>78177</td><td>65185</td></tr>\n",
       "\t<tr><td>2021-05-29</td><td>65494</td><td>53538</td></tr>\n",
       "\t<tr><td>2021-05-30</td><td>72238</td><td>59545</td></tr>\n",
       "\t<tr><td>2021-05-31</td><td>87384</td><td>72570</td></tr>\n",
       "\t<tr><td>2021-06-01</td><td>86754</td><td>72234</td></tr>\n",
       "\t<tr><td>2021-06-02</td><td>85835</td><td>71774</td></tr>\n",
       "\t<tr><td>2021-06-03</td><td>81864</td><td>68127</td></tr>\n",
       "\t<tr><td>2021-06-04</td><td>74580</td><td>61948</td></tr>\n",
       "\t<tr><td>2021-06-05</td><td>63824</td><td>52160</td></tr>\n",
       "\t<tr><td>2021-06-06</td><td>71082</td><td>58131</td></tr>\n",
       "\t<tr><td>2021-06-07</td><td>85287</td><td>71501</td></tr>\n",
       "\t<tr><td>2021-06-08</td><td>73560</td><td>61667</td></tr>\n",
       "</tbody>\n",
       "</table>\n"
      ],
      "text/latex": [
       "A tibble: 28 × 3\n",
       "\\begin{tabular}{lll}\n",
       " date & n\\_events & n\\_sessions\\\\\n",
       " <chr> & <int> & <int>\\\\\n",
       "\\hline\n",
       "\t 2021-05-12 &    12 &    10\\\\\n",
       "\t 2021-05-13 &   194 &   159\\\\\n",
       "\t 2021-05-14 &  1317 &  1147\\\\\n",
       "\t 2021-05-15 &  1159 &   928\\\\\n",
       "\t 2021-05-16 &  1358 &  1042\\\\\n",
       "\t 2021-05-17 & 32668 & 28541\\\\\n",
       "\t 2021-05-18 & 90811 & 78945\\\\\n",
       "\t 2021-05-19 & 89299 & 77108\\\\\n",
       "\t 2021-05-20 & 87644 & 75820\\\\\n",
       "\t 2021-05-21 & 81498 & 67973\\\\\n",
       "\t 2021-05-22 & 67460 & 55270\\\\\n",
       "\t 2021-05-23 & 76222 & 62416\\\\\n",
       "\t 2021-05-24 & 92724 & 76384\\\\\n",
       "\t 2021-05-25 & 92351 & 77546\\\\\n",
       "\t 2021-05-26 & 89947 & 75196\\\\\n",
       "\t 2021-05-27 & 87440 & 73193\\\\\n",
       "\t 2021-05-28 & 78177 & 65185\\\\\n",
       "\t 2021-05-29 & 65494 & 53538\\\\\n",
       "\t 2021-05-30 & 72238 & 59545\\\\\n",
       "\t 2021-05-31 & 87384 & 72570\\\\\n",
       "\t 2021-06-01 & 86754 & 72234\\\\\n",
       "\t 2021-06-02 & 85835 & 71774\\\\\n",
       "\t 2021-06-03 & 81864 & 68127\\\\\n",
       "\t 2021-06-04 & 74580 & 61948\\\\\n",
       "\t 2021-06-05 & 63824 & 52160\\\\\n",
       "\t 2021-06-06 & 71082 & 58131\\\\\n",
       "\t 2021-06-07 & 85287 & 71501\\\\\n",
       "\t 2021-06-08 & 73560 & 61667\\\\\n",
       "\\end{tabular}\n"
      ],
      "text/markdown": [
       "\n",
       "A tibble: 28 × 3\n",
       "\n",
       "| date &lt;chr&gt; | n_events &lt;int&gt; | n_sessions &lt;int&gt; |\n",
       "|---|---|---|\n",
       "| 2021-05-12 |    12 |    10 |\n",
       "| 2021-05-13 |   194 |   159 |\n",
       "| 2021-05-14 |  1317 |  1147 |\n",
       "| 2021-05-15 |  1159 |   928 |\n",
       "| 2021-05-16 |  1358 |  1042 |\n",
       "| 2021-05-17 | 32668 | 28541 |\n",
       "| 2021-05-18 | 90811 | 78945 |\n",
       "| 2021-05-19 | 89299 | 77108 |\n",
       "| 2021-05-20 | 87644 | 75820 |\n",
       "| 2021-05-21 | 81498 | 67973 |\n",
       "| 2021-05-22 | 67460 | 55270 |\n",
       "| 2021-05-23 | 76222 | 62416 |\n",
       "| 2021-05-24 | 92724 | 76384 |\n",
       "| 2021-05-25 | 92351 | 77546 |\n",
       "| 2021-05-26 | 89947 | 75196 |\n",
       "| 2021-05-27 | 87440 | 73193 |\n",
       "| 2021-05-28 | 78177 | 65185 |\n",
       "| 2021-05-29 | 65494 | 53538 |\n",
       "| 2021-05-30 | 72238 | 59545 |\n",
       "| 2021-05-31 | 87384 | 72570 |\n",
       "| 2021-06-01 | 86754 | 72234 |\n",
       "| 2021-06-02 | 85835 | 71774 |\n",
       "| 2021-06-03 | 81864 | 68127 |\n",
       "| 2021-06-04 | 74580 | 61948 |\n",
       "| 2021-06-05 | 63824 | 52160 |\n",
       "| 2021-06-06 | 71082 | 58131 |\n",
       "| 2021-06-07 | 85287 | 71501 |\n",
       "| 2021-06-08 | 73560 | 61667 |\n",
       "\n"
      ],
      "text/plain": [
       "   date       n_events n_sessions\n",
       "1  2021-05-12    12       10     \n",
       "2  2021-05-13   194      159     \n",
       "3  2021-05-14  1317     1147     \n",
       "4  2021-05-15  1159      928     \n",
       "5  2021-05-16  1358     1042     \n",
       "6  2021-05-17 32668    28541     \n",
       "7  2021-05-18 90811    78945     \n",
       "8  2021-05-19 89299    77108     \n",
       "9  2021-05-20 87644    75820     \n",
       "10 2021-05-21 81498    67973     \n",
       "11 2021-05-22 67460    55270     \n",
       "12 2021-05-23 76222    62416     \n",
       "13 2021-05-24 92724    76384     \n",
       "14 2021-05-25 92351    77546     \n",
       "15 2021-05-26 89947    75196     \n",
       "16 2021-05-27 87440    73193     \n",
       "17 2021-05-28 78177    65185     \n",
       "18 2021-05-29 65494    53538     \n",
       "19 2021-05-30 72238    59545     \n",
       "20 2021-05-31 87384    72570     \n",
       "21 2021-06-01 86754    72234     \n",
       "22 2021-06-02 85835    71774     \n",
       "23 2021-06-03 81864    68127     \n",
       "24 2021-06-04 74580    61948     \n",
       "25 2021-06-05 63824    52160     \n",
       "26 2021-06-06 71082    58131     \n",
       "27 2021-06-07 85287    71501     \n",
       "28 2021-06-08 73560    61667     "
      ]
     },
     "metadata": {},
     "output_type": "display_data"
    }
   ],
   "source": [
    "lang_button_events_daily <- lang_button_events %>%\n",
    "    group_by(date) %>%\n",
    "    summarize(n_events = sum(n_events),\n",
    "             n_sessions = n_distinct(web_session_id))\n",
    "\n",
    "lang_button_events_daily"
   ]
  },
  {
   "cell_type": "markdown",
   "metadata": {},
   "source": [
    "- Confirmed we start recording events on May 12th following backport of the change, starting with just a few events and then more as change rolled out to additional wikis.\n",
    "-  There is an expected higher number of events than sessions, which is expected as a session can include multiple clicks to open the language button.\n"
   ]
  },
  {
   "cell_type": "markdown",
   "metadata": {},
   "source": [
    "# By Skin and SkinVersion Fields"
   ]
  },
  {
   "cell_type": "markdown",
   "metadata": {},
   "source": [
    "Confirmed that we started recording `AND event.action = 'compact-language-links-open'` events on 8 June 2021. These events only appear for vector. "
   ]
  },
  {
   "cell_type": "markdown",
   "metadata": {},
   "source": [
    "# By Context and Vector Version"
   ]
  },
  {
   "cell_type": "code",
   "execution_count": 23,
   "metadata": {},
   "outputs": [
    {
     "name": "stderr",
     "output_type": "stream",
     "text": [
      "`summarise()` regrouping output by 'skinversion' (override with `.groups` argument)\n",
      "\n"
     ]
    },
    {
     "data": {
      "text/html": [
       "<table>\n",
       "<caption>A grouped_df: 4 × 4</caption>\n",
       "<thead>\n",
       "\t<tr><th scope=col>skinversion</th><th scope=col>context</th><th scope=col>n_events</th><th scope=col>n_sessions</th></tr>\n",
       "\t<tr><th scope=col>&lt;chr&gt;</th><th scope=col>&lt;chr&gt;</th><th scope=col>&lt;int&gt;</th><th scope=col>&lt;int&gt;</th></tr>\n",
       "</thead>\n",
       "<tbody>\n",
       "\t<tr><td>latest</td><td>header</td><td>  384</td><td>  165</td></tr>\n",
       "\t<tr><td>latest</td><td>other </td><td> 3308</td><td> 2812</td></tr>\n",
       "\t<tr><td>legacy</td><td>other </td><td>33303</td><td>28196</td></tr>\n",
       "\t<tr><td>NULL  </td><td>NULL  </td><td>36565</td><td>30952</td></tr>\n",
       "</tbody>\n",
       "</table>\n"
      ],
      "text/latex": [
       "A grouped\\_df: 4 × 4\n",
       "\\begin{tabular}{llll}\n",
       " skinversion & context & n\\_events & n\\_sessions\\\\\n",
       " <chr> & <chr> & <int> & <int>\\\\\n",
       "\\hline\n",
       "\t latest & header &   384 &   165\\\\\n",
       "\t latest & other  &  3308 &  2812\\\\\n",
       "\t legacy & other  & 33303 & 28196\\\\\n",
       "\t NULL   & NULL   & 36565 & 30952\\\\\n",
       "\\end{tabular}\n"
      ],
      "text/markdown": [
       "\n",
       "A grouped_df: 4 × 4\n",
       "\n",
       "| skinversion &lt;chr&gt; | context &lt;chr&gt; | n_events &lt;int&gt; | n_sessions &lt;int&gt; |\n",
       "|---|---|---|---|\n",
       "| latest | header |   384 |   165 |\n",
       "| latest | other  |  3308 |  2812 |\n",
       "| legacy | other  | 33303 | 28196 |\n",
       "| NULL   | NULL   | 36565 | 30952 |\n",
       "\n"
      ],
      "text/plain": [
       "  skinversion context n_events n_sessions\n",
       "1 latest      header    384      165     \n",
       "2 latest      other    3308     2812     \n",
       "3 legacy      other   33303    28196     \n",
       "4 NULL        NULL    36565    30952     "
      ]
     },
     "metadata": {},
     "output_type": "display_data"
    }
   ],
   "source": [
    "lang_button_events_bycontext <- lang_button_events %>%\n",
    "# date new instrumentation was added\n",
    "    filter(date >= '2021-06-08')%>%\n",
    "    group_by(skinversion, context) %>%\n",
    "    summarize(n_events = sum(n_events),\n",
    "             n_sessions = n_distinct(web_session_id))\n",
    "\n",
    "lang_button_events_bycontext"
   ]
  },
  {
   "cell_type": "markdown",
   "metadata": {},
   "source": [
    "## Double Check to make sure there are some sessions with more than one event"
   ]
  },
  {
   "cell_type": "code",
   "execution_count": 15,
   "metadata": {},
   "outputs": [
    {
     "data": {
      "text/html": [
       "FALSE"
      ],
      "text/latex": [
       "FALSE"
      ],
      "text/markdown": [
       "FALSE"
      ],
      "text/plain": [
       "[1] FALSE"
      ]
     },
     "metadata": {},
     "output_type": "display_data"
    }
   ],
   "source": [
    "length(unique(lang_button_events$web_session_id)) == nrow(lang_button_events)"
   ]
  },
  {
   "cell_type": "markdown",
   "metadata": {},
   "source": [
    "## Lang Button Events Per Wiki"
   ]
  },
  {
   "cell_type": "code",
   "execution_count": 16,
   "metadata": {},
   "outputs": [
    {
     "name": "stderr",
     "output_type": "stream",
     "text": [
      "`summarise()` ungrouping output (override with `.groups` argument)\n",
      "\n"
     ]
    },
    {
     "data": {
      "text/html": [
       "<table>\n",
       "<caption>A tibble: 6 × 3</caption>\n",
       "<thead>\n",
       "\t<tr><th scope=col>wiki</th><th scope=col>n_events</th><th scope=col>n_sessions</th></tr>\n",
       "\t<tr><th scope=col>&lt;chr&gt;</th><th scope=col>&lt;int&gt;</th><th scope=col>&lt;int&gt;</th></tr>\n",
       "</thead>\n",
       "<tbody>\n",
       "\t<tr><td>enwiki</td><td>941311</td><td>746416</td></tr>\n",
       "\t<tr><td>ruwiki</td><td>128986</td><td>101746</td></tr>\n",
       "\t<tr><td>dewiki</td><td>112239</td><td> 93999</td></tr>\n",
       "\t<tr><td>eswiki</td><td> 88520</td><td> 73529</td></tr>\n",
       "\t<tr><td>frwiki</td><td> 78181</td><td> 63527</td></tr>\n",
       "\t<tr><td>zhwiki</td><td> 58070</td><td> 47322</td></tr>\n",
       "</tbody>\n",
       "</table>\n"
      ],
      "text/latex": [
       "A tibble: 6 × 3\n",
       "\\begin{tabular}{lll}\n",
       " wiki & n\\_events & n\\_sessions\\\\\n",
       " <chr> & <int> & <int>\\\\\n",
       "\\hline\n",
       "\t enwiki & 941311 & 746416\\\\\n",
       "\t ruwiki & 128986 & 101746\\\\\n",
       "\t dewiki & 112239 &  93999\\\\\n",
       "\t eswiki &  88520 &  73529\\\\\n",
       "\t frwiki &  78181 &  63527\\\\\n",
       "\t zhwiki &  58070 &  47322\\\\\n",
       "\\end{tabular}\n"
      ],
      "text/markdown": [
       "\n",
       "A tibble: 6 × 3\n",
       "\n",
       "| wiki &lt;chr&gt; | n_events &lt;int&gt; | n_sessions &lt;int&gt; |\n",
       "|---|---|---|\n",
       "| enwiki | 941311 | 746416 |\n",
       "| ruwiki | 128986 | 101746 |\n",
       "| dewiki | 112239 |  93999 |\n",
       "| eswiki |  88520 |  73529 |\n",
       "| frwiki |  78181 |  63527 |\n",
       "| zhwiki |  58070 |  47322 |\n",
       "\n"
      ],
      "text/plain": [
       "  wiki   n_events n_sessions\n",
       "1 enwiki 941311   746416    \n",
       "2 ruwiki 128986   101746    \n",
       "3 dewiki 112239    93999    \n",
       "4 eswiki  88520    73529    \n",
       "5 frwiki  78181    63527    \n",
       "6 zhwiki  58070    47322    "
      ]
     },
     "metadata": {},
     "output_type": "display_data"
    }
   ],
   "source": [
    "\n",
    "lang_button_events_bywiki <- lang_button_events %>%\n",
    "    group_by(wiki) %>%\n",
    "    summarize(n_events = sum(n_events),\n",
    "             n_sessions = n_distinct(web_session_id)) %>%\n",
    "    arrange(desc(n_sessions))\n",
    "\n",
    "head(lang_button_events_bywiki)"
   ]
  },
  {
   "cell_type": "markdown",
   "metadata": {},
   "source": [
    "Almost half (49.7%) of sessions with a click to the language button were recorded on English Wikipedia, followed by Russian, German and Spanish Wikipedia. Note: The language switcher button is currently not availabe to logged-in users on test wikis.\n",
    "\n"
   ]
  },
  {
   "cell_type": "markdown",
   "metadata": {},
   "source": [
    "# Lang Button Event on Test Wikis"
   ]
  },
  {
   "cell_type": "code",
   "execution_count": 33,
   "metadata": {},
   "outputs": [
    {
     "name": "stderr",
     "output_type": "stream",
     "text": [
      "`summarise()` ungrouping output (override with `.groups` argument)\n",
      "\n"
     ]
    },
    {
     "data": {
      "text/html": [
       "<table>\n",
       "<caption>A tibble: 12 × 3</caption>\n",
       "<thead>\n",
       "\t<tr><th scope=col>wiki</th><th scope=col>n_events</th><th scope=col>n_sessions</th></tr>\n",
       "\t<tr><th scope=col>&lt;chr&gt;</th><th scope=col>&lt;int&gt;</th><th scope=col>&lt;int&gt;</th></tr>\n",
       "</thead>\n",
       "<tbody>\n",
       "\t<tr><td>frwiki      </td><td>25537</td><td>21115</td></tr>\n",
       "\t<tr><td>ptwiki      </td><td> 6665</td><td> 5682</td></tr>\n",
       "\t<tr><td>trwiki      </td><td> 5967</td><td> 5052</td></tr>\n",
       "\t<tr><td>srwiki      </td><td> 3898</td><td> 3455</td></tr>\n",
       "\t<tr><td>kowiki      </td><td> 2608</td><td> 2158</td></tr>\n",
       "\t<tr><td>fawiki      </td><td> 2494</td><td> 2055</td></tr>\n",
       "\t<tr><td>hewiki      </td><td> 2325</td><td> 1992</td></tr>\n",
       "\t<tr><td>euwiki      </td><td>  536</td><td>  482</td></tr>\n",
       "\t<tr><td>frwiktionary</td><td>  506</td><td>  445</td></tr>\n",
       "\t<tr><td>vecwiki     </td><td>  202</td><td>  180</td></tr>\n",
       "\t<tr><td>bnwiki      </td><td>  191</td><td>  175</td></tr>\n",
       "\t<tr><td>dewikivoyage</td><td>    6</td><td>    5</td></tr>\n",
       "</tbody>\n",
       "</table>\n"
      ],
      "text/latex": [
       "A tibble: 12 × 3\n",
       "\\begin{tabular}{lll}\n",
       " wiki & n\\_events & n\\_sessions\\\\\n",
       " <chr> & <int> & <int>\\\\\n",
       "\\hline\n",
       "\t frwiki       & 25537 & 21115\\\\\n",
       "\t ptwiki       &  6665 &  5682\\\\\n",
       "\t trwiki       &  5967 &  5052\\\\\n",
       "\t srwiki       &  3898 &  3455\\\\\n",
       "\t kowiki       &  2608 &  2158\\\\\n",
       "\t fawiki       &  2494 &  2055\\\\\n",
       "\t hewiki       &  2325 &  1992\\\\\n",
       "\t euwiki       &   536 &   482\\\\\n",
       "\t frwiktionary &   506 &   445\\\\\n",
       "\t vecwiki      &   202 &   180\\\\\n",
       "\t bnwiki       &   191 &   175\\\\\n",
       "\t dewikivoyage &     6 &     5\\\\\n",
       "\\end{tabular}\n"
      ],
      "text/markdown": [
       "\n",
       "A tibble: 12 × 3\n",
       "\n",
       "| wiki &lt;chr&gt; | n_events &lt;int&gt; | n_sessions &lt;int&gt; |\n",
       "|---|---|---|\n",
       "| frwiki       | 25537 | 21115 |\n",
       "| ptwiki       |  6665 |  5682 |\n",
       "| trwiki       |  5967 |  5052 |\n",
       "| srwiki       |  3898 |  3455 |\n",
       "| kowiki       |  2608 |  2158 |\n",
       "| fawiki       |  2494 |  2055 |\n",
       "| hewiki       |  2325 |  1992 |\n",
       "| euwiki       |   536 |   482 |\n",
       "| frwiktionary |   506 |   445 |\n",
       "| vecwiki      |   202 |   180 |\n",
       "| bnwiki       |   191 |   175 |\n",
       "| dewikivoyage |     6 |     5 |\n",
       "\n"
      ],
      "text/plain": [
       "   wiki         n_events n_sessions\n",
       "1  frwiki       25537    21115     \n",
       "2  ptwiki        6665     5682     \n",
       "3  trwiki        5967     5052     \n",
       "4  srwiki        3898     3455     \n",
       "5  kowiki        2608     2158     \n",
       "6  fawiki        2494     2055     \n",
       "7  hewiki        2325     1992     \n",
       "8  euwiki         536      482     \n",
       "9  frwiktionary   506      445     \n",
       "10 vecwiki        202      180     \n",
       "11 bnwiki         191      175     \n",
       "12 dewikivoyage     6        5     "
      ]
     },
     "metadata": {},
     "output_type": "display_data"
    }
   ],
   "source": [
    "\n",
    "lang_button_events_bytestwiki <- lang_button_events %>%\n",
    "    filter(wiki %in% c('frwiktionary', 'hewiki', 'ptwikiversity', 'frwiki', \n",
    "    'euwiki', 'fawiki', 'ptwiki', 'kowiki', 'trwiki', 'srwiki', 'bnwiki', 'dewikivoyage', 'vecwiki' ))  %>%\n",
    "    group_by(wiki) %>%\n",
    "    summarize(n_events = sum(n_events),\n",
    "             n_sessions = n_distinct(web_session_id)) %>%\n",
    "    arrange(desc(n_sessions))\n",
    "\n",
    "lang_button_events_bytestwiki"
   ]
  },
  {
   "cell_type": "markdown",
   "metadata": {},
   "source": [
    "About 8.4% of all sessions were recorded on the early adopter wikis. \n",
    "\n",
    "I reviewed the number of sessions on test wikis by logged-in status to determine if these were mostly logged-out or logged-in users."
   ]
  },
  {
   "cell_type": "code",
   "execution_count": 34,
   "metadata": {},
   "outputs": [
    {
     "name": "stderr",
     "output_type": "stream",
     "text": [
      "`summarise()` regrouping output by 'istestwiki' (override with `.groups` argument)\n",
      "\n"
     ]
    },
    {
     "data": {
      "text/html": [
       "<table>\n",
       "<caption>A grouped_df: 4 × 4</caption>\n",
       "<thead>\n",
       "\t<tr><th scope=col>istestwiki</th><th scope=col>isanon</th><th scope=col>n_events</th><th scope=col>n_sessions</th></tr>\n",
       "\t<tr><th scope=col>&lt;chr&gt;</th><th scope=col>&lt;chr&gt;</th><th scope=col>&lt;int&gt;</th><th scope=col>&lt;int&gt;</th></tr>\n",
       "</thead>\n",
       "<tbody>\n",
       "\t<tr><td>non_test_wiki</td><td>false</td><td> 20053</td><td> 12641</td></tr>\n",
       "\t<tr><td>non_test_wiki</td><td>true </td><td>529967</td><td>442145</td></tr>\n",
       "\t<tr><td>test_wiki    </td><td>false</td><td>  1951</td><td>  1478</td></tr>\n",
       "\t<tr><td>test_wiki    </td><td>true </td><td> 48984</td><td> 41332</td></tr>\n",
       "</tbody>\n",
       "</table>\n"
      ],
      "text/latex": [
       "A grouped\\_df: 4 × 4\n",
       "\\begin{tabular}{llll}\n",
       " istestwiki & isanon & n\\_events & n\\_sessions\\\\\n",
       " <chr> & <chr> & <int> & <int>\\\\\n",
       "\\hline\n",
       "\t non\\_test\\_wiki & false &  20053 &  12641\\\\\n",
       "\t non\\_test\\_wiki & true  & 529967 & 442145\\\\\n",
       "\t test\\_wiki     & false &   1951 &   1478\\\\\n",
       "\t test\\_wiki     & true  &  48984 &  41332\\\\\n",
       "\\end{tabular}\n"
      ],
      "text/markdown": [
       "\n",
       "A grouped_df: 4 × 4\n",
       "\n",
       "| istestwiki &lt;chr&gt; | isanon &lt;chr&gt; | n_events &lt;int&gt; | n_sessions &lt;int&gt; |\n",
       "|---|---|---|---|\n",
       "| non_test_wiki | false |  20053 |  12641 |\n",
       "| non_test_wiki | true  | 529967 | 442145 |\n",
       "| test_wiki     | false |   1951 |   1478 |\n",
       "| test_wiki     | true  |  48984 |  41332 |\n",
       "\n"
      ],
      "text/plain": [
       "  istestwiki    isanon n_events n_sessions\n",
       "1 non_test_wiki false   20053    12641    \n",
       "2 non_test_wiki true   529967   442145    \n",
       "3 test_wiki     false    1951     1478    \n",
       "4 test_wiki     true    48984    41332    "
      ]
     },
     "metadata": {},
     "output_type": "display_data"
    }
   ],
   "source": [
    "# events and sessions that include link to language link by test wiki category and logged-in status\n",
    "lang_button_events_testwiki_isanon <- lang_button_events %>%\n",
    "    mutate(istestwiki = ifelse(wiki %in% c('frwiktionary', 'hewiki', 'ptwikiversity', 'frwiki', \n",
    "    'euwiki', 'fawiki', 'ptwiki', 'kowiki', 'trwiki', 'srwiki', 'bnwiki', 'dewikivoyage', 'vecwiki' ), 'test_wiki', 'non_test_wiki')) %>%\n",
    "    group_by(istestwiki, isanon) %>%\n",
    "    summarize(n_events = sum(n_events),\n",
    "             n_sessions = n_distinct(web_session_id))\n",
    "\n",
    "lang_button_events_testwiki_isanon "
   ]
  },
  {
   "cell_type": "markdown",
   "metadata": {},
   "source": [
    "0.29% of sessions with a click to the lang switcher button came from logged-in users on the early adopter wikis and 8.1% of sessions by logged-out users. \n",
    "\n",
    "NEED TO CONFIRM IF THIS IS EXPECTED."
   ]
  },
  {
   "cell_type": "markdown",
   "metadata": {},
   "source": [
    "## By anon status"
   ]
  },
  {
   "cell_type": "code",
   "execution_count": 74,
   "metadata": {},
   "outputs": [
    {
     "name": "stderr",
     "output_type": "stream",
     "text": [
      "`summarise()` ungrouping output (override with `.groups` argument)\n",
      "\n"
     ]
    },
    {
     "data": {
      "text/html": [
       "<table>\n",
       "<caption>A tibble: 2 × 3</caption>\n",
       "<thead>\n",
       "\t<tr><th scope=col>isanon</th><th scope=col>n_events</th><th scope=col>n_sessions</th></tr>\n",
       "\t<tr><th scope=col>&lt;chr&gt;</th><th scope=col>&lt;int&gt;</th><th scope=col>&lt;int&gt;</th></tr>\n",
       "</thead>\n",
       "<tbody>\n",
       "\t<tr><td>false</td><td> 22534</td><td> 14454</td></tr>\n",
       "\t<tr><td>true </td><td>592126</td><td>494268</td></tr>\n",
       "</tbody>\n",
       "</table>\n"
      ],
      "text/latex": [
       "A tibble: 2 × 3\n",
       "\\begin{tabular}{lll}\n",
       " isanon & n\\_events & n\\_sessions\\\\\n",
       " <chr> & <int> & <int>\\\\\n",
       "\\hline\n",
       "\t false &  22534 &  14454\\\\\n",
       "\t true  & 592126 & 494268\\\\\n",
       "\\end{tabular}\n"
      ],
      "text/markdown": [
       "\n",
       "A tibble: 2 × 3\n",
       "\n",
       "| isanon &lt;chr&gt; | n_events &lt;int&gt; | n_sessions &lt;int&gt; |\n",
       "|---|---|---|\n",
       "| false |  22534 |  14454 |\n",
       "| true  | 592126 | 494268 |\n",
       "\n"
      ],
      "text/plain": [
       "  isanon n_events n_sessions\n",
       "1 false   22534    14454    \n",
       "2 true   592126   494268    "
      ]
     },
     "metadata": {},
     "output_type": "display_data"
    }
   ],
   "source": [
    "lang_button_events_byanon <- lang_button_events %>%\n",
    "    group_by(isanon) %>%\n",
    "    summarize(n_events = sum(n_events),\n",
    "             n_sessions = n_distinct(web_session_id)) \n",
    "\n",
    "head(lang_button_events_byanon)"
   ]
  },
  {
   "cell_type": "markdown",
   "metadata": {},
   "source": [
    "The majority of sessions with clicks to the language button are by logged out users (97.2%) "
   ]
  },
  {
   "cell_type": "markdown",
   "metadata": {},
   "source": [
    "## Clicks per session"
   ]
  },
  {
   "cell_type": "code",
   "execution_count": 49,
   "metadata": {},
   "outputs": [
    {
     "name": "stderr",
     "output_type": "stream",
     "text": [
      "`summarise()` ungrouping output (override with `.groups` argument)\n",
      "\n"
     ]
    },
    {
     "data": {
      "text/html": [
       "<table>\n",
       "<caption>A tibble: 2 × 4</caption>\n",
       "<thead>\n",
       "\t<tr><th scope=col>isanon</th><th scope=col>avg_clicks</th><th scope=col>max_clicks</th><th scope=col>min_clciks</th></tr>\n",
       "\t<tr><th scope=col>&lt;chr&gt;</th><th scope=col>&lt;dbl&gt;</th><th scope=col>&lt;int&gt;</th><th scope=col>&lt;int&gt;</th></tr>\n",
       "</thead>\n",
       "<tbody>\n",
       "\t<tr><td>false</td><td>1.496471</td><td> 84</td><td>1</td></tr>\n",
       "\t<tr><td>true </td><td>1.185743</td><td>798</td><td>1</td></tr>\n",
       "</tbody>\n",
       "</table>\n"
      ],
      "text/latex": [
       "A tibble: 2 × 4\n",
       "\\begin{tabular}{llll}\n",
       " isanon & avg\\_clicks & max\\_clicks & min\\_clciks\\\\\n",
       " <chr> & <dbl> & <int> & <int>\\\\\n",
       "\\hline\n",
       "\t false & 1.496471 &  84 & 1\\\\\n",
       "\t true  & 1.185743 & 798 & 1\\\\\n",
       "\\end{tabular}\n"
      ],
      "text/markdown": [
       "\n",
       "A tibble: 2 × 4\n",
       "\n",
       "| isanon &lt;chr&gt; | avg_clicks &lt;dbl&gt; | max_clicks &lt;int&gt; | min_clciks &lt;int&gt; |\n",
       "|---|---|---|---|\n",
       "| false | 1.496471 |  84 | 1 |\n",
       "| true  | 1.185743 | 798 | 1 |\n",
       "\n"
      ],
      "text/plain": [
       "  isanon avg_clicks max_clicks min_clciks\n",
       "1 false  1.496471    84        1         \n",
       "2 true   1.185743   798        1         "
      ]
     },
     "metadata": {},
     "output_type": "display_data"
    }
   ],
   "source": [
    "lang_button_events_persession <- lang_button_events %>%\n",
    "    group_by(isanon) %>%\n",
    "    summarize(avg_clicks = mean(n_events),\n",
    "              max_clicks = max(n_events),\n",
    "              min_clciks = min(n_events))\n",
    "\n",
    "lang_button_events_persession"
   ]
  },
  {
   "cell_type": "markdown",
   "metadata": {},
   "source": [
    "Most sessions include between 1 to 2 clicks to the language switcher button.\n",
    "\n",
    "Note: There are some sessions by anon users with over 600 clicks, which is is likely automated traffic from bots and can be filtered out."
   ]
  },
  {
   "cell_type": "markdown",
   "metadata": {},
   "source": [
    "## User Edit Bucket"
   ]
  },
  {
   "cell_type": "code",
   "execution_count": 36,
   "metadata": {},
   "outputs": [
    {
     "name": "stderr",
     "output_type": "stream",
     "text": [
      "`summarise()` ungrouping output (override with `.groups` argument)\n",
      "\n"
     ]
    },
    {
     "data": {
      "text/html": [
       "<table>\n",
       "<caption>A tibble: 5 × 3</caption>\n",
       "<thead>\n",
       "\t<tr><th scope=col>usereditbucket</th><th scope=col>n_events</th><th scope=col>n_sessions</th></tr>\n",
       "\t<tr><th scope=col>&lt;chr&gt;</th><th scope=col>&lt;int&gt;</th><th scope=col>&lt;int&gt;</th></tr>\n",
       "</thead>\n",
       "<tbody>\n",
       "\t<tr><td>0 edits      </td><td>5936</td><td>4666</td></tr>\n",
       "\t<tr><td>1-4 edits    </td><td>2404</td><td>1764</td></tr>\n",
       "\t<tr><td>100-999 edits</td><td>3215</td><td>1888</td></tr>\n",
       "\t<tr><td>1000+ edits  </td><td>5293</td><td>2628</td></tr>\n",
       "\t<tr><td>5-99 edits   </td><td>5156</td><td>3202</td></tr>\n",
       "</tbody>\n",
       "</table>\n"
      ],
      "text/latex": [
       "A tibble: 5 × 3\n",
       "\\begin{tabular}{lll}\n",
       " usereditbucket & n\\_events & n\\_sessions\\\\\n",
       " <chr> & <int> & <int>\\\\\n",
       "\\hline\n",
       "\t 0 edits       & 5936 & 4666\\\\\n",
       "\t 1-4 edits     & 2404 & 1764\\\\\n",
       "\t 100-999 edits & 3215 & 1888\\\\\n",
       "\t 1000+ edits   & 5293 & 2628\\\\\n",
       "\t 5-99 edits    & 5156 & 3202\\\\\n",
       "\\end{tabular}\n"
      ],
      "text/markdown": [
       "\n",
       "A tibble: 5 × 3\n",
       "\n",
       "| usereditbucket &lt;chr&gt; | n_events &lt;int&gt; | n_sessions &lt;int&gt; |\n",
       "|---|---|---|\n",
       "| 0 edits       | 5936 | 4666 |\n",
       "| 1-4 edits     | 2404 | 1764 |\n",
       "| 100-999 edits | 3215 | 1888 |\n",
       "| 1000+ edits   | 5293 | 2628 |\n",
       "| 5-99 edits    | 5156 | 3202 |\n",
       "\n"
      ],
      "text/plain": [
       "  usereditbucket n_events n_sessions\n",
       "1 0 edits        5936     4666      \n",
       "2 1-4 edits      2404     1764      \n",
       "3 100-999 edits  3215     1888      \n",
       "4 1000+ edits    5293     2628      \n",
       "5 5-99 edits     5156     3202      "
      ]
     },
     "metadata": {},
     "output_type": "display_data"
    }
   ],
   "source": [
    "logged_in_editcount <- lang_button_events %>%\n",
    "    filter(isanon == 'false') %>%\n",
    "    group_by(usereditbucket) %>%\n",
    "    summarize(n_events = sum(n_events),\n",
    "             n_sessions = n_distinct(web_session_id))\n",
    "\n",
    "logged_in_editcount"
   ]
  },
  {
   "cell_type": "code",
   "execution_count": 37,
   "metadata": {},
   "outputs": [
    {
     "name": "stderr",
     "output_type": "stream",
     "text": [
      "`summarise()` ungrouping output (override with `.groups` argument)\n",
      "\n"
     ]
    },
    {
     "data": {
      "text/html": [
       "<table>\n",
       "<caption>A tibble: 1 × 3</caption>\n",
       "<thead>\n",
       "\t<tr><th scope=col>usereditbucket</th><th scope=col>n_events</th><th scope=col>n_sessions</th></tr>\n",
       "\t<tr><th scope=col>&lt;chr&gt;</th><th scope=col>&lt;int&gt;</th><th scope=col>&lt;int&gt;</th></tr>\n",
       "</thead>\n",
       "<tbody>\n",
       "\t<tr><td>NULL</td><td>578951</td><td>483477</td></tr>\n",
       "</tbody>\n",
       "</table>\n"
      ],
      "text/latex": [
       "A tibble: 1 × 3\n",
       "\\begin{tabular}{lll}\n",
       " usereditbucket & n\\_events & n\\_sessions\\\\\n",
       " <chr> & <int> & <int>\\\\\n",
       "\\hline\n",
       "\t NULL & 578951 & 483477\\\\\n",
       "\\end{tabular}\n"
      ],
      "text/markdown": [
       "\n",
       "A tibble: 1 × 3\n",
       "\n",
       "| usereditbucket &lt;chr&gt; | n_events &lt;int&gt; | n_sessions &lt;int&gt; |\n",
       "|---|---|---|\n",
       "| NULL | 578951 | 483477 |\n",
       "\n"
      ],
      "text/plain": [
       "  usereditbucket n_events n_sessions\n",
       "1 NULL           578951   483477    "
      ]
     },
     "metadata": {},
     "output_type": "display_data"
    }
   ],
   "source": [
    "logged_out_editcount <- lang_button_events %>%\n",
    "    filter(isanon == 'true') %>%\n",
    "    group_by(usereditbucket) %>%\n",
    "    summarize(n_events = sum(n_events),\n",
    "             n_sessions = n_distinct(web_session_id))\n",
    "\n",
    "logged_out_editcount"
   ]
  },
  {
   "cell_type": "markdown",
   "metadata": {},
   "source": [
    "Confirmed that we are not recording an edit count for logged out users as expected."
   ]
  },
  {
   "cell_type": "markdown",
   "metadata": {},
   "source": [
    "## Content Language"
   ]
  },
  {
   "cell_type": "code",
   "execution_count": 38,
   "metadata": {},
   "outputs": [
    {
     "name": "stderr",
     "output_type": "stream",
     "text": [
      "`summarise()` regrouping output by 'interfacelanguage', 'contentlanguage' (override with `.groups` argument)\n",
      "\n"
     ]
    },
    {
     "data": {
      "text/html": [
       "<table>\n",
       "<caption>A grouped_df: 6 × 4</caption>\n",
       "<thead>\n",
       "\t<tr><th scope=col>interfacelanguage</th><th scope=col>contentlanguage</th><th scope=col>n_sessions</th><th scope=col>pct_sessions</th></tr>\n",
       "\t<tr><th scope=col>&lt;chr&gt;</th><th scope=col>&lt;chr&gt;</th><th scope=col>&lt;int&gt;</th><th scope=col>&lt;dbl&gt;</th></tr>\n",
       "</thead>\n",
       "<tbody>\n",
       "\t<tr><td>en</td><td>en</td><td>257528</td><td>0.51773060</td></tr>\n",
       "\t<tr><td>ru</td><td>ru</td><td> 35846</td><td>0.07206428</td></tr>\n",
       "\t<tr><td>de</td><td>de</td><td> 31134</td><td>0.06259135</td></tr>\n",
       "\t<tr><td>es</td><td>es</td><td> 24863</td><td>0.04998422</td></tr>\n",
       "\t<tr><td>fr</td><td>fr</td><td> 21550</td><td>0.04332381</td></tr>\n",
       "\t<tr><td>it</td><td>it</td><td> 13693</td><td>0.02752821</td></tr>\n",
       "</tbody>\n",
       "</table>\n"
      ],
      "text/latex": [
       "A grouped\\_df: 6 × 4\n",
       "\\begin{tabular}{llll}\n",
       " interfacelanguage & contentlanguage & n\\_sessions & pct\\_sessions\\\\\n",
       " <chr> & <chr> & <int> & <dbl>\\\\\n",
       "\\hline\n",
       "\t en & en & 257528 & 0.51773060\\\\\n",
       "\t ru & ru &  35846 & 0.07206428\\\\\n",
       "\t de & de &  31134 & 0.06259135\\\\\n",
       "\t es & es &  24863 & 0.04998422\\\\\n",
       "\t fr & fr &  21550 & 0.04332381\\\\\n",
       "\t it & it &  13693 & 0.02752821\\\\\n",
       "\\end{tabular}\n"
      ],
      "text/markdown": [
       "\n",
       "A grouped_df: 6 × 4\n",
       "\n",
       "| interfacelanguage &lt;chr&gt; | contentlanguage &lt;chr&gt; | n_sessions &lt;int&gt; | pct_sessions &lt;dbl&gt; |\n",
       "|---|---|---|---|\n",
       "| en | en | 257528 | 0.51773060 |\n",
       "| ru | ru |  35846 | 0.07206428 |\n",
       "| de | de |  31134 | 0.06259135 |\n",
       "| es | es |  24863 | 0.04998422 |\n",
       "| fr | fr |  21550 | 0.04332381 |\n",
       "| it | it |  13693 | 0.02752821 |\n",
       "\n"
      ],
      "text/plain": [
       "  interfacelanguage contentlanguage n_sessions pct_sessions\n",
       "1 en                en              257528     0.51773060  \n",
       "2 ru                ru               35846     0.07206428  \n",
       "3 de                de               31134     0.06259135  \n",
       "4 es                es               24863     0.04998422  \n",
       "5 fr                fr               21550     0.04332381  \n",
       "6 it                it               13693     0.02752821  "
      ]
     },
     "metadata": {},
     "output_type": "display_data"
    }
   ],
   "source": [
    "\n",
    "top_content_languages <- lang_button_events %>%\n",
    "    mutate(all_sessions = n_distinct(web_session_id)) %>%\n",
    "    group_by(interfacelanguage, contentlanguage) %>%\n",
    "    summarize(n_sessions = n_distinct(web_session_id),\n",
    "             pct_sessions = n_sessions/all_sessions) %>%\n",
    "    distinct() %>%\n",
    "    arrange(desc(n_sessions))\n",
    "\n",
    "head(top_content_languages )"
   ]
  },
  {
   "cell_type": "markdown",
   "metadata": {},
   "source": [
    "The top current content and interface lang settings are english, russian, german and spanish, which fits with the top wikis we see where the language button switch clicks occur."
   ]
  },
  {
   "cell_type": "markdown",
   "metadata": {},
   "source": [
    "## Event Context"
   ]
  },
  {
   "cell_type": "code",
   "execution_count": 39,
   "metadata": {},
   "outputs": [
    {
     "name": "stderr",
     "output_type": "stream",
     "text": [
      "`summarise()` ungrouping output (override with `.groups` argument)\n",
      "\n"
     ]
    },
    {
     "data": {
      "text/html": [
       "<table>\n",
       "<caption>A tibble: 1 × 3</caption>\n",
       "<thead>\n",
       "\t<tr><th scope=col>context</th><th scope=col>n_events</th><th scope=col>n_sessions</th></tr>\n",
       "\t<tr><th scope=col>&lt;chr&gt;</th><th scope=col>&lt;int&gt;</th><th scope=col>&lt;int&gt;</th></tr>\n",
       "</thead>\n",
       "<tbody>\n",
       "\t<tr><td>NULL</td><td>600955</td><td>497417</td></tr>\n",
       "</tbody>\n",
       "</table>\n"
      ],
      "text/latex": [
       "A tibble: 1 × 3\n",
       "\\begin{tabular}{lll}\n",
       " context & n\\_events & n\\_sessions\\\\\n",
       " <chr> & <int> & <int>\\\\\n",
       "\\hline\n",
       "\t NULL & 600955 & 497417\\\\\n",
       "\\end{tabular}\n"
      ],
      "text/markdown": [
       "\n",
       "A tibble: 1 × 3\n",
       "\n",
       "| context &lt;chr&gt; | n_events &lt;int&gt; | n_sessions &lt;int&gt; |\n",
       "|---|---|---|\n",
       "| NULL | 600955 | 497417 |\n",
       "\n"
      ],
      "text/plain": [
       "  context n_events n_sessions\n",
       "1 NULL    600955   497417    "
      ]
     },
     "metadata": {},
     "output_type": "display_data"
    }
   ],
   "source": [
    "\n",
    "lang_button_events_context <- lang_button_events %>%\n",
    "    group_by(context) %>%\n",
    "    summarize(n_events = sum(n_events),\n",
    "             n_sessions = n_distinct(web_session_id))\n",
    "\n",
    "lang_button_events_context"
   ]
  },
  {
   "cell_type": "markdown",
   "metadata": {},
   "source": [
    "We are not recording `event.context` for these events as expected. \n",
    "\n",
    "Note: This was changed with a fix deployed on 6 June 2021."
   ]
  },
  {
   "cell_type": "markdown",
   "metadata": {},
   "source": [
    "## Time to Change Language"
   ]
  },
  {
   "cell_type": "code",
   "execution_count": 40,
   "metadata": {},
   "outputs": [
    {
     "name": "stderr",
     "output_type": "stream",
     "text": [
      "Warning message in mean.default(timetochangelanguage):\n",
      "“argument is not numeric or logical: returning NA”\n",
      "Warning message in mean.default(sort(x, partial = half + 0L:1L)[half + 0L:1L]):\n",
      "“argument is not numeric or logical: returning NA”\n"
     ]
    },
    {
     "data": {
      "text/html": [
       "<table>\n",
       "<caption>A data.frame: 1 × 4</caption>\n",
       "<thead>\n",
       "\t<tr><th scope=col>avg_time</th><th scope=col>median_time</th><th scope=col>max_time</th><th scope=col>min_time</th></tr>\n",
       "\t<tr><th scope=col>&lt;dbl&gt;</th><th scope=col>&lt;dbl&gt;</th><th scope=col>&lt;chr&gt;</th><th scope=col>&lt;chr&gt;</th></tr>\n",
       "</thead>\n",
       "<tbody>\n",
       "\t<tr><td>NA</td><td>NA</td><td>NULL</td><td>NULL</td></tr>\n",
       "</tbody>\n",
       "</table>\n"
      ],
      "text/latex": [
       "A data.frame: 1 × 4\n",
       "\\begin{tabular}{llll}\n",
       " avg\\_time & median\\_time & max\\_time & min\\_time\\\\\n",
       " <dbl> & <dbl> & <chr> & <chr>\\\\\n",
       "\\hline\n",
       "\t NA & NA & NULL & NULL\\\\\n",
       "\\end{tabular}\n"
      ],
      "text/markdown": [
       "\n",
       "A data.frame: 1 × 4\n",
       "\n",
       "| avg_time &lt;dbl&gt; | median_time &lt;dbl&gt; | max_time &lt;chr&gt; | min_time &lt;chr&gt; |\n",
       "|---|---|---|---|\n",
       "| NA | NA | NULL | NULL |\n",
       "\n"
      ],
      "text/plain": [
       "  avg_time median_time max_time min_time\n",
       "1 NA       NA          NULL     NULL    "
      ]
     },
     "metadata": {},
     "output_type": "display_data"
    }
   ],
   "source": [
    "\n",
    "lang_button_events_time <- lang_button_events %>%\n",
    "    summarise(avg_time = mean(timetochangelanguage),\n",
    "             median_time = median(timetochangelanguage),\n",
    "             max_time = max(timetochangelanguage),\n",
    "             min_time = min(timetochangelanguage))\n",
    "\n",
    "lang_button_events_time"
   ]
  },
  {
   "cell_type": "markdown",
   "metadata": {},
   "source": [
    "Note: We don't record time to change language for the initial click to the button but we record when the user actually changes languages."
   ]
  },
  {
   "cell_type": "markdown",
   "metadata": {},
   "source": [
    "## Confirm we can identify language switches for sessions where button is clicked"
   ]
  },
  {
   "cell_type": "code",
   "execution_count": 130,
   "metadata": {},
   "outputs": [],
   "source": [
    "#rough query to confirm approach\n",
    "# will be refine in analysis\n",
    "query <- \n",
    "\"\n",
    "-- sessions where lang button was selected\n",
    "WITH button AS (\n",
    "SELECT\n",
    "    MIN(TO_DATE(dt)) as button_date,\n",
    "    event.web_session_id as session_id,\n",
    "    wiki as wiki\n",
    "FROM event.universallanguageselector\n",
    "WHERE\n",
    "    year = 2021\n",
    "    AND month >= 05\n",
    "    AND useragent.is_bot = false\n",
    "    AND event.action = 'compact-language-links-open'\n",
    "GROUP BY \n",
    "    event.web_session_id,\n",
    "    wiki\n",
    "),\n",
    "\n",
    "lang_switches AS (\n",
    "  SELECT\n",
    "    TO_DATE(dt) as switch_date,\n",
    "    event.web_session_id as session_id,\n",
    "    event.context as switch_context,\n",
    "    wiki as wiki\n",
    "FROM event.universallanguageselector\n",
    "WHERE\n",
    "    year = 2021\n",
    "    AND month >= 05\n",
    "    AND useragent.is_bot = false\n",
    "    AND event.action = 'language-change'\n",
    ")\n",
    "\n",
    "SELECT\n",
    "    button.button_date,\n",
    "    lang_switches.switch_date,\n",
    "    button.session_id,\n",
    "    button.wiki,\n",
    "-- sessions with lang switch that occured after button clicks\n",
    "    IF(lang_switches.session_id IS NOT NULL AND switch_date >= button_date, 1, 0) AS language_switch,\n",
    "    lang_switches.switch_context\n",
    "FROM button\n",
    "LEFT JOIN lang_switches ON\n",
    "    button.session_id = lang_switches.session_id AND\n",
    "    button.wiki = lang_switches.wiki\n",
    "    \n",
    "\""
   ]
  },
  {
   "cell_type": "code",
   "execution_count": 111,
   "metadata": {},
   "outputs": [
    {
     "name": "stderr",
     "output_type": "stream",
     "text": [
      "Don't forget to authenticate with Kerberos using kinit\n",
      "\n"
     ]
    }
   ],
   "source": [
    "lang_button_switch_events <-  wmfdata::query_hive(query)"
   ]
  },
  {
   "cell_type": "code",
   "execution_count": 112,
   "metadata": {},
   "outputs": [],
   "source": [
    "#reformat to date format\n",
    "lang_button_switch_events$button_date <- as.Date(lang_button_switch_events$button_date, format = \"%Y-%m-%d\")\n",
    "lang_button_switch_events$switch_date <- as.Date(lang_button_switch_events$switch_date, format = \"%Y-%m-%d\")"
   ]
  },
  {
   "cell_type": "markdown",
   "metadata": {},
   "source": [
    "## Lang Button Sessions with Language Switch"
   ]
  },
  {
   "cell_type": "code",
   "execution_count": 114,
   "metadata": {},
   "outputs": [
    {
     "name": "stderr",
     "output_type": "stream",
     "text": [
      "`summarise()` ungrouping output (override with `.groups` argument)\n",
      "\n"
     ]
    },
    {
     "data": {
      "text/html": [
       "<table>\n",
       "<caption>A tibble: 2 × 2</caption>\n",
       "<thead>\n",
       "\t<tr><th scope=col>language_switch</th><th scope=col>n_sessions</th></tr>\n",
       "\t<tr><th scope=col>&lt;chr&gt;</th><th scope=col>&lt;int&gt;</th></tr>\n",
       "</thead>\n",
       "<tbody>\n",
       "\t<tr><td>no_switch</td><td>1485327</td></tr>\n",
       "\t<tr><td>switch   </td><td>  53679</td></tr>\n",
       "</tbody>\n",
       "</table>\n"
      ],
      "text/latex": [
       "A tibble: 2 × 2\n",
       "\\begin{tabular}{ll}\n",
       " language\\_switch & n\\_sessions\\\\\n",
       " <chr> & <int>\\\\\n",
       "\\hline\n",
       "\t no\\_switch & 1485327\\\\\n",
       "\t switch    &   53679\\\\\n",
       "\\end{tabular}\n"
      ],
      "text/markdown": [
       "\n",
       "A tibble: 2 × 2\n",
       "\n",
       "| language_switch &lt;chr&gt; | n_sessions &lt;int&gt; |\n",
       "|---|---|\n",
       "| no_switch | 1485327 |\n",
       "| switch    |   53679 |\n",
       "\n"
      ],
      "text/plain": [
       "  language_switch n_sessions\n",
       "1 no_switch       1485327   \n",
       "2 switch            53679   "
      ]
     },
     "metadata": {},
     "output_type": "display_data"
    }
   ],
   "source": [
    "lang_button_switch_events_nsessions <- lang_button_switch_events %>%\n",
    "    mutate(language_switch = ifelse(language_switch == 0, \"no_switch\", \"switch\")) %>%\n",
    "    group_by(language_switch) %>%\n",
    "    summarise(n_sessions = n_distinct(session_id))\n",
    "\n",
    "lang_button_switch_events_nsessions"
   ]
  },
  {
   "cell_type": "markdown",
   "metadata": {},
   "source": [
    "About 3.4% of sessions where the language button was clicked was followed by an event to switch the language. "
   ]
  },
  {
   "cell_type": "markdown",
   "metadata": {},
   "source": [
    "## Lang Button Sessions with Switch by Context"
   ]
  },
  {
   "cell_type": "code",
   "execution_count": 115,
   "metadata": {},
   "outputs": [
    {
     "name": "stderr",
     "output_type": "stream",
     "text": [
      "`summarise()` ungrouping output (override with `.groups` argument)\n",
      "\n"
     ]
    },
    {
     "data": {
      "text/html": [
       "<table>\n",
       "<caption>A tibble: 2 × 2</caption>\n",
       "<thead>\n",
       "\t<tr><th scope=col>switch_context</th><th scope=col>n_sessions</th></tr>\n",
       "\t<tr><th scope=col>&lt;chr&gt;</th><th scope=col>&lt;int&gt;</th></tr>\n",
       "</thead>\n",
       "<tbody>\n",
       "\t<tr><td>interface     </td><td>  485</td></tr>\n",
       "\t<tr><td>languages-list</td><td>53205</td></tr>\n",
       "</tbody>\n",
       "</table>\n"
      ],
      "text/latex": [
       "A tibble: 2 × 2\n",
       "\\begin{tabular}{ll}\n",
       " switch\\_context & n\\_sessions\\\\\n",
       " <chr> & <int>\\\\\n",
       "\\hline\n",
       "\t interface      &   485\\\\\n",
       "\t languages-list & 53205\\\\\n",
       "\\end{tabular}\n"
      ],
      "text/markdown": [
       "\n",
       "A tibble: 2 × 2\n",
       "\n",
       "| switch_context &lt;chr&gt; | n_sessions &lt;int&gt; |\n",
       "|---|---|\n",
       "| interface      |   485 |\n",
       "| languages-list | 53205 |\n",
       "\n"
      ],
      "text/plain": [
       "  switch_context n_sessions\n",
       "1 interface        485     \n",
       "2 languages-list 53205     "
      ]
     },
     "metadata": {},
     "output_type": "display_data"
    }
   ],
   "source": [
    "lang_button_switch_events_nsessions <- lang_button_switch_events %>%\n",
    "    filter(language_switch == 1) %>%\n",
    "    group_by(switch_context) %>%\n",
    "    summarise(n_sessions = n_distinct(session_id))\n",
    "\n",
    "lang_button_switch_events_nsessions"
   ]
  },
  {
   "cell_type": "markdown",
   "metadata": {},
   "source": [
    "Confirmed that we are only recording `event.context` for langauge switches. There are two types of switches we are recording: 'interface\" and 'languages-list'.\n",
    "\n",
    "Almost all (99%) of sessions that switched languages after clicking the language button were recorded with `event.context = 'languages-list'`.  \n",
    "\n",
    "Note: We also use 'languages-list' to identify clicks to the sidebar. I'll need to use sessions that opened language switcher button to identify those that recieved the new treatment."
   ]
  },
  {
   "cell_type": "markdown",
   "metadata": {},
   "source": [
    "# Language Button Context Events\n",
    "\n",
    "Change deployed on 8 June 2021\n",
    "Rechecked data to confirm that events are recording as expected and that were able to distinguish between the following three event types:\n",
    "\n",
    "* People selecting language button on top of the page\n",
    "* People that are in the control bucket clicking the \"more\" button\n",
    "* People that have opted out of modern vector clicking the more button"
   ]
  },
  {
   "cell_type": "markdown",
   "metadata": {},
   "source": [
    "## By Skin Type"
   ]
  },
  {
   "cell_type": "code",
   "execution_count": 28,
   "metadata": {},
   "outputs": [
    {
     "name": "stderr",
     "output_type": "stream",
     "text": [
      "`summarise()` regrouping output by 'date', 'skin' (override with `.groups` argument)\n",
      "\n"
     ]
    },
    {
     "data": {
      "text/html": [
       "<table>\n",
       "<caption>A grouped_df: 3 × 4</caption>\n",
       "<thead>\n",
       "\t<tr><th scope=col>date</th><th scope=col>skin</th><th scope=col>skinversion</th><th scope=col>n_sessions</th></tr>\n",
       "\t<tr><th scope=col>&lt;chr&gt;</th><th scope=col>&lt;chr&gt;</th><th scope=col>&lt;chr&gt;</th><th scope=col>&lt;int&gt;</th></tr>\n",
       "</thead>\n",
       "<tbody>\n",
       "\t<tr><td>2021-06-08</td><td>NULL  </td><td>NULL  </td><td>30952</td></tr>\n",
       "\t<tr><td>2021-06-08</td><td>vector</td><td>latest</td><td> 2977</td></tr>\n",
       "\t<tr><td>2021-06-08</td><td>vector</td><td>legacy</td><td>28196</td></tr>\n",
       "</tbody>\n",
       "</table>\n"
      ],
      "text/latex": [
       "A grouped\\_df: 3 × 4\n",
       "\\begin{tabular}{llll}\n",
       " date & skin & skinversion & n\\_sessions\\\\\n",
       " <chr> & <chr> & <chr> & <int>\\\\\n",
       "\\hline\n",
       "\t 2021-06-08 & NULL   & NULL   & 30952\\\\\n",
       "\t 2021-06-08 & vector & latest &  2977\\\\\n",
       "\t 2021-06-08 & vector & legacy & 28196\\\\\n",
       "\\end{tabular}\n"
      ],
      "text/markdown": [
       "\n",
       "A grouped_df: 3 × 4\n",
       "\n",
       "| date &lt;chr&gt; | skin &lt;chr&gt; | skinversion &lt;chr&gt; | n_sessions &lt;int&gt; |\n",
       "|---|---|---|---|\n",
       "| 2021-06-08 | NULL   | NULL   | 30952 |\n",
       "| 2021-06-08 | vector | latest |  2977 |\n",
       "| 2021-06-08 | vector | legacy | 28196 |\n",
       "\n"
      ],
      "text/plain": [
       "  date       skin   skinversion n_sessions\n",
       "1 2021-06-08 NULL   NULL        30952     \n",
       "2 2021-06-08 vector latest       2977     \n",
       "3 2021-06-08 vector legacy      28196     "
      ]
     },
     "metadata": {},
     "output_type": "display_data"
    }
   ],
   "source": [
    "lang_button_switch_events_byskin <- lang_button_events %>%\n",
    "    filter(date >= '2021-06-08') %>% # date fix deployed\n",
    "    group_by(date, skin, skinversion) %>%\n",
    "    summarise(n_sessions = n_distinct(web_session_id))\n",
    "\n",
    "lang_button_switch_events_byskin "
   ]
  },
  {
   "cell_type": "markdown",
   "metadata": {},
   "source": [
    "We are recording two skin types: 'NULL and 'vector' and recording both skin version types for vector:  'latest' and 'legacy'. I'm assuming NULL counts as all skin types not as vector. It's not needed for the AB test but I might recommend revising to clarify the specific non-vector skin types at some point."
   ]
  },
  {
   "cell_type": "code",
   "execution_count": null,
   "metadata": {},
   "outputs": [],
   "source": [
    "# By Context Field"
   ]
  },
  {
   "cell_type": "code",
   "execution_count": 32,
   "metadata": {},
   "outputs": [
    {
     "name": "stderr",
     "output_type": "stream",
     "text": [
      "`summarise()` regrouping output by 'context', 'skin' (override with `.groups` argument)\n",
      "\n"
     ]
    },
    {
     "data": {
      "text/html": [
       "<table>\n",
       "<caption>A grouped_df: 4 × 4</caption>\n",
       "<thead>\n",
       "\t<tr><th scope=col>context</th><th scope=col>skin</th><th scope=col>skinversion</th><th scope=col>n_sessions</th></tr>\n",
       "\t<tr><th scope=col>&lt;chr&gt;</th><th scope=col>&lt;chr&gt;</th><th scope=col>&lt;chr&gt;</th><th scope=col>&lt;int&gt;</th></tr>\n",
       "</thead>\n",
       "<tbody>\n",
       "\t<tr><td>header</td><td>vector</td><td>latest</td><td>  165</td></tr>\n",
       "\t<tr><td>NULL  </td><td>NULL  </td><td>NULL  </td><td>30952</td></tr>\n",
       "\t<tr><td>other </td><td>vector</td><td>latest</td><td> 2812</td></tr>\n",
       "\t<tr><td>other </td><td>vector</td><td>legacy</td><td>28196</td></tr>\n",
       "</tbody>\n",
       "</table>\n"
      ],
      "text/latex": [
       "A grouped\\_df: 4 × 4\n",
       "\\begin{tabular}{llll}\n",
       " context & skin & skinversion & n\\_sessions\\\\\n",
       " <chr> & <chr> & <chr> & <int>\\\\\n",
       "\\hline\n",
       "\t header & vector & latest &   165\\\\\n",
       "\t NULL   & NULL   & NULL   & 30952\\\\\n",
       "\t other  & vector & latest &  2812\\\\\n",
       "\t other  & vector & legacy & 28196\\\\\n",
       "\\end{tabular}\n"
      ],
      "text/markdown": [
       "\n",
       "A grouped_df: 4 × 4\n",
       "\n",
       "| context &lt;chr&gt; | skin &lt;chr&gt; | skinversion &lt;chr&gt; | n_sessions &lt;int&gt; |\n",
       "|---|---|---|---|\n",
       "| header | vector | latest |   165 |\n",
       "| NULL   | NULL   | NULL   | 30952 |\n",
       "| other  | vector | latest |  2812 |\n",
       "| other  | vector | legacy | 28196 |\n",
       "\n"
      ],
      "text/plain": [
       "  context skin   skinversion n_sessions\n",
       "1 header  vector latest        165     \n",
       "2 NULL    NULL   NULL        30952     \n",
       "3 other   vector latest       2812     \n",
       "4 other   vector legacy      28196     "
      ]
     },
     "metadata": {},
     "output_type": "display_data"
    }
   ],
   "source": [
    "lang_button_switch_events_bycontext <- lang_button_events %>%\n",
    "    filter(date >= '2021-06-08') %>% # date fix deployed\n",
    "    group_by(context, skin, skinversion) %>%\n",
    "    summarise(n_sessions = n_distinct(web_session_id))\n",
    "\n",
    "lang_button_switch_events_bycontext "
   ]
  },
  {
   "cell_type": "markdown",
   "metadata": {},
   "source": [
    "* Confirmed that with new instrumentation we can differentiate the following event types:\n",
    "  * People on vector selecting language button on top of the page:  `event.action = 'compact-language-links-open'`; `event.context = 'header'`; `event.skinVersion = 'latest'`\n",
    "  * People on vector that are in the control bucket clicking the \" N more\" button in the sidebar: `event.action = 'compact-language-links-open'` and `event.context = 'other'`, `event.skinVersion = 'latest'`\n",
    "  * People that have opted out of modern vector clicking the more button: `event.context = 'NULL'`; `event.skinVersion = 'NULL'`\n",
    "\n",
    "\n",
    "We are only recording clicks to the new button in the header on the latest vector as expected. \n",
    "\n",
    "There are clicks to the N More button by both legacy and latest as expected. The new language button was not deployed to logged-in users on test wikis so they would still have clicks to the N more button on the latest vector. When the AB test run, only users in the control group will be able to access the N more button on the latest vector.\n",
    "\n",
    "Note context value events are only set for user on vector; however, we can identify click from other skins to the N More button by the lack of values (`event.context = NULL`)\n",
    "\n"
   ]
  },
  {
   "cell_type": "markdown",
   "metadata": {},
   "source": [
    "## By logged-in and logged-out status"
   ]
  },
  {
   "cell_type": "code",
   "execution_count": 36,
   "metadata": {},
   "outputs": [
    {
     "name": "stderr",
     "output_type": "stream",
     "text": [
      "`summarise()` regrouping output by 'context', 'skin', 'skinversion' (override with `.groups` argument)\n",
      "\n"
     ]
    },
    {
     "data": {
      "text/html": [
       "<table>\n",
       "<caption>A grouped_df: 7 × 5</caption>\n",
       "<thead>\n",
       "\t<tr><th scope=col>context</th><th scope=col>skin</th><th scope=col>skinversion</th><th scope=col>isanon</th><th scope=col>n_sessions</th></tr>\n",
       "\t<tr><th scope=col>&lt;chr&gt;</th><th scope=col>&lt;chr&gt;</th><th scope=col>&lt;chr&gt;</th><th scope=col>&lt;chr&gt;</th><th scope=col>&lt;int&gt;</th></tr>\n",
       "</thead>\n",
       "<tbody>\n",
       "\t<tr><td>header</td><td>vector</td><td>latest</td><td>false</td><td>  165</td></tr>\n",
       "\t<tr><td>NULL  </td><td>NULL  </td><td>NULL  </td><td>false</td><td>  838</td></tr>\n",
       "\t<tr><td>NULL  </td><td>NULL  </td><td>NULL  </td><td>true </td><td>30126</td></tr>\n",
       "\t<tr><td>other </td><td>vector</td><td>latest</td><td>false</td><td>   75</td></tr>\n",
       "\t<tr><td>other </td><td>vector</td><td>latest</td><td>true </td><td> 2738</td></tr>\n",
       "\t<tr><td>other </td><td>vector</td><td>legacy</td><td>false</td><td>  701</td></tr>\n",
       "\t<tr><td>other </td><td>vector</td><td>legacy</td><td>true </td><td>27504</td></tr>\n",
       "</tbody>\n",
       "</table>\n"
      ],
      "text/latex": [
       "A grouped\\_df: 7 × 5\n",
       "\\begin{tabular}{lllll}\n",
       " context & skin & skinversion & isanon & n\\_sessions\\\\\n",
       " <chr> & <chr> & <chr> & <chr> & <int>\\\\\n",
       "\\hline\n",
       "\t header & vector & latest & false &   165\\\\\n",
       "\t NULL   & NULL   & NULL   & false &   838\\\\\n",
       "\t NULL   & NULL   & NULL   & true  & 30126\\\\\n",
       "\t other  & vector & latest & false &    75\\\\\n",
       "\t other  & vector & latest & true  &  2738\\\\\n",
       "\t other  & vector & legacy & false &   701\\\\\n",
       "\t other  & vector & legacy & true  & 27504\\\\\n",
       "\\end{tabular}\n"
      ],
      "text/markdown": [
       "\n",
       "A grouped_df: 7 × 5\n",
       "\n",
       "| context &lt;chr&gt; | skin &lt;chr&gt; | skinversion &lt;chr&gt; | isanon &lt;chr&gt; | n_sessions &lt;int&gt; |\n",
       "|---|---|---|---|---|\n",
       "| header | vector | latest | false |   165 |\n",
       "| NULL   | NULL   | NULL   | false |   838 |\n",
       "| NULL   | NULL   | NULL   | true  | 30126 |\n",
       "| other  | vector | latest | false |    75 |\n",
       "| other  | vector | latest | true  |  2738 |\n",
       "| other  | vector | legacy | false |   701 |\n",
       "| other  | vector | legacy | true  | 27504 |\n",
       "\n"
      ],
      "text/plain": [
       "  context skin   skinversion isanon n_sessions\n",
       "1 header  vector latest      false    165     \n",
       "2 NULL    NULL   NULL        false    838     \n",
       "3 NULL    NULL   NULL        true   30126     \n",
       "4 other   vector latest      false     75     \n",
       "5 other   vector latest      true    2738     \n",
       "6 other   vector legacy      false    701     \n",
       "7 other   vector legacy      true   27504     "
      ]
     },
     "metadata": {},
     "output_type": "display_data"
    }
   ],
   "source": [
    "lang_button_switch_events_byisanon <- lang_button_events %>%\n",
    "    filter(date >= '2021-06-08') %>% # date fix deployed\n",
    "    group_by(context, skin, skinversion, isanon) %>%\n",
    "    summarise(n_sessions = n_distinct(web_session_id))\n",
    "\n",
    "lang_button_switch_events_byisanon "
   ]
  },
  {
   "cell_type": "markdown",
   "metadata": {},
   "source": [
    "## Totals by Anon"
   ]
  },
  {
   "cell_type": "code",
   "execution_count": 51,
   "metadata": {},
   "outputs": [
    {
     "name": "stderr",
     "output_type": "stream",
     "text": [
      "`summarise()` ungrouping output (override with `.groups` argument)\n",
      "\n"
     ]
    },
    {
     "data": {
      "text/html": [
       "<table>\n",
       "<caption>A tibble: 1 × 3</caption>\n",
       "<thead>\n",
       "\t<tr><th scope=col>isanon</th><th scope=col>n_events</th><th scope=col>n_sessions</th></tr>\n",
       "\t<tr><th scope=col>&lt;chr&gt;</th><th scope=col>&lt;int&gt;</th><th scope=col>&lt;int&gt;</th></tr>\n",
       "</thead>\n",
       "<tbody>\n",
       "\t<tr><td>false</td><td>384</td><td>165</td></tr>\n",
       "</tbody>\n",
       "</table>\n"
      ],
      "text/latex": [
       "A tibble: 1 × 3\n",
       "\\begin{tabular}{lll}\n",
       " isanon & n\\_events & n\\_sessions\\\\\n",
       " <chr> & <int> & <int>\\\\\n",
       "\\hline\n",
       "\t false & 384 & 165\\\\\n",
       "\\end{tabular}\n"
      ],
      "text/markdown": [
       "\n",
       "A tibble: 1 × 3\n",
       "\n",
       "| isanon &lt;chr&gt; | n_events &lt;int&gt; | n_sessions &lt;int&gt; |\n",
       "|---|---|---|\n",
       "| false | 384 | 165 |\n",
       "\n"
      ],
      "text/plain": [
       "  isanon n_events n_sessions\n",
       "1 false  384      165       "
      ]
     },
     "metadata": {},
     "output_type": "display_data"
    }
   ],
   "source": [
    "lang_button_events_byanon <- lang_button_events %>%\n",
    "    filter(date >= '2021-06-08',\n",
    "          context == 'header') %>% # date fix deployed\n",
    "    group_by(isanon) %>%\n",
    "    summarize(n_events = sum(n_events),\n",
    "             n_sessions = n_distinct(web_session_id)) \n",
    "\n",
    "head(lang_button_events_byanon)"
   ]
  },
  {
   "cell_type": "markdown",
   "metadata": {},
   "source": [
    "Confirmed we are only recording clicks to the new language button by logged-in users. All new button clicks recorded so far have been on latest vector. "
   ]
  },
  {
   "cell_type": "markdown",
   "metadata": {},
   "source": [
    "# By Test Wiki"
   ]
  },
  {
   "cell_type": "code",
   "execution_count": 37,
   "metadata": {},
   "outputs": [
    {
     "name": "stderr",
     "output_type": "stream",
     "text": [
      "`summarise()` regrouping output by 'context', 'skin', 'skinversion' (override with `.groups` argument)\n",
      "\n"
     ]
    },
    {
     "data": {
      "text/html": [
       "<table>\n",
       "<caption>A grouped_df: 5 × 5</caption>\n",
       "<thead>\n",
       "\t<tr><th scope=col>context</th><th scope=col>skin</th><th scope=col>skinversion</th><th scope=col>isanon</th><th scope=col>n_sessions</th></tr>\n",
       "\t<tr><th scope=col>&lt;chr&gt;</th><th scope=col>&lt;chr&gt;</th><th scope=col>&lt;chr&gt;</th><th scope=col>&lt;chr&gt;</th><th scope=col>&lt;int&gt;</th></tr>\n",
       "</thead>\n",
       "<tbody>\n",
       "\t<tr><td>NULL </td><td>NULL  </td><td>NULL  </td><td>false</td><td>  77</td></tr>\n",
       "\t<tr><td>NULL </td><td>NULL  </td><td>NULL  </td><td>true </td><td>2276</td></tr>\n",
       "\t<tr><td>other</td><td>vector</td><td>latest</td><td>false</td><td>  75</td></tr>\n",
       "\t<tr><td>other</td><td>vector</td><td>latest</td><td>true </td><td>2738</td></tr>\n",
       "\t<tr><td>other</td><td>vector</td><td>legacy</td><td>false</td><td>  10</td></tr>\n",
       "</tbody>\n",
       "</table>\n"
      ],
      "text/latex": [
       "A grouped\\_df: 5 × 5\n",
       "\\begin{tabular}{lllll}\n",
       " context & skin & skinversion & isanon & n\\_sessions\\\\\n",
       " <chr> & <chr> & <chr> & <chr> & <int>\\\\\n",
       "\\hline\n",
       "\t NULL  & NULL   & NULL   & false &   77\\\\\n",
       "\t NULL  & NULL   & NULL   & true  & 2276\\\\\n",
       "\t other & vector & latest & false &   75\\\\\n",
       "\t other & vector & latest & true  & 2738\\\\\n",
       "\t other & vector & legacy & false &   10\\\\\n",
       "\\end{tabular}\n"
      ],
      "text/markdown": [
       "\n",
       "A grouped_df: 5 × 5\n",
       "\n",
       "| context &lt;chr&gt; | skin &lt;chr&gt; | skinversion &lt;chr&gt; | isanon &lt;chr&gt; | n_sessions &lt;int&gt; |\n",
       "|---|---|---|---|---|\n",
       "| NULL  | NULL   | NULL   | false |   77 |\n",
       "| NULL  | NULL   | NULL   | true  | 2276 |\n",
       "| other | vector | latest | false |   75 |\n",
       "| other | vector | latest | true  | 2738 |\n",
       "| other | vector | legacy | false |   10 |\n",
       "\n"
      ],
      "text/plain": [
       "  context skin   skinversion isanon n_sessions\n",
       "1 NULL    NULL   NULL        false    77      \n",
       "2 NULL    NULL   NULL        true   2276      \n",
       "3 other   vector latest      false    75      \n",
       "4 other   vector latest      true   2738      \n",
       "5 other   vector legacy      false    10      "
      ]
     },
     "metadata": {},
     "output_type": "display_data"
    }
   ],
   "source": [
    "lang_button_switch_events_byisanon_testwiki <- lang_button_events %>%\n",
    "    filter(wiki %in% c('frwiktionary', 'hewiki', 'ptwikiversity', 'frwiki', \n",
    "    'euwiki', 'fawiki', 'ptwiki', 'kowiki', 'trwiki', 'srwiki', 'bnwiki', 'dewikivoyage', 'vecwiki' ), \n",
    "        date >= '2021-06-08') %>% # date fix deployed\n",
    "    group_by(context, skin, skinversion, isanon) %>%\n",
    "    summarise(n_sessions = n_distinct(web_session_id))\n",
    "\n",
    "lang_button_switch_events_byisanon_testwiki"
   ]
  },
  {
   "cell_type": "markdown",
   "metadata": {},
   "source": [
    "Confirmed we have not recorded any of the new button clicks on the test wikis. \n",
    "\n",
    "Numbers appear as experted. There are a limited number of events recorded on legacy vector as it's only deployed as opt out."
   ]
  },
  {
   "cell_type": "markdown",
   "metadata": {},
   "source": [
    "# By Non Test Wiki"
   ]
  },
  {
   "cell_type": "code",
   "execution_count": 48,
   "metadata": {},
   "outputs": [
    {
     "name": "stderr",
     "output_type": "stream",
     "text": [
      "`summarise()` regrouping output by 'context', 'skin', 'skinversion' (override with `.groups` argument)\n",
      "\n"
     ]
    },
    {
     "data": {
      "text/html": [
       "<table>\n",
       "<caption>A grouped_df: 1 × 6</caption>\n",
       "<thead>\n",
       "\t<tr><th scope=col>context</th><th scope=col>skin</th><th scope=col>skinversion</th><th scope=col>isanon</th><th scope=col>n_sessions</th><th scope=col>n_events</th></tr>\n",
       "\t<tr><th scope=col>&lt;chr&gt;</th><th scope=col>&lt;chr&gt;</th><th scope=col>&lt;chr&gt;</th><th scope=col>&lt;chr&gt;</th><th scope=col>&lt;int&gt;</th><th scope=col>&lt;int&gt;</th></tr>\n",
       "</thead>\n",
       "<tbody>\n",
       "\t<tr><td>header</td><td>vector</td><td>latest</td><td>false</td><td>165</td><td>384</td></tr>\n",
       "</tbody>\n",
       "</table>\n"
      ],
      "text/latex": [
       "A grouped\\_df: 1 × 6\n",
       "\\begin{tabular}{llllll}\n",
       " context & skin & skinversion & isanon & n\\_sessions & n\\_events\\\\\n",
       " <chr> & <chr> & <chr> & <chr> & <int> & <int>\\\\\n",
       "\\hline\n",
       "\t header & vector & latest & false & 165 & 384\\\\\n",
       "\\end{tabular}\n"
      ],
      "text/markdown": [
       "\n",
       "A grouped_df: 1 × 6\n",
       "\n",
       "| context &lt;chr&gt; | skin &lt;chr&gt; | skinversion &lt;chr&gt; | isanon &lt;chr&gt; | n_sessions &lt;int&gt; | n_events &lt;int&gt; |\n",
       "|---|---|---|---|---|---|\n",
       "| header | vector | latest | false | 165 | 384 |\n",
       "\n"
      ],
      "text/plain": [
       "  context skin   skinversion isanon n_sessions n_events\n",
       "1 header  vector latest      false  165        384     "
      ]
     },
     "metadata": {},
     "output_type": "display_data"
    }
   ],
   "source": [
    "lang_button_switch_events_bynontest <- lang_button_events %>%\n",
    "    filter(skinversion == 'latest',\n",
    "           skin == 'vector',\n",
    "           date >= '2021-06-08',\n",
    "          isanon == 'false',\n",
    "        !wiki %in% c('frwiktionary', 'hewiki', 'ptwikiversity', 'frwiki', \n",
    "    'euwiki', 'fawiki', 'ptwiki', 'kowiki', 'trwiki', 'srwiki', 'bnwiki', 'dewikivoyage', 'vecwiki' ), \n",
    "        date >= '2021-06-08') %>% # date fix deployed\n",
    "    group_by(context, skin, skinversion, isanon) %>%\n",
    "    summarise(n_sessions = n_distinct(web_session_id),\n",
    "             n_events = sum(n_events))\n",
    "\n",
    "lang_button_switch_events_bynontest"
   ]
  },
  {
   "cell_type": "markdown",
   "metadata": {},
   "source": [
    "On non-test wikis, we are only recoring clicks to the new button by logged-in users on the latest vector as expected.\n"
   ]
  },
  {
   "cell_type": "markdown",
   "metadata": {},
   "source": [
    "## Content Language Check"
   ]
  },
  {
   "cell_type": "code",
   "execution_count": 56,
   "metadata": {},
   "outputs": [
    {
     "name": "stderr",
     "output_type": "stream",
     "text": [
      "`summarise()` regrouping output by 'interfacelanguage', 'contentlanguage' (override with `.groups` argument)\n",
      "\n"
     ]
    },
    {
     "data": {
      "text/html": [
       "<table>\n",
       "<caption>A grouped_df: 6 × 4</caption>\n",
       "<thead>\n",
       "\t<tr><th scope=col>interfacelanguage</th><th scope=col>contentlanguage</th><th scope=col>n_sessions</th><th scope=col>pct_sessions</th></tr>\n",
       "\t<tr><th scope=col>&lt;chr&gt;</th><th scope=col>&lt;chr&gt;</th><th scope=col>&lt;int&gt;</th><th scope=col>&lt;dbl&gt;</th></tr>\n",
       "</thead>\n",
       "<tbody>\n",
       "\t<tr><td>en   </td><td>en</td><td>57</td><td>0.34545455</td></tr>\n",
       "\t<tr><td>de   </td><td>de</td><td>21</td><td>0.12727273</td></tr>\n",
       "\t<tr><td>ru   </td><td>ru</td><td>10</td><td>0.06060606</td></tr>\n",
       "\t<tr><td>es   </td><td>es</td><td> 6</td><td>0.03636364</td></tr>\n",
       "\t<tr><td>ja   </td><td>ja</td><td> 5</td><td>0.03030303</td></tr>\n",
       "\t<tr><td>zh-cn</td><td>zh</td><td> 5</td><td>0.03030303</td></tr>\n",
       "</tbody>\n",
       "</table>\n"
      ],
      "text/latex": [
       "A grouped\\_df: 6 × 4\n",
       "\\begin{tabular}{llll}\n",
       " interfacelanguage & contentlanguage & n\\_sessions & pct\\_sessions\\\\\n",
       " <chr> & <chr> & <int> & <dbl>\\\\\n",
       "\\hline\n",
       "\t en    & en & 57 & 0.34545455\\\\\n",
       "\t de    & de & 21 & 0.12727273\\\\\n",
       "\t ru    & ru & 10 & 0.06060606\\\\\n",
       "\t es    & es &  6 & 0.03636364\\\\\n",
       "\t ja    & ja &  5 & 0.03030303\\\\\n",
       "\t zh-cn & zh &  5 & 0.03030303\\\\\n",
       "\\end{tabular}\n"
      ],
      "text/markdown": [
       "\n",
       "A grouped_df: 6 × 4\n",
       "\n",
       "| interfacelanguage &lt;chr&gt; | contentlanguage &lt;chr&gt; | n_sessions &lt;int&gt; | pct_sessions &lt;dbl&gt; |\n",
       "|---|---|---|---|\n",
       "| en    | en | 57 | 0.34545455 |\n",
       "| de    | de | 21 | 0.12727273 |\n",
       "| ru    | ru | 10 | 0.06060606 |\n",
       "| es    | es |  6 | 0.03636364 |\n",
       "| ja    | ja |  5 | 0.03030303 |\n",
       "| zh-cn | zh |  5 | 0.03030303 |\n",
       "\n"
      ],
      "text/plain": [
       "  interfacelanguage contentlanguage n_sessions pct_sessions\n",
       "1 en                en              57         0.34545455  \n",
       "2 de                de              21         0.12727273  \n",
       "3 ru                ru              10         0.06060606  \n",
       "4 es                es               6         0.03636364  \n",
       "5 ja                ja               5         0.03030303  \n",
       "6 zh-cn             zh               5         0.03030303  "
      ]
     },
     "metadata": {},
     "output_type": "display_data"
    }
   ],
   "source": [
    "\n",
    "top_content_languages <- lang_button_events %>%\n",
    "    filter(date >= '2021-06-08',\n",
    "              context == 'header') %>%\n",
    "    mutate(all_sessions = n_distinct(web_session_id)) %>%\n",
    "    group_by(interfacelanguage, contentlanguage) %>%\n",
    "    summarize(n_sessions = n_distinct(web_session_id),\n",
    "             pct_sessions = n_sessions/all_sessions) %>%\n",
    "    distinct() %>%\n",
    "    arrange(desc(n_sessions))\n",
    "\n",
    "head(top_content_languages)"
   ]
  },
  {
   "cell_type": "markdown",
   "metadata": {},
   "source": [
    "No test wikis and larger size non-test wikis are listed as the top content langauges where a new search button was clicked."
   ]
  },
  {
   "cell_type": "markdown",
   "metadata": {},
   "source": [
    "## Edit Count"
   ]
  },
  {
   "cell_type": "code",
   "execution_count": 58,
   "metadata": {},
   "outputs": [
    {
     "data": {
      "text/html": [
       "<table>\n",
       "<caption>A data.frame: 6 × 13</caption>\n",
       "<thead>\n",
       "\t<tr><th></th><th scope=col>date</th><th scope=col>wiki</th><th scope=col>web_session_id</th><th scope=col>usereditbucket</th><th scope=col>skin</th><th scope=col>skinversion</th><th scope=col>timetochangelanguage</th><th scope=col>isanon</th><th scope=col>context</th><th scope=col>interfacelanguage</th><th scope=col>contentlanguage</th><th scope=col>selectedinterfacelanguage</th><th scope=col>n_events</th></tr>\n",
       "\t<tr><th></th><th scope=col>&lt;chr&gt;</th><th scope=col>&lt;chr&gt;</th><th scope=col>&lt;chr&gt;</th><th scope=col>&lt;chr&gt;</th><th scope=col>&lt;chr&gt;</th><th scope=col>&lt;chr&gt;</th><th scope=col>&lt;chr&gt;</th><th scope=col>&lt;chr&gt;</th><th scope=col>&lt;chr&gt;</th><th scope=col>&lt;chr&gt;</th><th scope=col>&lt;chr&gt;</th><th scope=col>&lt;chr&gt;</th><th scope=col>&lt;int&gt;</th></tr>\n",
       "</thead>\n",
       "<tbody>\n",
       "\t<tr><th scope=row>1</th><td>2021-05-13</td><td>cawiki</td><td>205596296f4ce5352e34</td><td>NULL</td><td>NULL</td><td>NULL</td><td>NULL</td><td>true</td><td>NULL</td><td>ca</td><td>ca</td><td>NULL</td><td>1</td></tr>\n",
       "\t<tr><th scope=row>2</th><td>2021-05-13</td><td>cawiki</td><td>32623c7a023a8bedb6e2</td><td>NULL</td><td>NULL</td><td>NULL</td><td>NULL</td><td>true</td><td>NULL</td><td>ca</td><td>ca</td><td>NULL</td><td>1</td></tr>\n",
       "\t<tr><th scope=row>3</th><td>2021-05-13</td><td>cawiki</td><td>96dbd9a60cd3d8270205</td><td>NULL</td><td>NULL</td><td>NULL</td><td>NULL</td><td>true</td><td>NULL</td><td>ca</td><td>ca</td><td>NULL</td><td>1</td></tr>\n",
       "\t<tr><th scope=row>4</th><td>2021-05-13</td><td>cawiki</td><td>a2eb4ceb37694c2b36d8</td><td>NULL</td><td>NULL</td><td>NULL</td><td>NULL</td><td>true</td><td>NULL</td><td>ca</td><td>ca</td><td>NULL</td><td>1</td></tr>\n",
       "\t<tr><th scope=row>5</th><td>2021-05-13</td><td>cawiki</td><td>ac87e9211a203b542c97</td><td>NULL</td><td>NULL</td><td>NULL</td><td>NULL</td><td>true</td><td>NULL</td><td>ca</td><td>ca</td><td>NULL</td><td>1</td></tr>\n",
       "\t<tr><th scope=row>6</th><td>2021-05-13</td><td>cawiki</td><td>b40db07cf13c447a8453</td><td>NULL</td><td>NULL</td><td>NULL</td><td>NULL</td><td>true</td><td>NULL</td><td>ca</td><td>ca</td><td>NULL</td><td>1</td></tr>\n",
       "</tbody>\n",
       "</table>\n"
      ],
      "text/latex": [
       "A data.frame: 6 × 13\n",
       "\\begin{tabular}{r|lllllllllllll}\n",
       "  & date & wiki & web\\_session\\_id & usereditbucket & skin & skinversion & timetochangelanguage & isanon & context & interfacelanguage & contentlanguage & selectedinterfacelanguage & n\\_events\\\\\n",
       "  & <chr> & <chr> & <chr> & <chr> & <chr> & <chr> & <chr> & <chr> & <chr> & <chr> & <chr> & <chr> & <int>\\\\\n",
       "\\hline\n",
       "\t1 & 2021-05-13 & cawiki & 205596296f4ce5352e34 & NULL & NULL & NULL & NULL & true & NULL & ca & ca & NULL & 1\\\\\n",
       "\t2 & 2021-05-13 & cawiki & 32623c7a023a8bedb6e2 & NULL & NULL & NULL & NULL & true & NULL & ca & ca & NULL & 1\\\\\n",
       "\t3 & 2021-05-13 & cawiki & 96dbd9a60cd3d8270205 & NULL & NULL & NULL & NULL & true & NULL & ca & ca & NULL & 1\\\\\n",
       "\t4 & 2021-05-13 & cawiki & a2eb4ceb37694c2b36d8 & NULL & NULL & NULL & NULL & true & NULL & ca & ca & NULL & 1\\\\\n",
       "\t5 & 2021-05-13 & cawiki & ac87e9211a203b542c97 & NULL & NULL & NULL & NULL & true & NULL & ca & ca & NULL & 1\\\\\n",
       "\t6 & 2021-05-13 & cawiki & b40db07cf13c447a8453 & NULL & NULL & NULL & NULL & true & NULL & ca & ca & NULL & 1\\\\\n",
       "\\end{tabular}\n"
      ],
      "text/markdown": [
       "\n",
       "A data.frame: 6 × 13\n",
       "\n",
       "| <!--/--> | date &lt;chr&gt; | wiki &lt;chr&gt; | web_session_id &lt;chr&gt; | usereditbucket &lt;chr&gt; | skin &lt;chr&gt; | skinversion &lt;chr&gt; | timetochangelanguage &lt;chr&gt; | isanon &lt;chr&gt; | context &lt;chr&gt; | interfacelanguage &lt;chr&gt; | contentlanguage &lt;chr&gt; | selectedinterfacelanguage &lt;chr&gt; | n_events &lt;int&gt; |\n",
       "|---|---|---|---|---|---|---|---|---|---|---|---|---|---|\n",
       "| 1 | 2021-05-13 | cawiki | 205596296f4ce5352e34 | NULL | NULL | NULL | NULL | true | NULL | ca | ca | NULL | 1 |\n",
       "| 2 | 2021-05-13 | cawiki | 32623c7a023a8bedb6e2 | NULL | NULL | NULL | NULL | true | NULL | ca | ca | NULL | 1 |\n",
       "| 3 | 2021-05-13 | cawiki | 96dbd9a60cd3d8270205 | NULL | NULL | NULL | NULL | true | NULL | ca | ca | NULL | 1 |\n",
       "| 4 | 2021-05-13 | cawiki | a2eb4ceb37694c2b36d8 | NULL | NULL | NULL | NULL | true | NULL | ca | ca | NULL | 1 |\n",
       "| 5 | 2021-05-13 | cawiki | ac87e9211a203b542c97 | NULL | NULL | NULL | NULL | true | NULL | ca | ca | NULL | 1 |\n",
       "| 6 | 2021-05-13 | cawiki | b40db07cf13c447a8453 | NULL | NULL | NULL | NULL | true | NULL | ca | ca | NULL | 1 |\n",
       "\n"
      ],
      "text/plain": [
       "  date       wiki   web_session_id       usereditbucket skin skinversion\n",
       "1 2021-05-13 cawiki 205596296f4ce5352e34 NULL           NULL NULL       \n",
       "2 2021-05-13 cawiki 32623c7a023a8bedb6e2 NULL           NULL NULL       \n",
       "3 2021-05-13 cawiki 96dbd9a60cd3d8270205 NULL           NULL NULL       \n",
       "4 2021-05-13 cawiki a2eb4ceb37694c2b36d8 NULL           NULL NULL       \n",
       "5 2021-05-13 cawiki ac87e9211a203b542c97 NULL           NULL NULL       \n",
       "6 2021-05-13 cawiki b40db07cf13c447a8453 NULL           NULL NULL       \n",
       "  timetochangelanguage isanon context interfacelanguage contentlanguage\n",
       "1 NULL                 true   NULL    ca                ca             \n",
       "2 NULL                 true   NULL    ca                ca             \n",
       "3 NULL                 true   NULL    ca                ca             \n",
       "4 NULL                 true   NULL    ca                ca             \n",
       "5 NULL                 true   NULL    ca                ca             \n",
       "6 NULL                 true   NULL    ca                ca             \n",
       "  selectedinterfacelanguage n_events\n",
       "1 NULL                      1       \n",
       "2 NULL                      1       \n",
       "3 NULL                      1       \n",
       "4 NULL                      1       \n",
       "5 NULL                      1       \n",
       "6 NULL                      1       "
      ]
     },
     "metadata": {},
     "output_type": "display_data"
    }
   ],
   "source": [
    "head(lang_button_events)"
   ]
  },
  {
   "cell_type": "code",
   "execution_count": 60,
   "metadata": {},
   "outputs": [
    {
     "name": "stderr",
     "output_type": "stream",
     "text": [
      "`summarise()` ungrouping output (override with `.groups` argument)\n",
      "\n"
     ]
    },
    {
     "data": {
      "text/html": [
       "<table>\n",
       "<caption>A tibble: 5 × 2</caption>\n",
       "<thead>\n",
       "\t<tr><th scope=col>usereditbucket</th><th scope=col>n_sessions</th></tr>\n",
       "\t<tr><th scope=col>&lt;chr&gt;</th><th scope=col>&lt;int&gt;</th></tr>\n",
       "</thead>\n",
       "<tbody>\n",
       "\t<tr><td>0 edits      </td><td>17</td></tr>\n",
       "\t<tr><td>1-4 edits    </td><td> 7</td></tr>\n",
       "\t<tr><td>100-999 edits</td><td>32</td></tr>\n",
       "\t<tr><td>1000+ edits  </td><td>74</td></tr>\n",
       "\t<tr><td>5-99 edits   </td><td>35</td></tr>\n",
       "</tbody>\n",
       "</table>\n"
      ],
      "text/latex": [
       "A tibble: 5 × 2\n",
       "\\begin{tabular}{ll}\n",
       " usereditbucket & n\\_sessions\\\\\n",
       " <chr> & <int>\\\\\n",
       "\\hline\n",
       "\t 0 edits       & 17\\\\\n",
       "\t 1-4 edits     &  7\\\\\n",
       "\t 100-999 edits & 32\\\\\n",
       "\t 1000+ edits   & 74\\\\\n",
       "\t 5-99 edits    & 35\\\\\n",
       "\\end{tabular}\n"
      ],
      "text/markdown": [
       "\n",
       "A tibble: 5 × 2\n",
       "\n",
       "| usereditbucket &lt;chr&gt; | n_sessions &lt;int&gt; |\n",
       "|---|---|\n",
       "| 0 edits       | 17 |\n",
       "| 1-4 edits     |  7 |\n",
       "| 100-999 edits | 32 |\n",
       "| 1000+ edits   | 74 |\n",
       "| 5-99 edits    | 35 |\n",
       "\n"
      ],
      "text/plain": [
       "  usereditbucket n_sessions\n",
       "1 0 edits        17        \n",
       "2 1-4 edits       7        \n",
       "3 100-999 edits  32        \n",
       "4 1000+ edits    74        \n",
       "5 5-99 edits     35        "
      ]
     },
     "metadata": {},
     "output_type": "display_data"
    }
   ],
   "source": [
    "\n",
    "lang_button_byeditcount <- lang_button_events %>%\n",
    "    filter(date >= '2021-06-08',\n",
    "              context == 'header') %>%\n",
    "    group_by(usereditbucket) %>%\n",
    "    summarize(n_sessions = n_distinct(web_session_id))\n",
    "\n",
    "lang_button_byeditcount"
   ]
  },
  {
   "cell_type": "markdown",
   "metadata": {},
   "source": [
    "## Check that you can determine language switches from sessions with clicks to new button"
   ]
  },
  {
   "cell_type": "code",
   "execution_count": 141,
   "metadata": {},
   "outputs": [],
   "source": [
    "#rough query to confirm approach\n",
    "# will be refine in analysis\n",
    "query <- \n",
    "\"\n",
    "-- sessions where lang button was selected\n",
    "WITH button AS (\n",
    "SELECT\n",
    "    MIN(TO_DATE(dt)) as button_date,\n",
    "    event.web_session_id as session_id,\n",
    "    event.skinVersion as skinversion,\n",
    "    event.context as button_type,\n",
    "    wiki as wiki\n",
    "FROM event.universallanguageselector\n",
    "WHERE\n",
    "    year = 2021\n",
    "    AND month = 06\n",
    "    AND Day >= 08\n",
    "    AND useragent.is_bot = false\n",
    "    AND event.action = 'compact-language-links-open'\n",
    "GROUP BY \n",
    "    event.web_session_id,\n",
    "    event.context,\n",
    "    event.skinversion,\n",
    "    wiki\n",
    "),\n",
    "\n",
    "lang_switches AS (\n",
    "  SELECT\n",
    "    TO_DATE(dt) as switch_date,\n",
    "    event.web_session_id as session_id,\n",
    "    event.context as switch_context,\n",
    "    wiki as wiki\n",
    "FROM event.universallanguageselector\n",
    "WHERE\n",
    "    year = 2021\n",
    "    AND month = 06\n",
    "    AND Day >= 08\n",
    "    AND useragent.is_bot = false\n",
    "    AND event.action = 'language-change'\n",
    ")\n",
    "\n",
    "SELECT\n",
    "    button.button_date,\n",
    "    button.button_type,\n",
    "    button.skinversion,\n",
    "    lang_switches.switch_date,\n",
    "    button.session_id,\n",
    "    button.wiki,\n",
    "-- sessions with lang switch that occured after button clicks\n",
    "    IF(lang_switches.session_id IS NOT NULL, 1, 0) AS language_switch,\n",
    "    lang_switches.switch_context\n",
    "FROM button\n",
    "LEFT JOIN lang_switches ON\n",
    "    button.session_id = lang_switches.session_id\n",
    "    \n",
    "\""
   ]
  },
  {
   "cell_type": "code",
   "execution_count": 142,
   "metadata": {},
   "outputs": [
    {
     "name": "stderr",
     "output_type": "stream",
     "text": [
      "Don't forget to authenticate with Kerberos using kinit\n",
      "\n"
     ]
    }
   ],
   "source": [
    "lang_button_switch_events <-  wmfdata::query_hive(query)"
   ]
  },
  {
   "cell_type": "code",
   "execution_count": 143,
   "metadata": {},
   "outputs": [
    {
     "name": "stderr",
     "output_type": "stream",
     "text": [
      "`summarise()` regrouping output by 'button_type', 'switch_context' (override with `.groups` argument)\n",
      "\n"
     ]
    },
    {
     "data": {
      "text/html": [
       "<table>\n",
       "<caption>A grouped_df: 8 × 4</caption>\n",
       "<thead>\n",
       "\t<tr><th scope=col>button_type</th><th scope=col>switch_context</th><th scope=col>language_switch</th><th scope=col>n_sessions</th></tr>\n",
       "\t<tr><th scope=col>&lt;chr&gt;</th><th scope=col>&lt;chr&gt;</th><th scope=col>&lt;int&gt;</th><th scope=col>&lt;int&gt;</th></tr>\n",
       "</thead>\n",
       "<tbody>\n",
       "\t<tr><td>header</td><td>interface     </td><td>1</td><td>     1</td></tr>\n",
       "\t<tr><td>header</td><td>NULL          </td><td>0</td><td>   488</td></tr>\n",
       "\t<tr><td>NULL  </td><td>interface     </td><td>1</td><td>     8</td></tr>\n",
       "\t<tr><td>NULL  </td><td>languages-list</td><td>1</td><td>   866</td></tr>\n",
       "\t<tr><td>NULL  </td><td>NULL          </td><td>0</td><td> 30170</td></tr>\n",
       "\t<tr><td>other </td><td>interface     </td><td>1</td><td>    30</td></tr>\n",
       "\t<tr><td>other </td><td>languages-list</td><td>1</td><td>  3664</td></tr>\n",
       "\t<tr><td>other </td><td>NULL          </td><td>0</td><td>105454</td></tr>\n",
       "</tbody>\n",
       "</table>\n"
      ],
      "text/latex": [
       "A grouped\\_df: 8 × 4\n",
       "\\begin{tabular}{llll}\n",
       " button\\_type & switch\\_context & language\\_switch & n\\_sessions\\\\\n",
       " <chr> & <chr> & <int> & <int>\\\\\n",
       "\\hline\n",
       "\t header & interface      & 1 &      1\\\\\n",
       "\t header & NULL           & 0 &    488\\\\\n",
       "\t NULL   & interface      & 1 &      8\\\\\n",
       "\t NULL   & languages-list & 1 &    866\\\\\n",
       "\t NULL   & NULL           & 0 &  30170\\\\\n",
       "\t other  & interface      & 1 &     30\\\\\n",
       "\t other  & languages-list & 1 &   3664\\\\\n",
       "\t other  & NULL           & 0 & 105454\\\\\n",
       "\\end{tabular}\n"
      ],
      "text/markdown": [
       "\n",
       "A grouped_df: 8 × 4\n",
       "\n",
       "| button_type &lt;chr&gt; | switch_context &lt;chr&gt; | language_switch &lt;int&gt; | n_sessions &lt;int&gt; |\n",
       "|---|---|---|---|\n",
       "| header | interface      | 1 |      1 |\n",
       "| header | NULL           | 0 |    488 |\n",
       "| NULL   | interface      | 1 |      8 |\n",
       "| NULL   | languages-list | 1 |    866 |\n",
       "| NULL   | NULL           | 0 |  30170 |\n",
       "| other  | interface      | 1 |     30 |\n",
       "| other  | languages-list | 1 |   3664 |\n",
       "| other  | NULL           | 0 | 105454 |\n",
       "\n"
      ],
      "text/plain": [
       "  button_type switch_context language_switch n_sessions\n",
       "1 header      interface      1                    1    \n",
       "2 header      NULL           0                  488    \n",
       "3 NULL        interface      1                    8    \n",
       "4 NULL        languages-list 1                  866    \n",
       "5 NULL        NULL           0                30170    \n",
       "6 other       interface      1                   30    \n",
       "7 other       languages-list 1                 3664    \n",
       "8 other       NULL           0               105454    "
      ]
     },
     "metadata": {},
     "output_type": "display_data"
    }
   ],
   "source": [
    "lang_button_switch_bybuttontype <- lang_button_switch_events %>%\n",
    "    group_by(button_type, switch_context, language_switch)  %>%\n",
    "    summarise(n_sessions = n_distinct(session_id))\n",
    "\n",
    "lang_button_switch_bybuttontype"
   ]
  },
  {
   "cell_type": "markdown",
   "metadata": {},
   "source": [
    "Since deployment of the new context fields, we have not recorded any language switches to a language link after a user clicks the new language button in the header.  Note: A NULL button_type means the user clicked from a skin type other than vector.\n",
    "\n",
    "ISSUE: Need to double check that clicks to the language link after clicking the new button are instrumented?\n"
   ]
  },
  {
   "cell_type": "code",
   "execution_count": 109,
   "metadata": {},
   "outputs": [
    {
     "name": "stderr",
     "output_type": "stream",
     "text": [
      "`summarise()` regrouping output by 'button_type', 'switch_context', 'language_switch' (override with `.groups` argument)\n",
      "\n"
     ]
    },
    {
     "data": {
      "text/html": [
       "<table>\n",
       "<caption>A grouped_df: 11 × 5</caption>\n",
       "<thead>\n",
       "\t<tr><th scope=col>button_type</th><th scope=col>switch_context</th><th scope=col>language_switch</th><th scope=col>skinversion</th><th scope=col>n_sessions</th></tr>\n",
       "\t<tr><th scope=col>&lt;chr&gt;</th><th scope=col>&lt;chr&gt;</th><th scope=col>&lt;int&gt;</th><th scope=col>&lt;chr&gt;</th><th scope=col>&lt;int&gt;</th></tr>\n",
       "</thead>\n",
       "<tbody>\n",
       "\t<tr><td>header</td><td>NULL          </td><td>0</td><td>latest</td><td>  434</td></tr>\n",
       "\t<tr><td>NULL  </td><td>interface     </td><td>1</td><td>NULL  </td><td>    8</td></tr>\n",
       "\t<tr><td>NULL  </td><td>languages-list</td><td>1</td><td>NULL  </td><td>  864</td></tr>\n",
       "\t<tr><td>NULL  </td><td>NULL          </td><td>0</td><td>NULL  </td><td>30163</td></tr>\n",
       "\t<tr><td>other </td><td>interface     </td><td>1</td><td>latest</td><td>    2</td></tr>\n",
       "\t<tr><td>other </td><td>interface     </td><td>1</td><td>legacy</td><td>   22</td></tr>\n",
       "\t<tr><td>other </td><td>languages-list</td><td>0</td><td>latest</td><td>  185</td></tr>\n",
       "\t<tr><td>other </td><td>languages-list</td><td>1</td><td>latest</td><td> 3113</td></tr>\n",
       "\t<tr><td>other </td><td>languages-list</td><td>1</td><td>legacy</td><td>    2</td></tr>\n",
       "\t<tr><td>other </td><td>NULL          </td><td>0</td><td>latest</td><td> 4991</td></tr>\n",
       "\t<tr><td>other </td><td>NULL          </td><td>0</td><td>legacy</td><td>87790</td></tr>\n",
       "</tbody>\n",
       "</table>\n"
      ],
      "text/latex": [
       "A grouped\\_df: 11 × 5\n",
       "\\begin{tabular}{lllll}\n",
       " button\\_type & switch\\_context & language\\_switch & skinversion & n\\_sessions\\\\\n",
       " <chr> & <chr> & <int> & <chr> & <int>\\\\\n",
       "\\hline\n",
       "\t header & NULL           & 0 & latest &   434\\\\\n",
       "\t NULL   & interface      & 1 & NULL   &     8\\\\\n",
       "\t NULL   & languages-list & 1 & NULL   &   864\\\\\n",
       "\t NULL   & NULL           & 0 & NULL   & 30163\\\\\n",
       "\t other  & interface      & 1 & latest &     2\\\\\n",
       "\t other  & interface      & 1 & legacy &    22\\\\\n",
       "\t other  & languages-list & 0 & latest &   185\\\\\n",
       "\t other  & languages-list & 1 & latest &  3113\\\\\n",
       "\t other  & languages-list & 1 & legacy &     2\\\\\n",
       "\t other  & NULL           & 0 & latest &  4991\\\\\n",
       "\t other  & NULL           & 0 & legacy & 87790\\\\\n",
       "\\end{tabular}\n"
      ],
      "text/markdown": [
       "\n",
       "A grouped_df: 11 × 5\n",
       "\n",
       "| button_type &lt;chr&gt; | switch_context &lt;chr&gt; | language_switch &lt;int&gt; | skinversion &lt;chr&gt; | n_sessions &lt;int&gt; |\n",
       "|---|---|---|---|---|\n",
       "| header | NULL           | 0 | latest |   434 |\n",
       "| NULL   | interface      | 1 | NULL   |     8 |\n",
       "| NULL   | languages-list | 1 | NULL   |   864 |\n",
       "| NULL   | NULL           | 0 | NULL   | 30163 |\n",
       "| other  | interface      | 1 | latest |     2 |\n",
       "| other  | interface      | 1 | legacy |    22 |\n",
       "| other  | languages-list | 0 | latest |   185 |\n",
       "| other  | languages-list | 1 | latest |  3113 |\n",
       "| other  | languages-list | 1 | legacy |     2 |\n",
       "| other  | NULL           | 0 | latest |  4991 |\n",
       "| other  | NULL           | 0 | legacy | 87790 |\n",
       "\n"
      ],
      "text/plain": [
       "   button_type switch_context language_switch skinversion n_sessions\n",
       "1  header      NULL           0               latest        434     \n",
       "2  NULL        interface      1               NULL            8     \n",
       "3  NULL        languages-list 1               NULL          864     \n",
       "4  NULL        NULL           0               NULL        30163     \n",
       "5  other       interface      1               latest          2     \n",
       "6  other       interface      1               legacy         22     \n",
       "7  other       languages-list 0               latest        185     \n",
       "8  other       languages-list 1               latest       3113     \n",
       "9  other       languages-list 1               legacy          2     \n",
       "10 other       NULL           0               latest       4991     \n",
       "11 other       NULL           0               legacy      87790     "
      ]
     },
     "metadata": {},
     "output_type": "display_data"
    }
   ],
   "source": [
    "lang_button_switch_byskintype <- lang_button_switch_events %>%\n",
    "    group_by(button_type, switch_context, language_switch, skinversion)  %>%\n",
    "    summarise(n_sessions = n_distinct(session_id))\n",
    "\n",
    "lang_button_switch_bybuttontype"
   ]
  },
  {
   "cell_type": "markdown",
   "metadata": {},
   "source": [
    "## Check Sidebar Clicks with added skin context fields"
   ]
  },
  {
   "cell_type": "code",
   "execution_count": 79,
   "metadata": {},
   "outputs": [],
   "source": [
    "query <- \n",
    "\"\n",
    "SELECT\n",
    "    TO_DATE(dt) AS `date`,\n",
    "    wiki,\n",
    "    event.web_session_id,\n",
    "    event.usereditbucket,\n",
    "    event.skin,\n",
    "    event.skinVersion,\n",
    "    event.timetochangelanguage,\n",
    "    event.isanon,\n",
    "    event.action,\n",
    "    event.interfacelanguage,\n",
    "    event.contentlanguage,\n",
    "    event.selectedinterfacelanguage,\n",
    "    Count(*) AS n_events\n",
    "FROM event.universallanguageselector\n",
    "WHERE\n",
    "    year = 2021\n",
    "    AND month = 06\n",
    "    AND day >= 08\n",
    "    AND event.context = 'languages-list'\n",
    "    AND useragent.is_bot = false\n",
    "GROUP BY\n",
    "    TO_DATE(dt),\n",
    "    wiki,\n",
    "    event.web_session_id,\n",
    "    event.usereditbucket,\n",
    "    event.skin,\n",
    "    event.skinVersion,\n",
    "    event.timetochangelanguage,\n",
    "    event.isanon,\n",
    "    event.action,\n",
    "    event.interfacelanguage,\n",
    "    event.contentlanguage,\n",
    "    event.selectedinterfacelanguage\n",
    "\""
   ]
  },
  {
   "cell_type": "code",
   "execution_count": 80,
   "metadata": {},
   "outputs": [
    {
     "name": "stderr",
     "output_type": "stream",
     "text": [
      "Don't forget to authenticate with Kerberos using kinit\n",
      "\n"
     ]
    }
   ],
   "source": [
    "lang_sidebar_events <-  wmfdata::query_hive(query)"
   ]
  },
  {
   "cell_type": "code",
   "execution_count": 82,
   "metadata": {},
   "outputs": [
    {
     "name": "stderr",
     "output_type": "stream",
     "text": [
      "`summarise()` regrouping output by 'skin', 'skinversion' (override with `.groups` argument)\n",
      "\n"
     ]
    },
    {
     "data": {
      "text/html": [
       "<table>\n",
       "<caption>A grouped_df: 4 × 4</caption>\n",
       "<thead>\n",
       "\t<tr><th scope=col>skin</th><th scope=col>skinversion</th><th scope=col>isanon</th><th scope=col>n_sessions</th></tr>\n",
       "\t<tr><th scope=col>&lt;chr&gt;</th><th scope=col>&lt;chr&gt;</th><th scope=col>&lt;chr&gt;</th><th scope=col>&lt;int&gt;</th></tr>\n",
       "</thead>\n",
       "<tbody>\n",
       "\t<tr><td>NULL  </td><td>NULL  </td><td>false</td><td>  1526</td></tr>\n",
       "\t<tr><td>NULL  </td><td>NULL  </td><td>true </td><td> 70140</td></tr>\n",
       "\t<tr><td>vector</td><td>latest</td><td>false</td><td>  4732</td></tr>\n",
       "\t<tr><td>vector</td><td>latest</td><td>true </td><td>225717</td></tr>\n",
       "</tbody>\n",
       "</table>\n"
      ],
      "text/latex": [
       "A grouped\\_df: 4 × 4\n",
       "\\begin{tabular}{llll}\n",
       " skin & skinversion & isanon & n\\_sessions\\\\\n",
       " <chr> & <chr> & <chr> & <int>\\\\\n",
       "\\hline\n",
       "\t NULL   & NULL   & false &   1526\\\\\n",
       "\t NULL   & NULL   & true  &  70140\\\\\n",
       "\t vector & latest & false &   4732\\\\\n",
       "\t vector & latest & true  & 225717\\\\\n",
       "\\end{tabular}\n"
      ],
      "text/markdown": [
       "\n",
       "A grouped_df: 4 × 4\n",
       "\n",
       "| skin &lt;chr&gt; | skinversion &lt;chr&gt; | isanon &lt;chr&gt; | n_sessions &lt;int&gt; |\n",
       "|---|---|---|---|\n",
       "| NULL   | NULL   | false |   1526 |\n",
       "| NULL   | NULL   | true  |  70140 |\n",
       "| vector | latest | false |   4732 |\n",
       "| vector | latest | true  | 225717 |\n",
       "\n"
      ],
      "text/plain": [
       "  skin   skinversion isanon n_sessions\n",
       "1 NULL   NULL        false    1526    \n",
       "2 NULL   NULL        true    70140    \n",
       "3 vector latest      false    4732    \n",
       "4 vector latest      true   225717    "
      ]
     },
     "metadata": {},
     "output_type": "display_data"
    }
   ],
   "source": [
    "lang_sidebar_events_byskintype<- lang_sidebar_events %>%\n",
    "    group_by(skin, skinversion, isanon) %>%\n",
    "    summarize(n_sessions = n_distinct(web_session_id))\n",
    "\n",
    "lang_sidebar_events_byskintype"
   ]
  },
  {
   "cell_type": "markdown",
   "metadata": {},
   "source": [
    "We are recording clicks to the language list in the sidebar either the latest version of vector or NULL. This is expected as instrumentation for sidebar clicks was limited to language listFurther instrumentation here to clarfiy NULL values would be helpful but it is assumed that any events identifed with a NULL skin type came from non latest vector.\n",
    "\n",
    "This instrumentation will be good for the AB Test since we will only be looking users on the latest vector skin; however, further clarification of these other skin types will be useful in the future in case we want to know percent of users clicking on these links from legacy vector vs other skin types."
   ]
  },
  {
   "cell_type": "markdown",
   "metadata": {},
   "source": [
    "### By Non-Test Wiki"
   ]
  },
  {
   "cell_type": "code",
   "execution_count": 89,
   "metadata": {},
   "outputs": [
    {
     "name": "stderr",
     "output_type": "stream",
     "text": [
      "`summarise()` regrouping output by 'skin', 'skinversion' (override with `.groups` argument)\n",
      "\n"
     ]
    },
    {
     "data": {
      "text/html": [
       "<table>\n",
       "<caption>A grouped_df: 3 × 4</caption>\n",
       "<thead>\n",
       "\t<tr><th scope=col>skin</th><th scope=col>skinversion</th><th scope=col>isanon</th><th scope=col>n_sessions</th></tr>\n",
       "\t<tr><th scope=col>&lt;chr&gt;</th><th scope=col>&lt;chr&gt;</th><th scope=col>&lt;chr&gt;</th><th scope=col>&lt;int&gt;</th></tr>\n",
       "</thead>\n",
       "<tbody>\n",
       "\t<tr><td>NULL  </td><td>NULL  </td><td>true </td><td>1</td></tr>\n",
       "\t<tr><td>vector</td><td>latest</td><td>false</td><td>5</td></tr>\n",
       "\t<tr><td>vector</td><td>latest</td><td>true </td><td>5</td></tr>\n",
       "</tbody>\n",
       "</table>\n"
      ],
      "text/latex": [
       "A grouped\\_df: 3 × 4\n",
       "\\begin{tabular}{llll}\n",
       " skin & skinversion & isanon & n\\_sessions\\\\\n",
       " <chr> & <chr> & <chr> & <int>\\\\\n",
       "\\hline\n",
       "\t NULL   & NULL   & true  & 1\\\\\n",
       "\t vector & latest & false & 5\\\\\n",
       "\t vector & latest & true  & 5\\\\\n",
       "\\end{tabular}\n"
      ],
      "text/markdown": [
       "\n",
       "A grouped_df: 3 × 4\n",
       "\n",
       "| skin &lt;chr&gt; | skinversion &lt;chr&gt; | isanon &lt;chr&gt; | n_sessions &lt;int&gt; |\n",
       "|---|---|---|---|\n",
       "| NULL   | NULL   | true  | 1 |\n",
       "| vector | latest | false | 5 |\n",
       "| vector | latest | true  | 5 |\n",
       "\n"
      ],
      "text/plain": [
       "  skin   skinversion isanon n_sessions\n",
       "1 NULL   NULL        true   1         \n",
       "2 vector latest      false  5         \n",
       "3 vector latest      true   5         "
      ]
     },
     "metadata": {},
     "output_type": "display_data"
    }
   ],
   "source": [
    "lang_sidebar_events_byskintype_nontestwiki <- lang_sidebar_events %>%\n",
    "    filter(!wiki %in% c('frwiktionary', 'hewiki', 'ptwikiversity', 'frwiki', \n",
    "    'euwiki', 'fawiki', 'ptwiki', 'kowiki', 'trwiki', 'srwiki', 'bnwiki', 'dewikivoyage', 'vecwiki' )) %>%\n",
    "    group_by(skin, skinversion, isanon) %>%\n",
    "    summarize(n_sessions = n_distinct(web_session_id))\n",
    "\n",
    "lang_sidebar_events_byskintype_nontestwiki"
   ]
  },
  {
   "cell_type": "code",
   "execution_count": null,
   "metadata": {},
   "outputs": [],
   "source": [
    "## By Test Wiki"
   ]
  },
  {
   "cell_type": "code",
   "execution_count": 90,
   "metadata": {},
   "outputs": [
    {
     "name": "stderr",
     "output_type": "stream",
     "text": [
      "`summarise()` regrouping output by 'skin', 'skinversion' (override with `.groups` argument)\n",
      "\n"
     ]
    },
    {
     "data": {
      "text/html": [
       "<table>\n",
       "<caption>A grouped_df: 4 × 4</caption>\n",
       "<thead>\n",
       "\t<tr><th scope=col>skin</th><th scope=col>skinversion</th><th scope=col>isanon</th><th scope=col>n_sessions</th></tr>\n",
       "\t<tr><th scope=col>&lt;chr&gt;</th><th scope=col>&lt;chr&gt;</th><th scope=col>&lt;chr&gt;</th><th scope=col>&lt;int&gt;</th></tr>\n",
       "</thead>\n",
       "<tbody>\n",
       "\t<tr><td>NULL  </td><td>NULL  </td><td>false</td><td>  1526</td></tr>\n",
       "\t<tr><td>NULL  </td><td>NULL  </td><td>true </td><td> 70139</td></tr>\n",
       "\t<tr><td>vector</td><td>latest</td><td>false</td><td>  4727</td></tr>\n",
       "\t<tr><td>vector</td><td>latest</td><td>true </td><td>225712</td></tr>\n",
       "</tbody>\n",
       "</table>\n"
      ],
      "text/latex": [
       "A grouped\\_df: 4 × 4\n",
       "\\begin{tabular}{llll}\n",
       " skin & skinversion & isanon & n\\_sessions\\\\\n",
       " <chr> & <chr> & <chr> & <int>\\\\\n",
       "\\hline\n",
       "\t NULL   & NULL   & false &   1526\\\\\n",
       "\t NULL   & NULL   & true  &  70139\\\\\n",
       "\t vector & latest & false &   4727\\\\\n",
       "\t vector & latest & true  & 225712\\\\\n",
       "\\end{tabular}\n"
      ],
      "text/markdown": [
       "\n",
       "A grouped_df: 4 × 4\n",
       "\n",
       "| skin &lt;chr&gt; | skinversion &lt;chr&gt; | isanon &lt;chr&gt; | n_sessions &lt;int&gt; |\n",
       "|---|---|---|---|\n",
       "| NULL   | NULL   | false |   1526 |\n",
       "| NULL   | NULL   | true  |  70139 |\n",
       "| vector | latest | false |   4727 |\n",
       "| vector | latest | true  | 225712 |\n",
       "\n"
      ],
      "text/plain": [
       "  skin   skinversion isanon n_sessions\n",
       "1 NULL   NULL        false    1526    \n",
       "2 NULL   NULL        true    70139    \n",
       "3 vector latest      false    4727    \n",
       "4 vector latest      true   225712    "
      ]
     },
     "metadata": {},
     "output_type": "display_data"
    }
   ],
   "source": [
    "lang_sidebar_events_byskintype_testwiki <- lang_sidebar_events %>%\n",
    "    filter(wiki %in% c('frwiktionary', 'hewiki', 'ptwikiversity', 'frwiki', \n",
    "    'euwiki', 'fawiki', 'ptwiki', 'kowiki', 'trwiki', 'srwiki', 'bnwiki', 'dewikivoyage', 'vecwiki' )) %>%\n",
    "    group_by(skin, skinversion, isanon) %>%\n",
    "    summarize(n_sessions = n_distinct(web_session_id))\n",
    "\n",
    "lang_sidebar_events_byskintype_testwiki"
   ]
  },
  {
   "cell_type": "markdown",
   "metadata": {},
   "source": [
    "Since the AB test has not started, we are not logging a lot of clicks by logged in or logged out users to the lang links on the sidebar on non-test wikis (the new search button was deployed as to all logged-in users on latest vector). \n",
    "\n",
    "Note: There are 5 sessions by both logged-in and logged-out users on the latest vector recorded as having click a lang list link. Not sure where these are coming from but it's such a small percentage it should not impact the AB test.\n",
    "\n",
    "The majority of clicks occur on test wikis by logged-out as expected. \n",
    "\n",
    "Once the AB test runs, any clicks to the lang links in the sidebar should only be recorded by users in the control group. "
   ]
  },
  {
   "cell_type": "markdown",
   "metadata": {},
   "source": [
    "### By Action"
   ]
  },
  {
   "cell_type": "code",
   "execution_count": 135,
   "metadata": {},
   "outputs": [
    {
     "name": "stderr",
     "output_type": "stream",
     "text": [
      "`summarise()` ungrouping output (override with `.groups` argument)\n",
      "\n"
     ]
    },
    {
     "data": {
      "text/html": [
       "<table>\n",
       "<caption>A tibble: 1 × 2</caption>\n",
       "<thead>\n",
       "\t<tr><th scope=col>action</th><th scope=col>n_sessions</th></tr>\n",
       "\t<tr><th scope=col>&lt;chr&gt;</th><th scope=col>&lt;int&gt;</th></tr>\n",
       "</thead>\n",
       "<tbody>\n",
       "\t<tr><td>language-change</td><td>293671</td></tr>\n",
       "</tbody>\n",
       "</table>\n"
      ],
      "text/latex": [
       "A tibble: 1 × 2\n",
       "\\begin{tabular}{ll}\n",
       " action & n\\_sessions\\\\\n",
       " <chr> & <int>\\\\\n",
       "\\hline\n",
       "\t language-change & 293671\\\\\n",
       "\\end{tabular}\n"
      ],
      "text/markdown": [
       "\n",
       "A tibble: 1 × 2\n",
       "\n",
       "| action &lt;chr&gt; | n_sessions &lt;int&gt; |\n",
       "|---|---|\n",
       "| language-change | 293671 |\n",
       "\n"
      ],
      "text/plain": [
       "  action          n_sessions\n",
       "1 language-change 293671    "
      ]
     },
     "metadata": {},
     "output_type": "display_data"
    }
   ],
   "source": [
    "lang_sidebar_events_byaction<- lang_sidebar_events %>%\n",
    "    group_by(action) %>%\n",
    "    summarize(n_sessions = n_distinct(web_session_id))\n",
    "\n",
    "lang_sidebar_events_byaction"
   ]
  },
  {
   "cell_type": "markdown",
   "metadata": {},
   "source": [
    "Only associated with `event.action = 'language-change'` as expected."
   ]
  },
  {
   "cell_type": "markdown",
   "metadata": {},
   "source": [
    "## Check any follow-up actions"
   ]
  },
  {
   "cell_type": "code",
   "execution_count": 137,
   "metadata": {},
   "outputs": [],
   "source": [
    "#rough query to confirm approach\n",
    "# will be refine in analysis\n",
    "query <- \n",
    "\"\n",
    "-- sessions where lang button was selected\n",
    "WITH button AS (\n",
    "SELECT\n",
    "    MIN(TO_DATE(dt)) as button_date,\n",
    "    event.web_session_id as session_id,\n",
    "    event.skinVersion as skinversion,\n",
    "    event.context as button_type,\n",
    "    wiki as wiki\n",
    "FROM event.universallanguageselector\n",
    "WHERE\n",
    "    year = 2021\n",
    "    AND month = 06\n",
    "    AND Day >= 08\n",
    "    AND useragent.is_bot = false\n",
    "    AND event.action = 'compact-language-links-open'\n",
    "GROUP BY \n",
    "    event.web_session_id,\n",
    "    event.context,\n",
    "    event.skinversion,\n",
    "    wiki\n",
    "),\n",
    "\n",
    "follow_actions AS (\n",
    "  SELECT\n",
    "    TO_DATE(dt) as action_date,\n",
    "    event.action as action_type,\n",
    "    event.web_session_id as session_id,\n",
    "    event.context as action_context,\n",
    "    wiki as wiki\n",
    "FROM event.universallanguageselector\n",
    "WHERE\n",
    "    year = 2021\n",
    "    AND month = 06\n",
    "    AND Day >= 08\n",
    "    AND useragent.is_bot = false\n",
    "    AND event.action != 'compact-language-links-open'\n",
    ")\n",
    "\n",
    "SELECT\n",
    "    button.button_date,\n",
    "    button.button_type,\n",
    "    button.skinversion,\n",
    "    follow_actions.action_date,\n",
    "    follow_actions.action_type,\n",
    "    button.session_id,\n",
    "    button.wiki,\n",
    "-- sessions with lang switch that occured after button clicks\n",
    "    IF(follow_actions.session_id IS NOT NULL, 1, 0) AS follow_action,\n",
    "    follow_actions.action_context\n",
    "FROM button\n",
    "LEFT JOIN follow_actions ON\n",
    "    button.session_id = follow_actions.session_id\n",
    "    \n",
    "\""
   ]
  },
  {
   "cell_type": "code",
   "execution_count": 138,
   "metadata": {},
   "outputs": [
    {
     "name": "stderr",
     "output_type": "stream",
     "text": [
      "Don't forget to authenticate with Kerberos using kinit\n",
      "\n"
     ]
    }
   ],
   "source": [
    "more_lang_actions <-  wmfdata::query_hive(query)"
   ]
  },
  {
   "cell_type": "markdown",
   "metadata": {},
   "source": [
    "### By Action Type"
   ]
  },
  {
   "cell_type": "code",
   "execution_count": 139,
   "metadata": {},
   "outputs": [
    {
     "name": "stderr",
     "output_type": "stream",
     "text": [
      "`summarise()` ungrouping output (override with `.groups` argument)\n",
      "\n"
     ]
    },
    {
     "data": {
      "text/html": [
       "<table>\n",
       "<caption>A tibble: 7 × 2</caption>\n",
       "<thead>\n",
       "\t<tr><th scope=col>action_type</th><th scope=col>n_sessions</th></tr>\n",
       "\t<tr><th scope=col>&lt;chr&gt;</th><th scope=col>&lt;int&gt;</th></tr>\n",
       "</thead>\n",
       "<tbody>\n",
       "\t<tr><td>ime-change       </td><td>  3</td></tr>\n",
       "\t<tr><td>ime-disable      </td><td>  1</td></tr>\n",
       "\t<tr><td>language-change  </td><td>  1</td></tr>\n",
       "\t<tr><td>no-search-results</td><td> 11</td></tr>\n",
       "\t<tr><td>NULL             </td><td>474</td></tr>\n",
       "\t<tr><td>settings-open    </td><td>  1</td></tr>\n",
       "\t<tr><td>webfonts-enable  </td><td>  1</td></tr>\n",
       "</tbody>\n",
       "</table>\n"
      ],
      "text/latex": [
       "A tibble: 7 × 2\n",
       "\\begin{tabular}{ll}\n",
       " action\\_type & n\\_sessions\\\\\n",
       " <chr> & <int>\\\\\n",
       "\\hline\n",
       "\t ime-change        &   3\\\\\n",
       "\t ime-disable       &   1\\\\\n",
       "\t language-change   &   1\\\\\n",
       "\t no-search-results &  11\\\\\n",
       "\t NULL              & 474\\\\\n",
       "\t settings-open     &   1\\\\\n",
       "\t webfonts-enable   &   1\\\\\n",
       "\\end{tabular}\n"
      ],
      "text/markdown": [
       "\n",
       "A tibble: 7 × 2\n",
       "\n",
       "| action_type &lt;chr&gt; | n_sessions &lt;int&gt; |\n",
       "|---|---|\n",
       "| ime-change        |   3 |\n",
       "| ime-disable       |   1 |\n",
       "| language-change   |   1 |\n",
       "| no-search-results |  11 |\n",
       "| NULL              | 474 |\n",
       "| settings-open     |   1 |\n",
       "| webfonts-enable   |   1 |\n",
       "\n"
      ],
      "text/plain": [
       "  action_type       n_sessions\n",
       "1 ime-change          3       \n",
       "2 ime-disable         1       \n",
       "3 language-change     1       \n",
       "4 no-search-results  11       \n",
       "5 NULL              474       \n",
       "6 settings-open       1       \n",
       "7 webfonts-enable     1       "
      ]
     },
     "metadata": {},
     "output_type": "display_data"
    }
   ],
   "source": [
    "# find what types of actions are recorded with a new button clicks\n",
    "new_button_actions <- more_lang_actions %>%\n",
    "    filter(button_type == 'header') %>%\n",
    "    group_by(action_type) %>%\n",
    "    summarise (n_sessions = n_distinct(session_id))\n",
    "\n",
    "new_button_actions"
   ]
  },
  {
   "cell_type": "markdown",
   "metadata": {},
   "source": [
    "So far, we have recorded 'ime-change' (user changed the input method), 'no-search-results' (User searched for a language with no results) and 'webfonts-enable' (webfonts-enable: User enabled the webfonts functionality via ULS settings) actions in sessions where clicks to the new button were logged. "
   ]
  },
  {
   "cell_type": "markdown",
   "metadata": {},
   "source": [
    "### By Action Type and Button Type"
   ]
  },
  {
   "cell_type": "code",
   "execution_count": 140,
   "metadata": {},
   "outputs": [
    {
     "name": "stderr",
     "output_type": "stream",
     "text": [
      "`summarise()` regrouping output by 'action_type' (override with `.groups` argument)\n",
      "\n"
     ]
    },
    {
     "data": {
      "text/html": [
       "<table>\n",
       "<caption>A grouped_df: 30 × 3</caption>\n",
       "<thead>\n",
       "\t<tr><th scope=col>action_type</th><th scope=col>button_type</th><th scope=col>n_sessions</th></tr>\n",
       "\t<tr><th scope=col>&lt;chr&gt;</th><th scope=col>&lt;chr&gt;</th><th scope=col>&lt;int&gt;</th></tr>\n",
       "</thead>\n",
       "<tbody>\n",
       "\t<tr><td>                     </td><td>      </td><td>    1</td></tr>\n",
       "\t<tr><td>font-change          </td><td>NULL  </td><td>    2</td></tr>\n",
       "\t<tr><td>font-change          </td><td>other </td><td>    4</td></tr>\n",
       "\t<tr><td>ime-change           </td><td>header</td><td>    3</td></tr>\n",
       "\t<tr><td>ime-change           </td><td>NULL  </td><td>   49</td></tr>\n",
       "\t<tr><td>ime-change           </td><td>other </td><td>  160</td></tr>\n",
       "\t<tr><td>ime-disable          </td><td>header</td><td>    1</td></tr>\n",
       "\t<tr><td>ime-disable          </td><td>NULL  </td><td>   11</td></tr>\n",
       "\t<tr><td>ime-disable          </td><td>other </td><td>   66</td></tr>\n",
       "\t<tr><td>ime-enable           </td><td>NULL  </td><td>   38</td></tr>\n",
       "\t<tr><td>ime-enable           </td><td>other </td><td>   98</td></tr>\n",
       "\t<tr><td>language-change      </td><td>header</td><td>    1</td></tr>\n",
       "\t<tr><td>language-change      </td><td>NULL  </td><td>  874</td></tr>\n",
       "\t<tr><td>language-change      </td><td>other </td><td> 3693</td></tr>\n",
       "\t<tr><td>more-languages-access</td><td>NULL  </td><td>   17</td></tr>\n",
       "\t<tr><td>more-languages-access</td><td>other </td><td>   63</td></tr>\n",
       "\t<tr><td>no-search-results    </td><td>header</td><td>   11</td></tr>\n",
       "\t<tr><td>no-search-results    </td><td>NULL  </td><td> 2693</td></tr>\n",
       "\t<tr><td>no-search-results    </td><td>other </td><td> 9703</td></tr>\n",
       "\t<tr><td>NULL                 </td><td>header</td><td>  474</td></tr>\n",
       "\t<tr><td>NULL                 </td><td>NULL  </td><td>26829</td></tr>\n",
       "\t<tr><td>NULL                 </td><td>other </td><td>93787</td></tr>\n",
       "\t<tr><td>settings-open        </td><td>header</td><td>    1</td></tr>\n",
       "\t<tr><td>settings-open        </td><td>NULL  </td><td>  975</td></tr>\n",
       "\t<tr><td>settings-open        </td><td>other </td><td> 3143</td></tr>\n",
       "\t<tr><td>ui-lang-revert       </td><td>other </td><td>    2</td></tr>\n",
       "\t<tr><td>webfonts-disable     </td><td>other </td><td>    1</td></tr>\n",
       "\t<tr><td>webfonts-enable      </td><td>header</td><td>    1</td></tr>\n",
       "\t<tr><td>webfonts-enable      </td><td>NULL  </td><td>    6</td></tr>\n",
       "\t<tr><td>webfonts-enable      </td><td>other </td><td>   21</td></tr>\n",
       "</tbody>\n",
       "</table>\n"
      ],
      "text/latex": [
       "A grouped\\_df: 30 × 3\n",
       "\\begin{tabular}{lll}\n",
       " action\\_type & button\\_type & n\\_sessions\\\\\n",
       " <chr> & <chr> & <int>\\\\\n",
       "\\hline\n",
       "\t                       &        &     1\\\\\n",
       "\t font-change           & NULL   &     2\\\\\n",
       "\t font-change           & other  &     4\\\\\n",
       "\t ime-change            & header &     3\\\\\n",
       "\t ime-change            & NULL   &    49\\\\\n",
       "\t ime-change            & other  &   160\\\\\n",
       "\t ime-disable           & header &     1\\\\\n",
       "\t ime-disable           & NULL   &    11\\\\\n",
       "\t ime-disable           & other  &    66\\\\\n",
       "\t ime-enable            & NULL   &    38\\\\\n",
       "\t ime-enable            & other  &    98\\\\\n",
       "\t language-change       & header &     1\\\\\n",
       "\t language-change       & NULL   &   874\\\\\n",
       "\t language-change       & other  &  3693\\\\\n",
       "\t more-languages-access & NULL   &    17\\\\\n",
       "\t more-languages-access & other  &    63\\\\\n",
       "\t no-search-results     & header &    11\\\\\n",
       "\t no-search-results     & NULL   &  2693\\\\\n",
       "\t no-search-results     & other  &  9703\\\\\n",
       "\t NULL                  & header &   474\\\\\n",
       "\t NULL                  & NULL   & 26829\\\\\n",
       "\t NULL                  & other  & 93787\\\\\n",
       "\t settings-open         & header &     1\\\\\n",
       "\t settings-open         & NULL   &   975\\\\\n",
       "\t settings-open         & other  &  3143\\\\\n",
       "\t ui-lang-revert        & other  &     2\\\\\n",
       "\t webfonts-disable      & other  &     1\\\\\n",
       "\t webfonts-enable       & header &     1\\\\\n",
       "\t webfonts-enable       & NULL   &     6\\\\\n",
       "\t webfonts-enable       & other  &    21\\\\\n",
       "\\end{tabular}\n"
      ],
      "text/markdown": [
       "\n",
       "A grouped_df: 30 × 3\n",
       "\n",
       "| action_type &lt;chr&gt; | button_type &lt;chr&gt; | n_sessions &lt;int&gt; |\n",
       "|---|---|---|\n",
       "| <!----> | <!----> |     1 |\n",
       "| font-change           | NULL   |     2 |\n",
       "| font-change           | other  |     4 |\n",
       "| ime-change            | header |     3 |\n",
       "| ime-change            | NULL   |    49 |\n",
       "| ime-change            | other  |   160 |\n",
       "| ime-disable           | header |     1 |\n",
       "| ime-disable           | NULL   |    11 |\n",
       "| ime-disable           | other  |    66 |\n",
       "| ime-enable            | NULL   |    38 |\n",
       "| ime-enable            | other  |    98 |\n",
       "| language-change       | header |     1 |\n",
       "| language-change       | NULL   |   874 |\n",
       "| language-change       | other  |  3693 |\n",
       "| more-languages-access | NULL   |    17 |\n",
       "| more-languages-access | other  |    63 |\n",
       "| no-search-results     | header |    11 |\n",
       "| no-search-results     | NULL   |  2693 |\n",
       "| no-search-results     | other  |  9703 |\n",
       "| NULL                  | header |   474 |\n",
       "| NULL                  | NULL   | 26829 |\n",
       "| NULL                  | other  | 93787 |\n",
       "| settings-open         | header |     1 |\n",
       "| settings-open         | NULL   |   975 |\n",
       "| settings-open         | other  |  3143 |\n",
       "| ui-lang-revert        | other  |     2 |\n",
       "| webfonts-disable      | other  |     1 |\n",
       "| webfonts-enable       | header |     1 |\n",
       "| webfonts-enable       | NULL   |     6 |\n",
       "| webfonts-enable       | other  |    21 |\n",
       "\n"
      ],
      "text/plain": [
       "   action_type           button_type n_sessions\n",
       "1                                        1     \n",
       "2  font-change           NULL            2     \n",
       "3  font-change           other           4     \n",
       "4  ime-change            header          3     \n",
       "5  ime-change            NULL           49     \n",
       "6  ime-change            other         160     \n",
       "7  ime-disable           header          1     \n",
       "8  ime-disable           NULL           11     \n",
       "9  ime-disable           other          66     \n",
       "10 ime-enable            NULL           38     \n",
       "11 ime-enable            other          98     \n",
       "12 language-change       header          1     \n",
       "13 language-change       NULL          874     \n",
       "14 language-change       other        3693     \n",
       "15 more-languages-access NULL           17     \n",
       "16 more-languages-access other          63     \n",
       "17 no-search-results     header         11     \n",
       "18 no-search-results     NULL         2693     \n",
       "19 no-search-results     other        9703     \n",
       "20 NULL                  header        474     \n",
       "21 NULL                  NULL        26829     \n",
       "22 NULL                  other       93787     \n",
       "23 settings-open         header          1     \n",
       "24 settings-open         NULL          975     \n",
       "25 settings-open         other        3143     \n",
       "26 ui-lang-revert        other           2     \n",
       "27 webfonts-disable      other           1     \n",
       "28 webfonts-enable       header          1     \n",
       "29 webfonts-enable       NULL            6     \n",
       "30 webfonts-enable       other          21     "
      ]
     },
     "metadata": {},
     "output_type": "display_data"
    }
   ],
   "source": [
    "# find what types of actions are recorded with all button clicks\n",
    "all_button_actions <- more_lang_actions %>%\n",
    "    group_by(action_type, button_type) %>%\n",
    "    summarise (n_sessions = n_distinct(session_id))\n",
    "\n",
    "all_button_actions"
   ]
  },
  {
   "cell_type": "markdown",
   "metadata": {},
   "source": [
    "Some of the actions not recorded for the new clicks button make sense. For example, we shouldn't be recording settings-open events in sessions with clicks to the new language button but I would anticipate there being clicks to switch languages from the button."
   ]
  }
 ],
 "metadata": {
  "kernelspec": {
   "display_name": "R",
   "language": "R",
   "name": "ir"
  },
  "language_info": {
   "codemirror_mode": "r",
   "file_extension": ".r",
   "mimetype": "text/x-r-source",
   "name": "R",
   "pygments_lexer": "r",
   "version": "3.5.2"
  }
 },
 "nbformat": 4,
 "nbformat_minor": 4
}
