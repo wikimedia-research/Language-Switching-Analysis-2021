{
 "cells": [
  {
   "cell_type": "markdown",
   "metadata": {},
   "source": [
    "# Post Deployment Language Switching QA"
   ]
  },
  {
   "cell_type": "markdown",
   "metadata": {},
   "source": [
    "[Task](https://phabricator.wikimedia.org/T275762)\n",
    "|\n",
    "[Schema](https://gerrit.wikimedia.org/r/plugins/gitiles/schemas/event/secondary/+/refs/heads/master/jsonschema/analytics/legacy/universallanguageselector/current.yaml)"
   ]
  },
  {
   "cell_type": "code",
   "execution_count": 1,
   "metadata": {},
   "outputs": [],
   "source": [
    "shhh <- function(expr) suppressPackageStartupMessages(suppressWarnings(suppressMessages(expr)))\n",
    "shhh({\n",
    "    library(tidyverse); \n",
    "    library(lubridate); \n",
    "    library(scales);\n",
    "    library(magrittr); \n",
    "    library(dplyr)\n",
    "})\n"
   ]
  },
  {
   "cell_type": "markdown",
   "metadata": {},
   "source": [
    "## Language Links in the Siderbar\n",
    "\n",
    "[Instrumentation Task](https://phabricator.wikimedia.org/T275762)\n",
    "\n",
    "Instrumentation Notes:\n",
    "- Instrumentation limited to legacy sidebar in modern Vector.\n",
    "- Logged as `event.context = 'languages-list'`"
   ]
  },
  {
   "cell_type": "code",
   "execution_count": 2,
   "metadata": {},
   "outputs": [],
   "source": [
    "query <- \n",
    "\"\n",
    "SELECT\n",
    "    TO_DATE(dt) AS `date`,\n",
    "    wiki,\n",
    "    event.web_session_id,\n",
    "    event.usereditbucket,\n",
    "    event.timetochangelanguage,\n",
    "    event.isanon,\n",
    "    event.interfacelanguage,\n",
    "    event.contentlanguage,\n",
    "    event.selectedinterfacelanguage,\n",
    "    Count(*) AS n_events\n",
    "FROM event.universallanguageselector\n",
    "WHERE\n",
    "    year = 2021\n",
    "    AND ((Month = 04 AND DAY > 26) OR (MONTH = 05))\n",
    "    AND event.context = 'languages-list'\n",
    "GROUP BY\n",
    "    TO_DATE(dt),\n",
    "    wiki,\n",
    "    event.web_session_id,\n",
    "    event.usereditbucket,\n",
    "    event.timetochangelanguage,\n",
    "    event.isanon,\n",
    "    event.interfacelanguage,\n",
    "    event.contentlanguage,\n",
    "    event.selectedinterfacelanguage\n",
    "\""
   ]
  },
  {
   "cell_type": "code",
   "execution_count": 3,
   "metadata": {},
   "outputs": [
    {
     "name": "stderr",
     "output_type": "stream",
     "text": [
      "Don't forget to authenticate with Kerberos using kinit\n",
      "\n"
     ]
    }
   ],
   "source": [
    "lang_link_events <-  wmfdata::query_hive(query)"
   ]
  },
  {
   "cell_type": "code",
   "execution_count": 4,
   "metadata": {},
   "outputs": [],
   "source": [
    "lang_link_events$date <- as.Date(lang_link_events$date)"
   ]
  },
  {
   "cell_type": "markdown",
   "metadata": {},
   "source": [
    "## Daily Langauge Link Events"
   ]
  },
  {
   "cell_type": "code",
   "execution_count": 5,
   "metadata": {},
   "outputs": [
    {
     "name": "stderr",
     "output_type": "stream",
     "text": [
      "`summarise()` ungrouping output (override with `.groups` argument)\n",
      "\n"
     ]
    },
    {
     "data": {
      "text/html": [
       "<table>\n",
       "<caption>A tibble: 16 × 3</caption>\n",
       "<thead>\n",
       "\t<tr><th scope=col>date</th><th scope=col>n_events</th><th scope=col>n_sessions</th></tr>\n",
       "\t<tr><th scope=col>&lt;date&gt;</th><th scope=col>&lt;int&gt;</th><th scope=col>&lt;int&gt;</th></tr>\n",
       "</thead>\n",
       "<tbody>\n",
       "\t<tr><td>2021-04-28</td><td>   791</td><td>   636</td></tr>\n",
       "\t<tr><td>2021-04-29</td><td> 46934</td><td> 33173</td></tr>\n",
       "\t<tr><td>2021-04-30</td><td>274519</td><td>177001</td></tr>\n",
       "\t<tr><td>2021-05-01</td><td>243709</td><td>151370</td></tr>\n",
       "\t<tr><td>2021-05-02</td><td>258630</td><td>161650</td></tr>\n",
       "\t<tr><td>2021-05-03</td><td>303583</td><td>195465</td></tr>\n",
       "\t<tr><td>2021-05-04</td><td>300642</td><td>194931</td></tr>\n",
       "\t<tr><td>2021-05-05</td><td>295520</td><td>191876</td></tr>\n",
       "\t<tr><td>2021-05-06</td><td>291788</td><td>190268</td></tr>\n",
       "\t<tr><td>2021-05-07</td><td>265159</td><td>171239</td></tr>\n",
       "\t<tr><td>2021-05-08</td><td>225456</td><td>141143</td></tr>\n",
       "\t<tr><td>2021-05-09</td><td>244182</td><td>152870</td></tr>\n",
       "\t<tr><td>2021-05-10</td><td>301699</td><td>196353</td></tr>\n",
       "\t<tr><td>2021-05-11</td><td>296753</td><td>193206</td></tr>\n",
       "\t<tr><td>2021-05-12</td><td>278392</td><td>181382</td></tr>\n",
       "\t<tr><td>2021-05-13</td><td> 54123</td><td> 37258</td></tr>\n",
       "</tbody>\n",
       "</table>\n"
      ],
      "text/latex": [
       "A tibble: 16 × 3\n",
       "\\begin{tabular}{lll}\n",
       " date & n\\_events & n\\_sessions\\\\\n",
       " <date> & <int> & <int>\\\\\n",
       "\\hline\n",
       "\t 2021-04-28 &    791 &    636\\\\\n",
       "\t 2021-04-29 &  46934 &  33173\\\\\n",
       "\t 2021-04-30 & 274519 & 177001\\\\\n",
       "\t 2021-05-01 & 243709 & 151370\\\\\n",
       "\t 2021-05-02 & 258630 & 161650\\\\\n",
       "\t 2021-05-03 & 303583 & 195465\\\\\n",
       "\t 2021-05-04 & 300642 & 194931\\\\\n",
       "\t 2021-05-05 & 295520 & 191876\\\\\n",
       "\t 2021-05-06 & 291788 & 190268\\\\\n",
       "\t 2021-05-07 & 265159 & 171239\\\\\n",
       "\t 2021-05-08 & 225456 & 141143\\\\\n",
       "\t 2021-05-09 & 244182 & 152870\\\\\n",
       "\t 2021-05-10 & 301699 & 196353\\\\\n",
       "\t 2021-05-11 & 296753 & 193206\\\\\n",
       "\t 2021-05-12 & 278392 & 181382\\\\\n",
       "\t 2021-05-13 &  54123 &  37258\\\\\n",
       "\\end{tabular}\n"
      ],
      "text/markdown": [
       "\n",
       "A tibble: 16 × 3\n",
       "\n",
       "| date &lt;date&gt; | n_events &lt;int&gt; | n_sessions &lt;int&gt; |\n",
       "|---|---|---|\n",
       "| 2021-04-28 |    791 |    636 |\n",
       "| 2021-04-29 |  46934 |  33173 |\n",
       "| 2021-04-30 | 274519 | 177001 |\n",
       "| 2021-05-01 | 243709 | 151370 |\n",
       "| 2021-05-02 | 258630 | 161650 |\n",
       "| 2021-05-03 | 303583 | 195465 |\n",
       "| 2021-05-04 | 300642 | 194931 |\n",
       "| 2021-05-05 | 295520 | 191876 |\n",
       "| 2021-05-06 | 291788 | 190268 |\n",
       "| 2021-05-07 | 265159 | 171239 |\n",
       "| 2021-05-08 | 225456 | 141143 |\n",
       "| 2021-05-09 | 244182 | 152870 |\n",
       "| 2021-05-10 | 301699 | 196353 |\n",
       "| 2021-05-11 | 296753 | 193206 |\n",
       "| 2021-05-12 | 278392 | 181382 |\n",
       "| 2021-05-13 |  54123 |  37258 |\n",
       "\n"
      ],
      "text/plain": [
       "   date       n_events n_sessions\n",
       "1  2021-04-28    791      636    \n",
       "2  2021-04-29  46934    33173    \n",
       "3  2021-04-30 274519   177001    \n",
       "4  2021-05-01 243709   151370    \n",
       "5  2021-05-02 258630   161650    \n",
       "6  2021-05-03 303583   195465    \n",
       "7  2021-05-04 300642   194931    \n",
       "8  2021-05-05 295520   191876    \n",
       "9  2021-05-06 291788   190268    \n",
       "10 2021-05-07 265159   171239    \n",
       "11 2021-05-08 225456   141143    \n",
       "12 2021-05-09 244182   152870    \n",
       "13 2021-05-10 301699   196353    \n",
       "14 2021-05-11 296753   193206    \n",
       "15 2021-05-12 278392   181382    \n",
       "16 2021-05-13  54123    37258    "
      ]
     },
     "metadata": {},
     "output_type": "display_data"
    }
   ],
   "source": [
    "lang_link_events_daily <- lang_link_events %>%\n",
    "    group_by(date) %>%\n",
    "    summarize(n_events = sum(n_events),\n",
    "             n_sessions = n_distinct(web_session_id))\n",
    "\n",
    "lang_link_events_daily"
   ]
  },
  {
   "cell_type": "markdown",
   "metadata": {},
   "source": [
    "We start recording events on 28 April 2021. There are an average 176,827 sessions per day including sessions by both logged in and logged out users. No unexpected spikes or drops so far."
   ]
  },
  {
   "cell_type": "markdown",
   "metadata": {},
   "source": [
    "## Clicks per session"
   ]
  },
  {
   "cell_type": "code",
   "execution_count": null,
   "metadata": {},
   "outputs": [],
   "source": [
    "Check to make sure there are duplicate session id. Some sessions should have more than one click event."
   ]
  },
  {
   "cell_type": "code",
   "execution_count": 9,
   "metadata": {},
   "outputs": [
    {
     "data": {
      "text/html": [
       "FALSE"
      ],
      "text/latex": [
       "FALSE"
      ],
      "text/markdown": [
       "FALSE"
      ],
      "text/plain": [
       "[1] FALSE"
      ]
     },
     "metadata": {},
     "output_type": "display_data"
    }
   ],
   "source": [
    "length(unique(lang_link_events$web_session_id)) == nrow(lang_link_events)"
   ]
  },
  {
   "cell_type": "code",
   "execution_count": 6,
   "metadata": {},
   "outputs": [
    {
     "data": {
      "text/html": [
       "<table>\n",
       "<caption>A data.frame: 6 × 10</caption>\n",
       "<thead>\n",
       "\t<tr><th></th><th scope=col>date</th><th scope=col>wiki</th><th scope=col>web_session_id</th><th scope=col>usereditbucket</th><th scope=col>timetochangelanguage</th><th scope=col>isanon</th><th scope=col>interfacelanguage</th><th scope=col>contentlanguage</th><th scope=col>selectedinterfacelanguage</th><th scope=col>n_events</th></tr>\n",
       "\t<tr><th></th><th scope=col>&lt;date&gt;</th><th scope=col>&lt;chr&gt;</th><th scope=col>&lt;chr&gt;</th><th scope=col>&lt;chr&gt;</th><th scope=col>&lt;dbl&gt;</th><th scope=col>&lt;chr&gt;</th><th scope=col>&lt;chr&gt;</th><th scope=col>&lt;chr&gt;</th><th scope=col>&lt;chr&gt;</th><th scope=col>&lt;int&gt;</th></tr>\n",
       "</thead>\n",
       "<tbody>\n",
       "\t<tr><th scope=row>1</th><td>2021-04-28</td><td>dewikivoyage</td><td>1d774b99490d092ba4e4</td><td>100-999 edits</td><td>  6208.225</td><td>false</td><td>de</td><td>de</td><td>it</td><td>1</td></tr>\n",
       "\t<tr><th scope=row>2</th><td>2021-04-28</td><td>dewikivoyage</td><td>95f1f7824782d3b0a91b</td><td>NULL         </td><td> 98815.000</td><td>true </td><td>de</td><td>de</td><td>en</td><td>1</td></tr>\n",
       "\t<tr><th scope=row>3</th><td>2021-04-28</td><td>dewikivoyage</td><td>e06266b83d26d1865339</td><td>NULL         </td><td>128051.000</td><td>true </td><td>de</td><td>de</td><td>en</td><td>1</td></tr>\n",
       "\t<tr><th scope=row>4</th><td>2021-04-28</td><td>frwiktionary</td><td>082c55c27c55a4860c58</td><td>NULL         </td><td>  8196.865</td><td>true </td><td>fr</td><td>fr</td><td>en</td><td>1</td></tr>\n",
       "\t<tr><th scope=row>5</th><td>2021-04-28</td><td>frwiktionary</td><td>18ecbc928fb6bfc5df5e</td><td>NULL         </td><td>  5913.570</td><td>true </td><td>fr</td><td>fr</td><td>pt</td><td>1</td></tr>\n",
       "\t<tr><th scope=row>6</th><td>2021-04-28</td><td>frwiktionary</td><td>1dbcf88e81ed2a100b27</td><td>NULL         </td><td> 40165.625</td><td>true </td><td>fr</td><td>fr</td><td>en</td><td>1</td></tr>\n",
       "</tbody>\n",
       "</table>\n"
      ],
      "text/latex": [
       "A data.frame: 6 × 10\n",
       "\\begin{tabular}{r|llllllllll}\n",
       "  & date & wiki & web\\_session\\_id & usereditbucket & timetochangelanguage & isanon & interfacelanguage & contentlanguage & selectedinterfacelanguage & n\\_events\\\\\n",
       "  & <date> & <chr> & <chr> & <chr> & <dbl> & <chr> & <chr> & <chr> & <chr> & <int>\\\\\n",
       "\\hline\n",
       "\t1 & 2021-04-28 & dewikivoyage & 1d774b99490d092ba4e4 & 100-999 edits &   6208.225 & false & de & de & it & 1\\\\\n",
       "\t2 & 2021-04-28 & dewikivoyage & 95f1f7824782d3b0a91b & NULL          &  98815.000 & true  & de & de & en & 1\\\\\n",
       "\t3 & 2021-04-28 & dewikivoyage & e06266b83d26d1865339 & NULL          & 128051.000 & true  & de & de & en & 1\\\\\n",
       "\t4 & 2021-04-28 & frwiktionary & 082c55c27c55a4860c58 & NULL          &   8196.865 & true  & fr & fr & en & 1\\\\\n",
       "\t5 & 2021-04-28 & frwiktionary & 18ecbc928fb6bfc5df5e & NULL          &   5913.570 & true  & fr & fr & pt & 1\\\\\n",
       "\t6 & 2021-04-28 & frwiktionary & 1dbcf88e81ed2a100b27 & NULL          &  40165.625 & true  & fr & fr & en & 1\\\\\n",
       "\\end{tabular}\n"
      ],
      "text/markdown": [
       "\n",
       "A data.frame: 6 × 10\n",
       "\n",
       "| <!--/--> | date &lt;date&gt; | wiki &lt;chr&gt; | web_session_id &lt;chr&gt; | usereditbucket &lt;chr&gt; | timetochangelanguage &lt;dbl&gt; | isanon &lt;chr&gt; | interfacelanguage &lt;chr&gt; | contentlanguage &lt;chr&gt; | selectedinterfacelanguage &lt;chr&gt; | n_events &lt;int&gt; |\n",
       "|---|---|---|---|---|---|---|---|---|---|---|\n",
       "| 1 | 2021-04-28 | dewikivoyage | 1d774b99490d092ba4e4 | 100-999 edits |   6208.225 | false | de | de | it | 1 |\n",
       "| 2 | 2021-04-28 | dewikivoyage | 95f1f7824782d3b0a91b | NULL          |  98815.000 | true  | de | de | en | 1 |\n",
       "| 3 | 2021-04-28 | dewikivoyage | e06266b83d26d1865339 | NULL          | 128051.000 | true  | de | de | en | 1 |\n",
       "| 4 | 2021-04-28 | frwiktionary | 082c55c27c55a4860c58 | NULL          |   8196.865 | true  | fr | fr | en | 1 |\n",
       "| 5 | 2021-04-28 | frwiktionary | 18ecbc928fb6bfc5df5e | NULL          |   5913.570 | true  | fr | fr | pt | 1 |\n",
       "| 6 | 2021-04-28 | frwiktionary | 1dbcf88e81ed2a100b27 | NULL          |  40165.625 | true  | fr | fr | en | 1 |\n",
       "\n"
      ],
      "text/plain": [
       "  date       wiki         web_session_id       usereditbucket\n",
       "1 2021-04-28 dewikivoyage 1d774b99490d092ba4e4 100-999 edits \n",
       "2 2021-04-28 dewikivoyage 95f1f7824782d3b0a91b NULL          \n",
       "3 2021-04-28 dewikivoyage e06266b83d26d1865339 NULL          \n",
       "4 2021-04-28 frwiktionary 082c55c27c55a4860c58 NULL          \n",
       "5 2021-04-28 frwiktionary 18ecbc928fb6bfc5df5e NULL          \n",
       "6 2021-04-28 frwiktionary 1dbcf88e81ed2a100b27 NULL          \n",
       "  timetochangelanguage isanon interfacelanguage contentlanguage\n",
       "1   6208.225           false  de                de             \n",
       "2  98815.000           true   de                de             \n",
       "3 128051.000           true   de                de             \n",
       "4   8196.865           true   fr                fr             \n",
       "5   5913.570           true   fr                fr             \n",
       "6  40165.625           true   fr                fr             \n",
       "  selectedinterfacelanguage n_events\n",
       "1 it                        1       \n",
       "2 en                        1       \n",
       "3 en                        1       \n",
       "4 en                        1       \n",
       "5 pt                        1       \n",
       "6 en                        1       "
      ]
     },
     "metadata": {},
     "output_type": "display_data"
    }
   ],
   "source": [
    "head(lang_link_events)"
   ]
  },
  {
   "cell_type": "code",
   "execution_count": 12,
   "metadata": {},
   "outputs": [
    {
     "name": "stderr",
     "output_type": "stream",
     "text": [
      "`summarise()` ungrouping output (override with `.groups` argument)\n",
      "\n"
     ]
    },
    {
     "data": {
      "text/html": [
       "<table>\n",
       "<caption>A tibble: 2 × 4</caption>\n",
       "<thead>\n",
       "\t<tr><th scope=col>isanon</th><th scope=col>avg_clicks</th><th scope=col>max_clicks</th><th scope=col>min_clciks</th></tr>\n",
       "\t<tr><th scope=col>&lt;chr&gt;</th><th scope=col>&lt;dbl&gt;</th><th scope=col>&lt;int&gt;</th><th scope=col>&lt;int&gt;</th></tr>\n",
       "</thead>\n",
       "<tbody>\n",
       "\t<tr><td>false</td><td>1.000327</td><td>2</td><td>1</td></tr>\n",
       "\t<tr><td>true </td><td>1.000169</td><td>4</td><td>1</td></tr>\n",
       "</tbody>\n",
       "</table>\n"
      ],
      "text/latex": [
       "A tibble: 2 × 4\n",
       "\\begin{tabular}{llll}\n",
       " isanon & avg\\_clicks & max\\_clicks & min\\_clciks\\\\\n",
       " <chr> & <dbl> & <int> & <int>\\\\\n",
       "\\hline\n",
       "\t false & 1.000327 & 2 & 1\\\\\n",
       "\t true  & 1.000169 & 4 & 1\\\\\n",
       "\\end{tabular}\n"
      ],
      "text/markdown": [
       "\n",
       "A tibble: 2 × 4\n",
       "\n",
       "| isanon &lt;chr&gt; | avg_clicks &lt;dbl&gt; | max_clicks &lt;int&gt; | min_clciks &lt;int&gt; |\n",
       "|---|---|---|---|\n",
       "| false | 1.000327 | 2 | 1 |\n",
       "| true  | 1.000169 | 4 | 1 |\n",
       "\n"
      ],
      "text/plain": [
       "  isanon avg_clicks max_clicks min_clciks\n",
       "1 false  1.000327   2          1         \n",
       "2 true   1.000169   4          1         "
      ]
     },
     "metadata": {},
     "output_type": "display_data"
    }
   ],
   "source": [
    "lang_link_events_persession <- lang_link_events %>%\n",
    "    group_by(isanon) %>%\n",
    "    summarize(avg_clicks = mean(n_events),\n",
    "              max_clicks = max(n_events),\n",
    "              min_clciks = min(n_events))\n",
    "\n",
    "lang_link_events_persession"
   ]
  },
  {
   "cell_type": "markdown",
   "metadata": {},
   "source": [
    "## By Logged In Status"
   ]
  },
  {
   "cell_type": "code",
   "execution_count": 13,
   "metadata": {},
   "outputs": [
    {
     "name": "stderr",
     "output_type": "stream",
     "text": [
      "`summarise()` ungrouping output (override with `.groups` argument)\n",
      "\n"
     ]
    },
    {
     "data": {
      "text/html": [
       "<table>\n",
       "<caption>A tibble: 2 × 3</caption>\n",
       "<thead>\n",
       "\t<tr><th scope=col>isanon</th><th scope=col>n_events</th><th scope=col>n_sessions</th></tr>\n",
       "\t<tr><th scope=col>&lt;chr&gt;</th><th scope=col>&lt;int&gt;</th><th scope=col>&lt;int&gt;</th></tr>\n",
       "</thead>\n",
       "<tbody>\n",
       "\t<tr><td>false</td><td> 113161</td><td>  46278</td></tr>\n",
       "\t<tr><td>true </td><td>3568719</td><td>2058676</td></tr>\n",
       "</tbody>\n",
       "</table>\n"
      ],
      "text/latex": [
       "A tibble: 2 × 3\n",
       "\\begin{tabular}{lll}\n",
       " isanon & n\\_events & n\\_sessions\\\\\n",
       " <chr> & <int> & <int>\\\\\n",
       "\\hline\n",
       "\t false &  113161 &   46278\\\\\n",
       "\t true  & 3568719 & 2058676\\\\\n",
       "\\end{tabular}\n"
      ],
      "text/markdown": [
       "\n",
       "A tibble: 2 × 3\n",
       "\n",
       "| isanon &lt;chr&gt; | n_events &lt;int&gt; | n_sessions &lt;int&gt; |\n",
       "|---|---|---|\n",
       "| false |  113161 |   46278 |\n",
       "| true  | 3568719 | 2058676 |\n",
       "\n"
      ],
      "text/plain": [
       "  isanon n_events n_sessions\n",
       "1 false   113161    46278   \n",
       "2 true   3568719  2058676   "
      ]
     },
     "metadata": {},
     "output_type": "display_data"
    }
   ],
   "source": [
    "lang_link_events_isanon <- lang_link_events %>%\n",
    "    group_by(isanon) %>%\n",
    "    summarize(n_events = sum(n_events),\n",
    "             n_sessions = n_distinct(web_session_id))\n",
    "\n",
    "lang_link_events_isanon "
   ]
  },
  {
   "cell_type": "markdown",
   "metadata": {},
   "source": [
    "97.8% of all sessions with clicks to the language links are by logged out users. That's high but expected because instrumentation was limited to legacy sidebar in modern Vector (not from legacy or other skins such as timeless). The new language switching functionality was made available to all logged-in users opted into the latest version of the Vector skin.\n",
    "\n",
    "Legacy sidebar in modern Vector would mostly appear to logged-out users on test wikis where Vector is deployed as default.\n"
   ]
  },
  {
   "cell_type": "markdown",
   "metadata": {},
   "source": [
    "## By Test Wiki"
   ]
  },
  {
   "cell_type": "code",
   "execution_count": 36,
   "metadata": {},
   "outputs": [
    {
     "name": "stderr",
     "output_type": "stream",
     "text": [
      "`summarise()` ungrouping output (override with `.groups` argument)\n",
      "\n"
     ]
    },
    {
     "data": {
      "text/html": [
       "<table>\n",
       "<caption>A tibble: 13 × 3</caption>\n",
       "<thead>\n",
       "\t<tr><th scope=col>wiki</th><th scope=col>n_events</th><th scope=col>n_sessions</th></tr>\n",
       "\t<tr><th scope=col>&lt;chr&gt;</th><th scope=col>&lt;int&gt;</th><th scope=col>&lt;int&gt;</th></tr>\n",
       "</thead>\n",
       "<tbody>\n",
       "\t<tr><td>bnwiki       </td><td>   8451</td><td>   5726</td></tr>\n",
       "\t<tr><td>dewikivoyage </td><td>    755</td><td>    604</td></tr>\n",
       "\t<tr><td>euwiki       </td><td>  31609</td><td>  22351</td></tr>\n",
       "\t<tr><td>fawiki       </td><td> 200781</td><td> 110092</td></tr>\n",
       "\t<tr><td>frwiki       </td><td>1933743</td><td>1091442</td></tr>\n",
       "\t<tr><td>frwiktionary </td><td>  21307</td><td>  13350</td></tr>\n",
       "\t<tr><td>hewiki       </td><td> 173526</td><td> 100165</td></tr>\n",
       "\t<tr><td>kowiki       </td><td> 146461</td><td>  81522</td></tr>\n",
       "\t<tr><td>ptwiki       </td><td> 555228</td><td> 328675</td></tr>\n",
       "\t<tr><td>ptwikiversity</td><td>     15</td><td>     13</td></tr>\n",
       "\t<tr><td>srwiki       </td><td>  98359</td><td>  56521</td></tr>\n",
       "\t<tr><td>trwiki       </td><td> 256347</td><td> 151107</td></tr>\n",
       "\t<tr><td>vecwiki      </td><td>   1348</td><td>   1133</td></tr>\n",
       "</tbody>\n",
       "</table>\n"
      ],
      "text/latex": [
       "A tibble: 13 × 3\n",
       "\\begin{tabular}{lll}\n",
       " wiki & n\\_events & n\\_sessions\\\\\n",
       " <chr> & <int> & <int>\\\\\n",
       "\\hline\n",
       "\t bnwiki        &    8451 &    5726\\\\\n",
       "\t dewikivoyage  &     755 &     604\\\\\n",
       "\t euwiki        &   31609 &   22351\\\\\n",
       "\t fawiki        &  200781 &  110092\\\\\n",
       "\t frwiki        & 1933743 & 1091442\\\\\n",
       "\t frwiktionary  &   21307 &   13350\\\\\n",
       "\t hewiki        &  173526 &  100165\\\\\n",
       "\t kowiki        &  146461 &   81522\\\\\n",
       "\t ptwiki        &  555228 &  328675\\\\\n",
       "\t ptwikiversity &      15 &      13\\\\\n",
       "\t srwiki        &   98359 &   56521\\\\\n",
       "\t trwiki        &  256347 &  151107\\\\\n",
       "\t vecwiki       &    1348 &    1133\\\\\n",
       "\\end{tabular}\n"
      ],
      "text/markdown": [
       "\n",
       "A tibble: 13 × 3\n",
       "\n",
       "| wiki &lt;chr&gt; | n_events &lt;int&gt; | n_sessions &lt;int&gt; |\n",
       "|---|---|---|\n",
       "| bnwiki        |    8451 |    5726 |\n",
       "| dewikivoyage  |     755 |     604 |\n",
       "| euwiki        |   31609 |   22351 |\n",
       "| fawiki        |  200781 |  110092 |\n",
       "| frwiki        | 1933743 | 1091442 |\n",
       "| frwiktionary  |   21307 |   13350 |\n",
       "| hewiki        |  173526 |  100165 |\n",
       "| kowiki        |  146461 |   81522 |\n",
       "| ptwiki        |  555228 |  328675 |\n",
       "| ptwikiversity |      15 |      13 |\n",
       "| srwiki        |   98359 |   56521 |\n",
       "| trwiki        |  256347 |  151107 |\n",
       "| vecwiki       |    1348 |    1133 |\n",
       "\n"
      ],
      "text/plain": [
       "   wiki          n_events n_sessions\n",
       "1  bnwiki           8451     5726   \n",
       "2  dewikivoyage      755      604   \n",
       "3  euwiki          31609    22351   \n",
       "4  fawiki         200781   110092   \n",
       "5  frwiki        1933743  1091442   \n",
       "6  frwiktionary    21307    13350   \n",
       "7  hewiki         173526   100165   \n",
       "8  kowiki         146461    81522   \n",
       "9  ptwiki         555228   328675   \n",
       "10 ptwikiversity      15       13   \n",
       "11 srwiki          98359    56521   \n",
       "12 trwiki         256347   151107   \n",
       "13 vecwiki          1348     1133   "
      ]
     },
     "metadata": {},
     "output_type": "display_data"
    }
   ],
   "source": [
    "# events and sessions that include link to language link by test wiki\n",
    "lang_link_events_testwiki <- lang_link_events %>%\n",
    "    filter(wiki %in% c('frwiktionary', 'hewiki', 'ptwikiversity', 'frwiki', \n",
    "    'euwiki', 'fawiki', 'ptwiki', 'kowiki', 'trwiki', 'srwiki', 'bnwiki', 'dewikivoyage', 'vecwiki' )) %>%\n",
    "    group_by(wiki) %>%\n",
    "    summarize(n_events = sum(n_events),\n",
    "             n_sessions = n_distinct(web_session_id))\n",
    "\n",
    "lang_link_events_testwiki\n"
   ]
  },
  {
   "cell_type": "code",
   "execution_count": 39,
   "metadata": {},
   "outputs": [
    {
     "name": "stderr",
     "output_type": "stream",
     "text": [
      "`summarise()` regrouping output by 'istestwiki' (override with `.groups` argument)\n",
      "\n"
     ]
    },
    {
     "data": {
      "text/html": [
       "<table>\n",
       "<caption>A grouped_df: 4 × 4</caption>\n",
       "<thead>\n",
       "\t<tr><th scope=col>istestwiki</th><th scope=col>isanon</th><th scope=col>n_events</th><th scope=col>n_sessions</th></tr>\n",
       "\t<tr><th scope=col>&lt;chr&gt;</th><th scope=col>&lt;chr&gt;</th><th scope=col>&lt;int&gt;</th><th scope=col>&lt;int&gt;</th></tr>\n",
       "</thead>\n",
       "<tbody>\n",
       "\t<tr><td>non_test_wiki</td><td>false</td><td>   3540</td><td>   1422</td></tr>\n",
       "\t<tr><td>non_test_wiki</td><td>true </td><td>    147</td><td>     80</td></tr>\n",
       "\t<tr><td>test_wiki    </td><td>false</td><td> 102371</td><td>  41836</td></tr>\n",
       "\t<tr><td>test_wiki    </td><td>true </td><td>3325559</td><td>1922334</td></tr>\n",
       "</tbody>\n",
       "</table>\n"
      ],
      "text/latex": [
       "A grouped\\_df: 4 × 4\n",
       "\\begin{tabular}{llll}\n",
       " istestwiki & isanon & n\\_events & n\\_sessions\\\\\n",
       " <chr> & <chr> & <int> & <int>\\\\\n",
       "\\hline\n",
       "\t non\\_test\\_wiki & false &    3540 &    1422\\\\\n",
       "\t non\\_test\\_wiki & true  &     147 &      80\\\\\n",
       "\t test\\_wiki     & false &  102371 &   41836\\\\\n",
       "\t test\\_wiki     & true  & 3325559 & 1922334\\\\\n",
       "\\end{tabular}\n"
      ],
      "text/markdown": [
       "\n",
       "A grouped_df: 4 × 4\n",
       "\n",
       "| istestwiki &lt;chr&gt; | isanon &lt;chr&gt; | n_events &lt;int&gt; | n_sessions &lt;int&gt; |\n",
       "|---|---|---|---|\n",
       "| non_test_wiki | false |    3540 |    1422 |\n",
       "| non_test_wiki | true  |     147 |      80 |\n",
       "| test_wiki     | false |  102371 |   41836 |\n",
       "| test_wiki     | true  | 3325559 | 1922334 |\n",
       "\n"
      ],
      "text/plain": [
       "  istestwiki    isanon n_events n_sessions\n",
       "1 non_test_wiki false     3540     1422   \n",
       "2 non_test_wiki true       147       80   \n",
       "3 test_wiki     false   102371    41836   \n",
       "4 test_wiki     true   3325559  1922334   "
      ]
     },
     "metadata": {},
     "output_type": "display_data"
    }
   ],
   "source": [
    "# events and sessions that include link to language link by test wiki category and logged-in status\n",
    "lang_link_events_testwiki_isanon <- lang_link_events %>%\n",
    "    mutate(istestwiki = ifelse(wiki %in% c('frwiktionary', 'hewiki', 'ptwikiversity', 'frwiki', \n",
    "    'euwiki', 'fawiki', 'ptwiki', 'kowiki', 'trwiki', 'srwiki', 'bnwiki', 'dewikivoyage', 'vecwiki' ), 'test_wiki', 'non_test_wiki')) %>%\n",
    "    group_by(istestwiki, isanon) %>%\n",
    "    summarize(n_events = sum(n_events),\n",
    "             n_sessions = n_distinct(web_session_id))\n",
    "\n",
    "lang_link_events_testwiki_isanon"
   ]
  },
  {
   "cell_type": "markdown",
   "metadata": {},
   "source": [
    "Almost all of the events recorded to date (99%) have been on test wikis. This is expected as the new language switcher button was deployed to all users opt'd in to the modern vector on all non test wikis. Users with modern vector on the test wikis have not been shown the new language switcher and still shown the language links in the sidebar.\n",
    "\n",
    "On non test wikis, the majority (94.67%) of sessions with clicks to the language list on modern vector come from logged-in users. Need to confirm if it's possible to have language link in sidebar if you are logged-in, on modern vector and on a non test wiki. \n"
   ]
  },
  {
   "cell_type": "markdown",
   "metadata": {},
   "source": [
    "## By User Edit Bucket"
   ]
  },
  {
   "cell_type": "code",
   "execution_count": 30,
   "metadata": {},
   "outputs": [
    {
     "name": "stderr",
     "output_type": "stream",
     "text": [
      "`summarise()` ungrouping output (override with `.groups` argument)\n",
      "\n"
     ]
    },
    {
     "data": {
      "text/html": [
       "<table>\n",
       "<caption>A tibble: 6 × 3</caption>\n",
       "<thead>\n",
       "\t<tr><th scope=col>usereditbucket</th><th scope=col>n_events</th><th scope=col>n_sessions</th></tr>\n",
       "\t<tr><th scope=col>&lt;chr&gt;</th><th scope=col>&lt;int&gt;</th><th scope=col>&lt;int&gt;</th></tr>\n",
       "</thead>\n",
       "<tbody>\n",
       "\t<tr><td>0 edits      </td><td>20092</td><td>10961</td></tr>\n",
       "\t<tr><td>1-4 edits    </td><td>11510</td><td> 5643</td></tr>\n",
       "\t<tr><td>100-999 edits</td><td>17264</td><td> 6533</td></tr>\n",
       "\t<tr><td>1000+ edits  </td><td>31482</td><td> 8932</td></tr>\n",
       "\t<tr><td>5-99 edits   </td><td>25556</td><td>11332</td></tr>\n",
       "\t<tr><td>NULL         </td><td>    7</td><td>    5</td></tr>\n",
       "</tbody>\n",
       "</table>\n"
      ],
      "text/latex": [
       "A tibble: 6 × 3\n",
       "\\begin{tabular}{lll}\n",
       " usereditbucket & n\\_events & n\\_sessions\\\\\n",
       " <chr> & <int> & <int>\\\\\n",
       "\\hline\n",
       "\t 0 edits       & 20092 & 10961\\\\\n",
       "\t 1-4 edits     & 11510 &  5643\\\\\n",
       "\t 100-999 edits & 17264 &  6533\\\\\n",
       "\t 1000+ edits   & 31482 &  8932\\\\\n",
       "\t 5-99 edits    & 25556 & 11332\\\\\n",
       "\t NULL          &     7 &     5\\\\\n",
       "\\end{tabular}\n"
      ],
      "text/markdown": [
       "\n",
       "A tibble: 6 × 3\n",
       "\n",
       "| usereditbucket &lt;chr&gt; | n_events &lt;int&gt; | n_sessions &lt;int&gt; |\n",
       "|---|---|---|\n",
       "| 0 edits       | 20092 | 10961 |\n",
       "| 1-4 edits     | 11510 |  5643 |\n",
       "| 100-999 edits | 17264 |  6533 |\n",
       "| 1000+ edits   | 31482 |  8932 |\n",
       "| 5-99 edits    | 25556 | 11332 |\n",
       "| NULL          |     7 |     5 |\n",
       "\n"
      ],
      "text/plain": [
       "  usereditbucket n_events n_sessions\n",
       "1 0 edits        20092    10961     \n",
       "2 1-4 edits      11510     5643     \n",
       "3 100-999 edits  17264     6533     \n",
       "4 1000+ edits    31482     8932     \n",
       "5 5-99 edits     25556    11332     \n",
       "6 NULL               7        5     "
      ]
     },
     "metadata": {},
     "output_type": "display_data"
    }
   ],
   "source": [
    "logged_in_editcount <- lang_link_events %>%\n",
    "    filter(isanon == 'false') %>%\n",
    "    group_by(usereditbucket) %>%\n",
    "    summarize(n_events = sum(n_events),\n",
    "             n_sessions = n_distinct(web_session_id))\n",
    "\n",
    "logged_in_editcount"
   ]
  },
  {
   "cell_type": "code",
   "execution_count": 31,
   "metadata": {},
   "outputs": [
    {
     "name": "stderr",
     "output_type": "stream",
     "text": [
      "`summarise()` ungrouping output (override with `.groups` argument)\n",
      "\n"
     ]
    },
    {
     "data": {
      "text/html": [
       "<table>\n",
       "<caption>A tibble: 2 × 3</caption>\n",
       "<thead>\n",
       "\t<tr><th scope=col>usereditbucket</th><th scope=col>n_events</th><th scope=col>n_sessions</th></tr>\n",
       "\t<tr><th scope=col>&lt;chr&gt;</th><th scope=col>&lt;int&gt;</th><th scope=col>&lt;int&gt;</th></tr>\n",
       "</thead>\n",
       "<tbody>\n",
       "\t<tr><td>5-99 edits</td><td>      1</td><td>      1</td></tr>\n",
       "\t<tr><td>NULL      </td><td>3325705</td><td>1922412</td></tr>\n",
       "</tbody>\n",
       "</table>\n"
      ],
      "text/latex": [
       "A tibble: 2 × 3\n",
       "\\begin{tabular}{lll}\n",
       " usereditbucket & n\\_events & n\\_sessions\\\\\n",
       " <chr> & <int> & <int>\\\\\n",
       "\\hline\n",
       "\t 5-99 edits &       1 &       1\\\\\n",
       "\t NULL       & 3325705 & 1922412\\\\\n",
       "\\end{tabular}\n"
      ],
      "text/markdown": [
       "\n",
       "A tibble: 2 × 3\n",
       "\n",
       "| usereditbucket &lt;chr&gt; | n_events &lt;int&gt; | n_sessions &lt;int&gt; |\n",
       "|---|---|---|\n",
       "| 5-99 edits |       1 |       1 |\n",
       "| NULL       | 3325705 | 1922412 |\n",
       "\n"
      ],
      "text/plain": [
       "  usereditbucket n_events n_sessions\n",
       "1 5-99 edits           1        1   \n",
       "2 NULL           3325705  1922412   "
      ]
     },
     "metadata": {},
     "output_type": "display_data"
    }
   ],
   "source": [
    "logged_out_editcount <- lang_link_events %>%\n",
    "    filter(isanon == 'true') %>%\n",
    "    group_by(usereditbucket) %>%\n",
    "    summarize(n_events = sum(n_events),\n",
    "             n_sessions = n_distinct(web_session_id))\n",
    "\n",
    "logged_out_editcount"
   ]
  },
  {
   "cell_type": "markdown",
   "metadata": {},
   "source": [
    "There are just a few instances (under 0.01%) of the event.usereditbucket field being populated for logged out users and recorded as NULL for logged-in users. Further investigation might be needed; however, the numbers of these events is not high enough to skew the data."
   ]
  },
  {
   "cell_type": "markdown",
   "metadata": {},
   "source": [
    "## By Final Language"
   ]
  },
  {
   "cell_type": "code",
   "execution_count": 43,
   "metadata": {},
   "outputs": [
    {
     "name": "stderr",
     "output_type": "stream",
     "text": [
      "`summarise()` regrouping output by 'selectedinterfacelanguage' (override with `.groups` argument)\n",
      "\n"
     ]
    },
    {
     "data": {
      "text/html": [
       "<table>\n",
       "<caption>A grouped_df: 6 × 3</caption>\n",
       "<thead>\n",
       "\t<tr><th scope=col>selectedinterfacelanguage</th><th scope=col>n_sessions</th><th scope=col>pct_sessions</th></tr>\n",
       "\t<tr><th scope=col>&lt;chr&gt;</th><th scope=col>&lt;int&gt;</th><th scope=col>&lt;dbl&gt;</th></tr>\n",
       "</thead>\n",
       "<tbody>\n",
       "\t<tr><td>en</td><td>1443105</td><td>0.73470332</td></tr>\n",
       "\t<tr><td>es</td><td> 128358</td><td>0.06534871</td></tr>\n",
       "\t<tr><td>de</td><td> 125061</td><td>0.06367016</td></tr>\n",
       "\t<tr><td>it</td><td>  65010</td><td>0.03309743</td></tr>\n",
       "\t<tr><td>ar</td><td>  64408</td><td>0.03279094</td></tr>\n",
       "\t<tr><td>ru</td><td>  52428</td><td>0.02669177</td></tr>\n",
       "</tbody>\n",
       "</table>\n"
      ],
      "text/latex": [
       "A grouped\\_df: 6 × 3\n",
       "\\begin{tabular}{lll}\n",
       " selectedinterfacelanguage & n\\_sessions & pct\\_sessions\\\\\n",
       " <chr> & <int> & <dbl>\\\\\n",
       "\\hline\n",
       "\t en & 1443105 & 0.73470332\\\\\n",
       "\t es &  128358 & 0.06534871\\\\\n",
       "\t de &  125061 & 0.06367016\\\\\n",
       "\t it &   65010 & 0.03309743\\\\\n",
       "\t ar &   64408 & 0.03279094\\\\\n",
       "\t ru &   52428 & 0.02669177\\\\\n",
       "\\end{tabular}\n"
      ],
      "text/markdown": [
       "\n",
       "A grouped_df: 6 × 3\n",
       "\n",
       "| selectedinterfacelanguage &lt;chr&gt; | n_sessions &lt;int&gt; | pct_sessions &lt;dbl&gt; |\n",
       "|---|---|---|\n",
       "| en | 1443105 | 0.73470332 |\n",
       "| es |  128358 | 0.06534871 |\n",
       "| de |  125061 | 0.06367016 |\n",
       "| it |   65010 | 0.03309743 |\n",
       "| ar |   64408 | 0.03279094 |\n",
       "| ru |   52428 | 0.02669177 |\n",
       "\n"
      ],
      "text/plain": [
       "  selectedinterfacelanguage n_sessions pct_sessions\n",
       "1 en                        1443105    0.73470332  \n",
       "2 es                         128358    0.06534871  \n",
       "3 de                         125061    0.06367016  \n",
       "4 it                          65010    0.03309743  \n",
       "5 ar                          64408    0.03279094  \n",
       "6 ru                          52428    0.02669177  "
      ]
     },
     "metadata": {},
     "output_type": "display_data"
    }
   ],
   "source": [
    "# test that you can switch from one language to the next.\n",
    "top_final_languages <- lang_link_events %>%\n",
    "    mutate(all_sessions = n_distinct(web_session_id)) %>%\n",
    "    group_by(selectedinterfacelanguage) %>%\n",
    "    summarize(n_sessions = n_distinct(web_session_id),\n",
    "             pct_sessions = n_sessions/all_sessions) %>%\n",
    "    distinct() %>%\n",
    "    arrange(desc(n_sessions))\n",
    "\n",
    "head(top_final_languages )"
   ]
  },
  {
   "cell_type": "markdown",
   "metadata": {},
   "source": [
    "The most frequent language switches are to english (73% of sessions) followed by spanish (6.5%), and german (6.3%)."
   ]
  },
  {
   "cell_type": "markdown",
   "metadata": {},
   "source": [
    "## By Initial Language "
   ]
  },
  {
   "cell_type": "code",
   "execution_count": 48,
   "metadata": {},
   "outputs": [
    {
     "name": "stderr",
     "output_type": "stream",
     "text": [
      "`summarise()` regrouping output by 'interfacelanguage', 'contentlanguage' (override with `.groups` argument)\n",
      "\n"
     ]
    },
    {
     "data": {
      "text/html": [
       "<table>\n",
       "<caption>A grouped_df: 6 × 4</caption>\n",
       "<thead>\n",
       "\t<tr><th scope=col>interfacelanguage</th><th scope=col>contentlanguage</th><th scope=col>n_sessions</th><th scope=col>pct_sessions</th></tr>\n",
       "\t<tr><th scope=col>&lt;chr&gt;</th><th scope=col>&lt;chr&gt;</th><th scope=col>&lt;int&gt;</th><th scope=col>&lt;dbl&gt;</th></tr>\n",
       "</thead>\n",
       "<tbody>\n",
       "\t<tr><td>fr</td><td>fr</td><td>1103742</td><td>0.56192925</td></tr>\n",
       "\t<tr><td>pt</td><td>pt</td><td> 328012</td><td>0.16699513</td></tr>\n",
       "\t<tr><td>tr</td><td>tr</td><td> 150977</td><td>0.07686433</td></tr>\n",
       "\t<tr><td>fa</td><td>fa</td><td> 109989</td><td>0.05599681</td></tr>\n",
       "\t<tr><td>he</td><td>he</td><td> 100125</td><td>0.05097493</td></tr>\n",
       "\t<tr><td>ko</td><td>ko</td><td>  81429</td><td>0.04145655</td></tr>\n",
       "</tbody>\n",
       "</table>\n"
      ],
      "text/latex": [
       "A grouped\\_df: 6 × 4\n",
       "\\begin{tabular}{llll}\n",
       " interfacelanguage & contentlanguage & n\\_sessions & pct\\_sessions\\\\\n",
       " <chr> & <chr> & <int> & <dbl>\\\\\n",
       "\\hline\n",
       "\t fr & fr & 1103742 & 0.56192925\\\\\n",
       "\t pt & pt &  328012 & 0.16699513\\\\\n",
       "\t tr & tr &  150977 & 0.07686433\\\\\n",
       "\t fa & fa &  109989 & 0.05599681\\\\\n",
       "\t he & he &  100125 & 0.05097493\\\\\n",
       "\t ko & ko &   81429 & 0.04145655\\\\\n",
       "\\end{tabular}\n"
      ],
      "text/markdown": [
       "\n",
       "A grouped_df: 6 × 4\n",
       "\n",
       "| interfacelanguage &lt;chr&gt; | contentlanguage &lt;chr&gt; | n_sessions &lt;int&gt; | pct_sessions &lt;dbl&gt; |\n",
       "|---|---|---|---|\n",
       "| fr | fr | 1103742 | 0.56192925 |\n",
       "| pt | pt |  328012 | 0.16699513 |\n",
       "| tr | tr |  150977 | 0.07686433 |\n",
       "| fa | fa |  109989 | 0.05599681 |\n",
       "| he | he |  100125 | 0.05097493 |\n",
       "| ko | ko |   81429 | 0.04145655 |\n",
       "\n"
      ],
      "text/plain": [
       "  interfacelanguage contentlanguage n_sessions pct_sessions\n",
       "1 fr                fr              1103742    0.56192925  \n",
       "2 pt                pt               328012    0.16699513  \n",
       "3 tr                tr               150977    0.07686433  \n",
       "4 fa                fa               109989    0.05599681  \n",
       "5 he                he               100125    0.05097493  \n",
       "6 ko                ko                81429    0.04145655  "
      ]
     },
     "metadata": {},
     "output_type": "display_data"
    }
   ],
   "source": [
    "\n",
    "top_initial_languages <- lang_link_events %>%\n",
    "    mutate(all_sessions = n_distinct(web_session_id)) %>%\n",
    "    group_by(interfacelanguage, contentlanguage) %>%\n",
    "    summarize(n_sessions = n_distinct(web_session_id),\n",
    "             pct_sessions = n_sessions/all_sessions) %>%\n",
    "    distinct() %>%\n",
    "    arrange(desc(n_sessions))\n",
    "\n",
    "head(top_initial_languages )"
   ]
  },
  {
   "cell_type": "markdown",
   "metadata": {},
   "source": [
    "The interfacelanguage and contentlanguage will usually be the same and should match for most instances, which is confirmed here.\n",
    "\n",
    "The top initial languages all from test wikis, which is expected since the language links are still shown to all logged-in and logged-out users on modern vector. The new language switcher, which replaces the lang links with a button, are show to all logged-in users opt'd into modern vector on non-test wikis. "
   ]
  },
  {
   "cell_type": "code",
   "execution_count": null,
   "metadata": {},
   "outputs": [],
   "source": [
    "## Most Frequent Switch Types\n"
   ]
  },
  {
   "cell_type": "code",
   "execution_count": 49,
   "metadata": {},
   "outputs": [
    {
     "name": "stderr",
     "output_type": "stream",
     "text": [
      "`summarise()` regrouping output by 'interfacelanguage', 'selectedinterfacelanguage' (override with `.groups` argument)\n",
      "\n"
     ]
    },
    {
     "data": {
      "text/html": [
       "<table>\n",
       "<caption>A grouped_df: 6 × 4</caption>\n",
       "<thead>\n",
       "\t<tr><th scope=col>interfacelanguage</th><th scope=col>selectedinterfacelanguage</th><th scope=col>n_sessions</th><th scope=col>pct_sessions</th></tr>\n",
       "\t<tr><th scope=col>&lt;chr&gt;</th><th scope=col>&lt;chr&gt;</th><th scope=col>&lt;int&gt;</th><th scope=col>&lt;dbl&gt;</th></tr>\n",
       "</thead>\n",
       "<tbody>\n",
       "\t<tr><td>fr</td><td>en</td><td>775769</td><td>0.39495398</td></tr>\n",
       "\t<tr><td>pt</td><td>en</td><td>264373</td><td>0.13459570</td></tr>\n",
       "\t<tr><td>tr</td><td>en</td><td>118824</td><td>0.06049483</td></tr>\n",
       "\t<tr><td>fa</td><td>en</td><td> 95622</td><td>0.04868239</td></tr>\n",
       "\t<tr><td>fr</td><td>de</td><td> 94915</td><td>0.04832245</td></tr>\n",
       "\t<tr><td>he</td><td>en</td><td> 84668</td><td>0.04310557</td></tr>\n",
       "</tbody>\n",
       "</table>\n"
      ],
      "text/latex": [
       "A grouped\\_df: 6 × 4\n",
       "\\begin{tabular}{llll}\n",
       " interfacelanguage & selectedinterfacelanguage & n\\_sessions & pct\\_sessions\\\\\n",
       " <chr> & <chr> & <int> & <dbl>\\\\\n",
       "\\hline\n",
       "\t fr & en & 775769 & 0.39495398\\\\\n",
       "\t pt & en & 264373 & 0.13459570\\\\\n",
       "\t tr & en & 118824 & 0.06049483\\\\\n",
       "\t fa & en &  95622 & 0.04868239\\\\\n",
       "\t fr & de &  94915 & 0.04832245\\\\\n",
       "\t he & en &  84668 & 0.04310557\\\\\n",
       "\\end{tabular}\n"
      ],
      "text/markdown": [
       "\n",
       "A grouped_df: 6 × 4\n",
       "\n",
       "| interfacelanguage &lt;chr&gt; | selectedinterfacelanguage &lt;chr&gt; | n_sessions &lt;int&gt; | pct_sessions &lt;dbl&gt; |\n",
       "|---|---|---|---|\n",
       "| fr | en | 775769 | 0.39495398 |\n",
       "| pt | en | 264373 | 0.13459570 |\n",
       "| tr | en | 118824 | 0.06049483 |\n",
       "| fa | en |  95622 | 0.04868239 |\n",
       "| fr | de |  94915 | 0.04832245 |\n",
       "| he | en |  84668 | 0.04310557 |\n",
       "\n"
      ],
      "text/plain": [
       "  interfacelanguage selectedinterfacelanguage n_sessions pct_sessions\n",
       "1 fr                en                        775769     0.39495398  \n",
       "2 pt                en                        264373     0.13459570  \n",
       "3 tr                en                        118824     0.06049483  \n",
       "4 fa                en                         95622     0.04868239  \n",
       "5 fr                de                         94915     0.04832245  \n",
       "6 he                en                         84668     0.04310557  "
      ]
     },
     "metadata": {},
     "output_type": "display_data"
    }
   ],
   "source": [
    "top_final_languages <- lang_link_events %>%\n",
    "    mutate(all_sessions = n_distinct(web_session_id)) %>%\n",
    "    group_by(interfacelanguage, selectedinterfacelanguage) %>%\n",
    "    summarize(n_sessions = n_distinct(web_session_id),\n",
    "             pct_sessions = n_sessions/all_sessions) %>%\n",
    "    distinct() %>%\n",
    "    arrange(desc(n_sessions))\n",
    "\n",
    "head(top_final_languages )"
   ]
  },
  {
   "cell_type": "markdown",
   "metadata": {},
   "source": [
    "39% of all sessions are switches are from French to English. "
   ]
  }
 ],
 "metadata": {
  "kernelspec": {
   "display_name": "R",
   "language": "R",
   "name": "ir"
  },
  "language_info": {
   "codemirror_mode": "r",
   "file_extension": ".r",
   "mimetype": "text/x-r-source",
   "name": "R",
   "pygments_lexer": "r",
   "version": "3.5.2"
  }
 },
 "nbformat": 4,
 "nbformat_minor": 4
}
